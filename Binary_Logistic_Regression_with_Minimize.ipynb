{
 "cells": [
  {
   "cell_type": "markdown",
   "metadata": {},
   "source": [
    "# Logistic Regression"
   ]
  },
  {
   "cell_type": "code",
   "execution_count": 1,
   "metadata": {
    "tags": [
     "hide-cell"
    ]
   },
   "outputs": [],
   "source": [
    "import numpy as np\n",
    "import pandas as pd\n",
    "# Safe settings for Pandas.\n",
    "pd.set_option('mode.chained_assignment', 'raise')\n",
    "%matplotlib inline\n",
    "import matplotlib.pyplot as plt\n",
    "# Make the plots look more fancy.\n",
    "plt.style.use('fivethirtyeight')\n",
    "# Optimization function\n",
    "from scipy.optimize import minimize"
   ]
  },
  {
   "cell_type": "markdown",
   "metadata": {},
   "source": [
    "By Peter Rush and Matthew Brett, with considerable inspiration from the\n",
    "logistic regression section of Allen Downey's book [Think Stats, second\n",
    "edition](https://greenteapress.com/thinkstats2).\n",
    "\n",
    "In this section we will look at another regression technique: logistic\n",
    "regression.\n",
    "\n",
    "We use logistic regression when we want to predict a *binary categorical*\n",
    "outcome variable (or column) from one or more predicting variables (or\n",
    "columns).\n",
    "\n",
    "A binary categorical variable is one where an observation can fall into one of\n",
    "only two categories. We give each observation a label corresponding to their\n",
    "category.  Some examples are:\n",
    "\n",
    "* Did a patient die or did they survive through 6 months of treatment?  The\n",
    "  patient can only be in only one of the categories.  In some column of our\n",
    "  data table, patients that died might have the label \"died\", and those who\n",
    "  have survived have the label \"survived\".\n",
    "* Did a person experience more than one episode of psychosis in the last 5\n",
    "  years (\"yes\" or \"no\")?\n",
    "* Did a person with a conviction for one offense offend again (\"yes\" or \"no\")?\n",
    "\n",
    "For this tutorial, we return to the [chronic kidney disease\n",
    "dataset](../data/chronic_kidney_disease).\n",
    "\n",
    "Each row in this dataset represents one patient.\n",
    "\n",
    "For each patient, the doctors recorded whether or not the patient had chronic\n",
    "kidney disease. This is a *binary categorical variable*; you can see the\n",
    "values in the \"Class\" column. A value of 1 means the patient *did* have CKD; a\n",
    "value of 0 means they *did not*.  In this case we are labeling the categories\n",
    "with numbers (1 / 0).\n",
    "\n",
    "Many of the rest of the columns are measurements from blood tests and urine tests."
   ]
  },
  {
   "cell_type": "code",
   "execution_count": 2,
   "metadata": {},
   "outputs": [
    {
     "data": {
      "text/html": [
       "<div>\n",
       "<style scoped>\n",
       "    .dataframe tbody tr th:only-of-type {\n",
       "        vertical-align: middle;\n",
       "    }\n",
       "\n",
       "    .dataframe tbody tr th {\n",
       "        vertical-align: top;\n",
       "    }\n",
       "\n",
       "    .dataframe thead th {\n",
       "        text-align: right;\n",
       "    }\n",
       "</style>\n",
       "<table border=\"1\" class=\"dataframe\">\n",
       "  <thead>\n",
       "    <tr style=\"text-align: right;\">\n",
       "      <th></th>\n",
       "      <th>Age</th>\n",
       "      <th>Blood Pressure</th>\n",
       "      <th>Specific Gravity</th>\n",
       "      <th>Albumin</th>\n",
       "      <th>Sugar</th>\n",
       "      <th>Red Blood Cells</th>\n",
       "      <th>Pus Cell</th>\n",
       "      <th>Pus Cell clumps</th>\n",
       "      <th>Bacteria</th>\n",
       "      <th>Blood Glucose Random</th>\n",
       "      <th>...</th>\n",
       "      <th>Packed Cell Volume</th>\n",
       "      <th>White Blood Cell Count</th>\n",
       "      <th>Red Blood Cell Count</th>\n",
       "      <th>Hypertension</th>\n",
       "      <th>Diabetes Mellitus</th>\n",
       "      <th>Coronary Artery Disease</th>\n",
       "      <th>Appetite</th>\n",
       "      <th>Pedal Edema</th>\n",
       "      <th>Anemia</th>\n",
       "      <th>Class</th>\n",
       "    </tr>\n",
       "  </thead>\n",
       "  <tbody>\n",
       "    <tr>\n",
       "      <th>0</th>\n",
       "      <td>48.0</td>\n",
       "      <td>70.0</td>\n",
       "      <td>1.005</td>\n",
       "      <td>4.0</td>\n",
       "      <td>0.0</td>\n",
       "      <td>normal</td>\n",
       "      <td>abnormal</td>\n",
       "      <td>present</td>\n",
       "      <td>notpresent</td>\n",
       "      <td>117.0</td>\n",
       "      <td>...</td>\n",
       "      <td>32.0</td>\n",
       "      <td>6700.0</td>\n",
       "      <td>3.9</td>\n",
       "      <td>yes</td>\n",
       "      <td>no</td>\n",
       "      <td>no</td>\n",
       "      <td>poor</td>\n",
       "      <td>yes</td>\n",
       "      <td>yes</td>\n",
       "      <td>1</td>\n",
       "    </tr>\n",
       "    <tr>\n",
       "      <th>1</th>\n",
       "      <td>53.0</td>\n",
       "      <td>90.0</td>\n",
       "      <td>1.020</td>\n",
       "      <td>2.0</td>\n",
       "      <td>0.0</td>\n",
       "      <td>abnormal</td>\n",
       "      <td>abnormal</td>\n",
       "      <td>present</td>\n",
       "      <td>notpresent</td>\n",
       "      <td>70.0</td>\n",
       "      <td>...</td>\n",
       "      <td>29.0</td>\n",
       "      <td>12100.0</td>\n",
       "      <td>3.7</td>\n",
       "      <td>yes</td>\n",
       "      <td>yes</td>\n",
       "      <td>no</td>\n",
       "      <td>poor</td>\n",
       "      <td>no</td>\n",
       "      <td>yes</td>\n",
       "      <td>1</td>\n",
       "    </tr>\n",
       "    <tr>\n",
       "      <th>2</th>\n",
       "      <td>63.0</td>\n",
       "      <td>70.0</td>\n",
       "      <td>1.010</td>\n",
       "      <td>3.0</td>\n",
       "      <td>0.0</td>\n",
       "      <td>abnormal</td>\n",
       "      <td>abnormal</td>\n",
       "      <td>present</td>\n",
       "      <td>notpresent</td>\n",
       "      <td>380.0</td>\n",
       "      <td>...</td>\n",
       "      <td>32.0</td>\n",
       "      <td>4500.0</td>\n",
       "      <td>3.8</td>\n",
       "      <td>yes</td>\n",
       "      <td>yes</td>\n",
       "      <td>no</td>\n",
       "      <td>poor</td>\n",
       "      <td>yes</td>\n",
       "      <td>no</td>\n",
       "      <td>1</td>\n",
       "    </tr>\n",
       "    <tr>\n",
       "      <th>3</th>\n",
       "      <td>68.0</td>\n",
       "      <td>80.0</td>\n",
       "      <td>1.010</td>\n",
       "      <td>3.0</td>\n",
       "      <td>2.0</td>\n",
       "      <td>normal</td>\n",
       "      <td>abnormal</td>\n",
       "      <td>present</td>\n",
       "      <td>present</td>\n",
       "      <td>157.0</td>\n",
       "      <td>...</td>\n",
       "      <td>16.0</td>\n",
       "      <td>11000.0</td>\n",
       "      <td>2.6</td>\n",
       "      <td>yes</td>\n",
       "      <td>yes</td>\n",
       "      <td>yes</td>\n",
       "      <td>poor</td>\n",
       "      <td>yes</td>\n",
       "      <td>no</td>\n",
       "      <td>1</td>\n",
       "    </tr>\n",
       "    <tr>\n",
       "      <th>4</th>\n",
       "      <td>61.0</td>\n",
       "      <td>80.0</td>\n",
       "      <td>1.015</td>\n",
       "      <td>2.0</td>\n",
       "      <td>0.0</td>\n",
       "      <td>abnormal</td>\n",
       "      <td>abnormal</td>\n",
       "      <td>notpresent</td>\n",
       "      <td>notpresent</td>\n",
       "      <td>173.0</td>\n",
       "      <td>...</td>\n",
       "      <td>24.0</td>\n",
       "      <td>9200.0</td>\n",
       "      <td>3.2</td>\n",
       "      <td>yes</td>\n",
       "      <td>yes</td>\n",
       "      <td>yes</td>\n",
       "      <td>poor</td>\n",
       "      <td>yes</td>\n",
       "      <td>yes</td>\n",
       "      <td>1</td>\n",
       "    </tr>\n",
       "  </tbody>\n",
       "</table>\n",
       "<p>5 rows × 25 columns</p>\n",
       "</div>"
      ],
      "text/plain": [
       "    Age  Blood Pressure  Specific Gravity  Albumin  Sugar Red Blood Cells  \\\n",
       "0  48.0            70.0             1.005      4.0    0.0          normal   \n",
       "1  53.0            90.0             1.020      2.0    0.0        abnormal   \n",
       "2  63.0            70.0             1.010      3.0    0.0        abnormal   \n",
       "3  68.0            80.0             1.010      3.0    2.0          normal   \n",
       "4  61.0            80.0             1.015      2.0    0.0        abnormal   \n",
       "\n",
       "   Pus Cell Pus Cell clumps    Bacteria  Blood Glucose Random  ...  \\\n",
       "0  abnormal         present  notpresent                 117.0  ...   \n",
       "1  abnormal         present  notpresent                  70.0  ...   \n",
       "2  abnormal         present  notpresent                 380.0  ...   \n",
       "3  abnormal         present     present                 157.0  ...   \n",
       "4  abnormal      notpresent  notpresent                 173.0  ...   \n",
       "\n",
       "   Packed Cell Volume  White Blood Cell Count  Red Blood Cell Count  \\\n",
       "0                32.0                  6700.0                   3.9   \n",
       "1                29.0                 12100.0                   3.7   \n",
       "2                32.0                  4500.0                   3.8   \n",
       "3                16.0                 11000.0                   2.6   \n",
       "4                24.0                  9200.0                   3.2   \n",
       "\n",
       "   Hypertension  Diabetes Mellitus  Coronary Artery Disease  Appetite  \\\n",
       "0           yes                 no                       no      poor   \n",
       "1           yes                yes                       no      poor   \n",
       "2           yes                yes                       no      poor   \n",
       "3           yes                yes                      yes      poor   \n",
       "4           yes                yes                      yes      poor   \n",
       "\n",
       "   Pedal Edema Anemia Class  \n",
       "0          yes    yes     1  \n",
       "1           no    yes     1  \n",
       "2          yes     no     1  \n",
       "3          yes     no     1  \n",
       "4          yes    yes     1  \n",
       "\n",
       "[5 rows x 25 columns]"
      ]
     },
     "execution_count": 2,
     "metadata": {},
     "output_type": "execute_result"
    }
   ],
   "source": [
    "df = pd.read_csv('ckd_clean.csv')\n",
    "df.head()"
   ]
  },
  {
   "cell_type": "markdown",
   "metadata": {},
   "source": [
    "There are actually a large number of binary categorical variables in this\n",
    "dataset.   For example, the \"Hypertension\" column has labels for the two\n",
    "categories \"yes\" (the patient had persistently high blood pressure) or \"no\".\n",
    "\n",
    "The categorical variable we are interested in here is \"Appetite\".  This has\n",
    "the label \"good\" for patients with good appetite, and \"poor\" for those with\n",
    "poor appetite.  Poor appetite is a [symptom of chronic kidney\n",
    "disease](https://www.sciencedirect.com/science/article/abs/pii/S0270929508001666).  In our case, we wonder whether the extent of kidney damage does a convincing job in predicting whether the patient has a \"good\" appetite.\n",
    "\n",
    "As you remember, the CKD dataset has a column \"Hemoglobin\" that has the\n",
    "concentration of hemoglobin from a blood sample.  Hemoglobin is the molecule\n",
    "that carries oxygen in the blood; it is the molecule that makes the red blood\n",
    "cells red.  Damaged kidneys produce lower concentrations of the hormone that\n",
    "stimulates red blood cell production,\n",
    "[erythropoietin](https://en.wikipedia.org/wiki/Erythropoietin), so CKD\n",
    "patients often have fewer red blood cells, and lower concentrations of\n",
    "Hemoglobin.  We will take lower \"Hemoglobin\" as a index of kidney damage.\n",
    "Therefore, we predict that patients with lower \"Hemoglobin\" values are more\n",
    "likely to have `poor` \"Appetite\" values, and, conversely, patients with higher\n",
    "\"Hemoglobin\" values are more likely to have `good` \"Appetite\" values.\n",
    "\n",
    "First we make a new data frame that just has the two columns we are interested\n",
    "in:"
   ]
  },
  {
   "cell_type": "code",
   "execution_count": 3,
   "metadata": {},
   "outputs": [
    {
     "data": {
      "text/html": [
       "<div>\n",
       "<style scoped>\n",
       "    .dataframe tbody tr th:only-of-type {\n",
       "        vertical-align: middle;\n",
       "    }\n",
       "\n",
       "    .dataframe tbody tr th {\n",
       "        vertical-align: top;\n",
       "    }\n",
       "\n",
       "    .dataframe thead th {\n",
       "        text-align: right;\n",
       "    }\n",
       "</style>\n",
       "<table border=\"1\" class=\"dataframe\">\n",
       "  <thead>\n",
       "    <tr style=\"text-align: right;\">\n",
       "      <th></th>\n",
       "      <th>Hemoglobin</th>\n",
       "      <th>Appetite</th>\n",
       "    </tr>\n",
       "  </thead>\n",
       "  <tbody>\n",
       "    <tr>\n",
       "      <th>0</th>\n",
       "      <td>11.2</td>\n",
       "      <td>poor</td>\n",
       "    </tr>\n",
       "    <tr>\n",
       "      <th>1</th>\n",
       "      <td>9.5</td>\n",
       "      <td>poor</td>\n",
       "    </tr>\n",
       "    <tr>\n",
       "      <th>2</th>\n",
       "      <td>10.8</td>\n",
       "      <td>poor</td>\n",
       "    </tr>\n",
       "    <tr>\n",
       "      <th>3</th>\n",
       "      <td>5.6</td>\n",
       "      <td>poor</td>\n",
       "    </tr>\n",
       "    <tr>\n",
       "      <th>4</th>\n",
       "      <td>7.7</td>\n",
       "      <td>poor</td>\n",
       "    </tr>\n",
       "  </tbody>\n",
       "</table>\n",
       "</div>"
      ],
      "text/plain": [
       "   Hemoglobin Appetite\n",
       "0        11.2     poor\n",
       "1         9.5     poor\n",
       "2        10.8     poor\n",
       "3         5.6     poor\n",
       "4         7.7     poor"
      ]
     },
     "execution_count": 3,
     "metadata": {},
     "output_type": "execute_result"
    }
   ],
   "source": [
    "hgb_app = df.loc[:, ['Hemoglobin', 'Appetite']].copy()\n",
    "hgb_app.head()"
   ]
  },
  {
   "cell_type": "markdown",
   "metadata": {},
   "source": [
    "## Dummy Variables\n",
    "\n",
    "We will soon find ourselves wanting to do calculations on the values in the\n",
    "\"Appetite\" column, and we cannot easily do that with the current string values\n",
    "of \"good\" and \"poor\".   Our next step is to recode the string values to\n",
    "numbers, ready for our calculations.  We use 1 to represent \"good\" and 0 to\n",
    "represent \"poor\".  This kind of recoding, where we replace category labels\n",
    "with 1 and 0 values, is often called *dummy coding*."
   ]
  },
  {
   "cell_type": "code",
   "execution_count": 4,
   "metadata": {},
   "outputs": [
    {
     "data": {
      "text/html": [
       "<div>\n",
       "<style scoped>\n",
       "    .dataframe tbody tr th:only-of-type {\n",
       "        vertical-align: middle;\n",
       "    }\n",
       "\n",
       "    .dataframe tbody tr th {\n",
       "        vertical-align: top;\n",
       "    }\n",
       "\n",
       "    .dataframe thead th {\n",
       "        text-align: right;\n",
       "    }\n",
       "</style>\n",
       "<table border=\"1\" class=\"dataframe\">\n",
       "  <thead>\n",
       "    <tr style=\"text-align: right;\">\n",
       "      <th></th>\n",
       "      <th>Hemoglobin</th>\n",
       "      <th>Appetite</th>\n",
       "      <th>appetite_dummy</th>\n",
       "    </tr>\n",
       "  </thead>\n",
       "  <tbody>\n",
       "    <tr>\n",
       "      <th>0</th>\n",
       "      <td>11.2</td>\n",
       "      <td>poor</td>\n",
       "      <td>0</td>\n",
       "    </tr>\n",
       "    <tr>\n",
       "      <th>1</th>\n",
       "      <td>9.5</td>\n",
       "      <td>poor</td>\n",
       "      <td>0</td>\n",
       "    </tr>\n",
       "    <tr>\n",
       "      <th>2</th>\n",
       "      <td>10.8</td>\n",
       "      <td>poor</td>\n",
       "      <td>0</td>\n",
       "    </tr>\n",
       "    <tr>\n",
       "      <th>3</th>\n",
       "      <td>5.6</td>\n",
       "      <td>poor</td>\n",
       "      <td>0</td>\n",
       "    </tr>\n",
       "    <tr>\n",
       "      <th>4</th>\n",
       "      <td>7.7</td>\n",
       "      <td>poor</td>\n",
       "      <td>0</td>\n",
       "    </tr>\n",
       "  </tbody>\n",
       "</table>\n",
       "</div>"
      ],
      "text/plain": [
       "   Hemoglobin Appetite  appetite_dummy\n",
       "0        11.2     poor               0\n",
       "1         9.5     poor               0\n",
       "2        10.8     poor               0\n",
       "3         5.6     poor               0\n",
       "4         7.7     poor               0"
      ]
     },
     "execution_count": 4,
     "metadata": {},
     "output_type": "execute_result"
    }
   ],
   "source": [
    "# Make a Boolean Series (True, False)\n",
    "good_appetite = hgb_app['Appetite'] == 'good'\n",
    "# Convert to an integer (1 for True, 0 for False), and store.\n",
    "hgb_app['appetite_dummy'] = good_appetite.astype(int)\n",
    "hgb_app.head()"
   ]
  },
  {
   "cell_type": "markdown",
   "metadata": {},
   "source": [
    "*Note*: When you are doing this, be sure to keep track of which label you have\n",
    "coded as 1. Normally this would be the more interesting outcome.  In this\n",
    "case, \"good\" has the code 1. Keep track of the label corresponding to 1, as it\n",
    "will affect the interpretation of the regression coefficients.\n",
    "\n",
    "Now we have the dummy (1 or 0) variable, let us use a scatter plot to look at\n",
    "the relationship between hemoglobin concentration and whether a patient has a\n",
    "good appetite.\n",
    "\n",
    "Before we do this, it is convenient to add another column to color the \"good\" and \"poor\" appetite points:"
   ]
  },
  {
   "cell_type": "code",
   "execution_count": 5,
   "metadata": {},
   "outputs": [],
   "source": [
    "hgb_app['appetite_color'] = 'red'\n",
    "hgb_app.loc[good_appetite, 'appetite_color'] = 'blue'"
   ]
  },
  {
   "cell_type": "markdown",
   "metadata": {},
   "source": [
    "Now we can plot the hemoglobin values on the x axis (our predictor) against\n",
    "the appetite values on the y axis (the values to predict)."
   ]
  },
  {
   "cell_type": "code",
   "execution_count": 6,
   "metadata": {
    "tags": [
     "hide-cell"
    ]
   },
   "outputs": [
    {
     "data": {
      "image/png": "[encoded data removed]",
      "text/plain": [
       "<Figure size 432x288 with 1 Axes>"
      ]
     },
     "metadata": {},
     "output_type": "display_data"
    }
   ],
   "source": [
    "# We will use this plotting code several times, so put into a function for\n",
    "# later use.\n",
    "\n",
    "def plot_hgb_app():\n",
    "    # Build plot, add custom label.\n",
    "    hgb_app.plot.scatter('Hemoglobin', 'appetite_dummy',\n",
    "                         c='appetite_color',\n",
    "                         legend=True)\n",
    "    plt.ylabel('Appetite\\n0 = poor, 1 = good')\n",
    "    plt.yticks([0,1]);  # Just label 0 and 1 on the y axis.\n",
    "    # Put a custom legend on the plot.  This code is a little obscure.\n",
    "    plt.scatter([], [], c='blue', label='good')\n",
    "    plt.scatter([], [], c='red', label='poor')\n",
    "\n",
    "# Do the plot\n",
    "plot_hgb_app()\n",
    "# Show the legend\n",
    "plt.legend();"
   ]
  },
  {
   "cell_type": "markdown",
   "metadata": {},
   "source": [
    "From the plot, it does look as if the patients with lower hemoglobin are more\n",
    "likely to have poor appetite (`appetite_dummy` values of 0), whereas patients\n",
    "with higher hemoglobin tend to have good appetite (`appetite_dummy` values of\n",
    "1).\n",
    "\n",
    "Now we start to get more formal, and develop a model with which we predict the\n",
    "`appetite_dummy` values from the  `Hemoglobin` values.\n"
   ]
  },
  {
   "cell_type": "markdown",
   "metadata": {},
   "source": [
    "## How about linear regression?"
   ]
  },
  {
   "cell_type": "markdown",
   "metadata": {},
   "source": [
    "Remember that, in linear regression, we predict scores on the *outcome*\n",
    "variable (or column) using a straight-line relationship of the *predictor*\n",
    "variable (or column).\n",
    "\n",
    "Why not use this same technique for our case?  After all, the `appetite_dummy`\n",
    "values are just numbers (0 and 1), as are our `Hemoglobin` values.\n",
    "\n",
    "Earlier in the textbook, we performed linear regression by using `minimize`, to\n",
    "find the value of the slope and intercept of the line which gives the smallest\n",
    "sum of the squared prediction errors.\n",
    "\n",
    "Recall that, in linear regression:\n",
    "\n",
    "$$\n",
    "\\text{predicted} = intercept + slope * \\text{predictor_variable}\n",
    "$$\n",
    "\n",
    "*predicted* and *predictor variable* here are sequences of values, with one\n",
    "value for each observation (row) in the dataset. In our case we have:"
   ]
  },
  {
   "cell_type": "code",
   "execution_count": 7,
   "metadata": {},
   "outputs": [
    {
     "name": "stdout",
     "output_type": "stream",
     "text": [
      "Rows in CKD data 158\n"
     ]
    }
   ],
   "source": [
    "print('Rows in CKD data', len(hgb_app))"
   ]
  },
  {
   "cell_type": "markdown",
   "metadata": {},
   "source": [
    "\"observations\" (patients), so there will be the same number of scores on the\n",
    "predictor variable (`Hemoglobin`), and the same number of predictions, in\n",
    "`predicted`. By contrast, the slope and intercept are single values, defining\n",
    "the line.\n",
    "\n",
    "We used `minimize` to find the values of the slope and intercept which give the\n",
    "\"best\" predictions.  So far, we have almost invariably defined the *best*\n",
    "values for slope and intercept as the values that give the smallest sum of the\n",
    "squared prediction errors.\n",
    "\n",
    "$$\n",
    "\\text{prediction errors} = \\text{actual variable - predicted}\n",
    "$$"
   ]
  },
  {
   "cell_type": "markdown",
   "metadata": {},
   "source": [
    "What would happen if we tried to use linear regression to predict the\n",
    "probability of having good appetite, based on hemoglobin concentrations?\n",
    "\n",
    "Let us start by grabbing the `ss_any_line` function from the [Using minimize\n",
    "page](../mean-slopes/using_minimize.html)."
   ]
  },
  {
   "cell_type": "code",
   "execution_count": 8,
   "metadata": {},
   "outputs": [],
   "source": [
    "def ss_any_line(c_s, x_values, y_values):\n",
    "    # c_s is a list containing two elements, an intercept and a slope.\n",
    "    intercept, slope = c_s\n",
    "    # Values predicted from these x_values, using this intercept and slope.\n",
    "    predicted = intercept + x_values * slope\n",
    "    # Difference of prediction from the actual y values.\n",
    "    error = y_values - predicted\n",
    "    # Sum of squared error.\n",
    "    return np.sum(error ** 2)"
   ]
  },
  {
   "cell_type": "markdown",
   "metadata": {},
   "source": [
    "The sum of squared prediction error, in linear regression, is our *cost*\n",
    "function. When we have a good pair of (intercept, slope) in `c_s`, our function\n",
    "is *cheap* - i.e. the returned value is small.  When we have a bad pair in\n",
    "`c_s`, our function is *expensive* - the returned value is large.\n",
    "\n",
    "If the value from `ss_any_line` is large, it means the line we are fitting does\n",
    "not fit the data well. The purpose of linear regression is to find the\n",
    "line which leads to the smallest cost.  In our case, the cost is the sum of the\n",
    "squared prediction errors.\n",
    "\n",
    "Let's use linear regression on the current example.  From looking at our plot above, we start with a guess of -1 for the intercept, and 0.1 for the slope."
   ]
  },
  {
   "cell_type": "code",
   "execution_count": 9,
   "metadata": {},
   "outputs": [
    {
     "data": {
      "text/plain": [
       "      fun: 10.315509522411862\n",
       " hess_inv: array([[ 0.07498683, -0.00524735],\n",
       "       [-0.00524735,  0.00038337]])\n",
       "      jac: array([-7.39097595e-06,  5.13792038e-05])\n",
       "  message: 'Desired error not necessarily achieved due to precision loss.'\n",
       "     nfev: 104\n",
       "      nit: 2\n",
       "     njev: 31\n",
       "   status: 2\n",
       "  success: False\n",
       "        x: array([-0.07904187,  0.0700493 ])"
      ]
     },
     "execution_count": 9,
     "metadata": {},
     "output_type": "execute_result"
    }
   ],
   "source": [
    "# The x (predictor) and y (to-be-predicted) variables.\n",
    "hemoglobin = hgb_app['Hemoglobin']\n",
    "appetite_d = hgb_app['appetite_dummy']\n",
    "# Use minimize to find the least sum of squares solution.\n",
    "min_lin_reg = minimize(ss_any_line, [-1, 0.1], args=(hemoglobin, appetite_d))\n",
    "# Show the results that came back from minimize.\n",
    "min_lin_reg"
   ]
  },
  {
   "cell_type": "markdown",
   "metadata": {},
   "source": [
    "OK, so that looks hopeful. Using linear regression with `minimize` we found that the sum of squared prediction errors was smallest for a line with:"
   ]
  },
  {
   "cell_type": "code",
   "execution_count": 10,
   "metadata": {},
   "outputs": [
    {
     "name": "stdout",
     "output_type": "stream",
     "text": [
      "Best linear regression intercept -0.07904187280281949\n",
      "Best linear regression slope 0.07004929869481377\n"
     ]
    }
   ],
   "source": [
    "# Unpack the slope and intercept estimates from the results object.\n",
    "lin_reg_intercept, lin_reg_slope = min_lin_reg.x\n",
    "# Show them.\n",
    "print('Best linear regression intercept', lin_reg_intercept)\n",
    "print('Best linear regression slope', lin_reg_slope)"
   ]
  },
  {
   "cell_type": "markdown",
   "metadata": {},
   "source": [
    "The linear regression model we are using here is:\n",
    "\n",
    "```\n",
    "predicted_appetite_d = intercept + slope * hemoglobin\n",
    "```\n",
    "\n",
    "Specifically:"
   ]
  },
  {
   "cell_type": "code",
   "execution_count": 11,
   "metadata": {},
   "outputs": [
    {
     "data": {
      "text/plain": [
       "0      0.705510\n",
       "1      0.586426\n",
       "2      0.677491\n",
       "3      0.313234\n",
       "4      0.460338\n",
       "         ...   \n",
       "153    1.020732\n",
       "154    1.076772\n",
       "155    1.027737\n",
       "156    0.915658\n",
       "157    1.027737\n",
       "Name: Hemoglobin, Length: 158, dtype: float64"
      ]
     },
     "execution_count": 11,
     "metadata": {},
     "output_type": "execute_result"
    }
   ],
   "source": [
    "predicted_lin_reg = lin_reg_intercept + lin_reg_slope * hemoglobin\n",
    "predicted_lin_reg"
   ]
  },
  {
   "cell_type": "markdown",
   "metadata": {},
   "source": [
    "Let's plot our predictions, alongside the actual data.  We plot the predictions\n",
    "from linear regression in orange."
   ]
  },
  {
   "cell_type": "code",
   "execution_count": 12,
   "metadata": {
    "tags": [
     "hide-cell"
    ]
   },
   "outputs": [
    {
     "data": {
      "image/png": "[encoded data removed]",
      "text/plain": [
       "<Figure size 432x288 with 1 Axes>"
      ]
     },
     "metadata": {},
     "output_type": "display_data"
    }
   ],
   "source": [
    "# Do the base plot of the hemoglobin and appetite_d.\n",
    "plot_hgb_app()\n",
    "\n",
    "# A new plot on top of the old.\n",
    "plt.scatter(hemoglobin, predicted_lin_reg,\n",
    "            label='LR prediction',\n",
    "            color='orange')\n",
    "# Another plot, to show the underlying line\n",
    "fine_x = np.linspace(np.min(hemoglobin), np.max(hemoglobin), 1000)\n",
    "fine_y = lin_reg_intercept + lin_reg_slope * fine_x\n",
    "plt.plot(fine_x, fine_y, linewidth=1, linestyle=':')\n",
    "# Show the legend.\n",
    "plt.legend();"
   ]
  },
  {
   "cell_type": "markdown",
   "metadata": {},
   "source": [
    "The linear regression line looks plausible, as far as it goes, but it has\n",
    "several unhappy features for our task of predicting the `appetite_d` 0 / 1\n",
    "values.\n",
    "\n",
    "It looks like the predictions are getting it right that the value of\n",
    "`appetite_d` is more likely to be 1 (meaning \"good\") at higher values of\n",
    "`hemoglobin`.\n",
    "\n",
    "The prediction line slopes upward as `hemoglobin` gets higher, indicating that\n",
    "the probability of good appetite gets higher as the hemoglobin concentration\n",
    "rises, across patients.\n",
    "\n",
    "However, when the `hemoglobin` gets higher than about 15.5, linear regression\n",
    "starts to predict a value for `appetite_d` that is greater than 1 - which, of\n",
    "course, cannot occur in the `appetite_d` values, which are restricted to 0 or\n",
    "1.\n",
    "\n",
    "Looking at the plot, without the regression line, it looks as if we can be\n",
    "fairly confident of predicting a 1 (\"good\") value for a hemoglobin above 12.5, but we are increasingly less confident about predicting a 1 value as hemoglobin drops down to about 7.5, at which point we become confident about predicting a 0 value.\n",
    "\n",
    "These reflections make as wonder whether we should be using something other than a simple, unconstrained straight line for our predictions.\n"
   ]
  },
  {
   "cell_type": "markdown",
   "metadata": {},
   "source": [
    "## Another prediction line"
   ]
  },
  {
   "cell_type": "markdown",
   "metadata": {},
   "source": [
    "Here's another prediction line we might use for `appetite_d`, with the\n",
    "predicted values.\n",
    "\n",
    "For the moment, please don't worry about how we came by this line, we will come onto that soon.\n",
    "\n",
    "The new prediction line is in gold."
   ]
  },
  {
   "cell_type": "code",
   "execution_count": 13,
   "metadata": {
    "tags": [
     "hide-cell"
    ]
   },
   "outputs": [],
   "source": [
    "# This is the machinery for making the sigmoid line of the plots below.  We\n",
    "# will come on that machinery soon.  For now please ignore this code, and\n",
    "# concentrate on the plots below.\n",
    "\n",
    "def logit(y):\n",
    "    \"\"\" Apply logit transformation\n",
    "    \"\"\"\n",
    "    odds_ratios = y / (1 - y)\n",
    "    return np.log(odds_ratios)\n",
    "\n",
    "\n",
    "def inv_logit(y):\n",
    "    \"\"\" Reverse logit transformation\n",
    "    \"\"\"\n",
    "    odds_ratios = np.exp(y)  # Reverse the log operation.\n",
    "    return odds_ratios / (odds_ratios + 1)  # Reverse odds ratios operation.\n",
    "\n",
    "\n",
    "def params2pps(intercept_and_slope, x):\n",
    "    \"\"\" Calculate predicted probabilities of 1 for each observation.\n",
    "    \"\"\"\n",
    "    # store the intercept and slope as Python variables.\n",
    "    intercept, slope = intercept_and_slope\n",
    "    # Predicted log odds of being in class 1.\n",
    "    predicted_log_odds = intercept + slope * x\n",
    "    return inv_logit(predicted_log_odds)\n",
    "\n",
    "\n",
    "nice_c_s = [-7, 0.8]  # Some plausible values for intercept and slope.\n",
    "predictions_new = params2pps(nice_c_s, hemoglobin)"
   ]
  },
  {
   "cell_type": "code",
   "execution_count": 14,
   "metadata": {
    "tags": [
     "hide-cell"
    ]
   },
   "outputs": [
    {
     "data": {
      "image/png": "[encoded data removed]",
      "text/plain": [
       "<Figure size 432x288 with 1 Axes>"
      ]
     },
     "metadata": {},
     "output_type": "display_data"
    }
   ],
   "source": [
    "# Do the base plot of the hemoglobin and appetite_d.\n",
    "plot_hgb_app()\n",
    "\n",
    "# A new plot on top of the old.\n",
    "plt.scatter(hemoglobin, predictions_new,\n",
    "            label='New prediction',\n",
    "            color='gold')\n",
    "# Another plot, to show the underlying line\n",
    "fine_y_sigmoid = params2pps(nice_c_s, fine_x)\n",
    "plt.plot(fine_x, fine_y_sigmoid, linewidth=1, linestyle=':')\n",
    "# Show the legend.\n",
    "plt.legend();"
   ]
  },
  {
   "cell_type": "markdown",
   "metadata": {},
   "source": [
    "The new not-straight line seems to have much to recommend it.  This shape of\n",
    "line is called \"sigmoid\", from the name of the Greek letter \"s\".  The sigmoid\n",
    "prediction here never goes above 1 or below 0, so its values are always in the\n",
    "range of the `appetite_d` data it is trying to predict.  It climbs steeply to a\n",
    "prediction of 1, and plateaus there, as we get to the threshold of hemoglobin\n",
    "around 12.5, at which every patient does seem to have \"good\" appetite\n",
    "(`appetite_d` of 1).\n",
    "\n",
    "We can think of the values from the sigmoid curve as being *predicted\n",
    "probabilities*.  For example, at a `hemoglobin` value of 10, the curve gives a\n",
    "predicted y (`appetite_d`) value of about 0.73.  We can interpret this\n",
    "prediction as saying that, with a hemoglobin value of 10, there is a\n",
    "*probability* of about 0.73 that the corresponding patient will have a \"good\"\n",
    "appetite (`appetite_d` value of 1).\n",
    "\n",
    "Now let us say that we would prefer to use this kind of sigmoid line to predict\n",
    "`appetite_d`.  So far, we have only asked `minimize` to predict directly from a\n",
    "straight line - for example, in the `ss_any_line` function.   How can we get\n",
    "minimize to predict from a family of sigmoid curves, as here?  Is there a way\n",
    "of transforming a sigmoid curve like the one here, with y values from 0 to 1,\n",
    "to a straight line, where the y values can vary from large negative to large\n",
    "positive.  We would like to do such a conversion, so we have a slope and\n",
    "intercept that `minimize` can work with easily.\n",
    "\n",
    "The answer, you can imagine, is \"yes\" - we can go from our sigmoid 0 / 1 curve\n",
    "to a straight line with unconstrained y values, in two fairly simple steps. The\n",
    "next sections will cover those steps.  The two steps are:\n",
    "\n",
    "* Convert the 0 / 1 *probability* predictions to 0-to-large positive\n",
    "  predictions of the *odds ratio*.  The odds-ratio can vary from 0 to very\n",
    "  large positive.\n",
    "* Apply the *logarithm* function to convert the 0-to-very-large-positive\n",
    "  odds-ratio predictions to log odds-ratio predictions, which can vary from\n",
    "  very large negative to very large positive.\n",
    "\n",
    "These two transformations together are called the *log-odds* or\n",
    "[logit](https://en.wikipedia.org/wiki/Logit) transformation.  *Logistical\n",
    "regression* is regression using the *logit* transform.  Applying the logit\n",
    "transform converts the sigmoid curve to a straight line.\n",
    "\n",
    "We will explain more about the two stages of the transform below, but for now, here are the two stages in action.\n",
    "\n",
    "This is the original sigmoid curve above, with the predictions, in its own\n",
    "plot."
   ]
  },
  {
   "cell_type": "code",
   "execution_count": 15,
   "metadata": {
    "tags": [
     "hide-cell"
    ]
   },
   "outputs": [
    {
     "data": {
      "image/png": "[encoded data removed]",
      "text/plain": [
       "<Figure size 432x288 with 1 Axes>"
      ]
     },
     "metadata": {},
     "output_type": "display_data"
    }
   ],
   "source": [
    "plt.scatter(hemoglobin, predictions_new,\n",
    "            color='gold')\n",
    "plt.plot(fine_x, fine_y_sigmoid, linewidth=1, linestyle=':')\n",
    "plt.title('Sigmoid probability prediction')\n",
    "plt.xlabel('Hemoglobin')\n",
    "plt.ylabel('Probability prediction');"
   ]
  },
  {
   "cell_type": "markdown",
   "metadata": {},
   "source": [
    "Next we apply the conversion from probability to odds-ratio:"
   ]
  },
  {
   "cell_type": "code",
   "execution_count": 16,
   "metadata": {
    "tags": [
     "hide-cell"
    ]
   },
   "outputs": [
    {
     "data": {
      "image/png": "[encoded data removed]",
      "text/plain": [
       "<Figure size 432x288 with 1 Axes>"
      ]
     },
     "metadata": {},
     "output_type": "display_data"
    }
   ],
   "source": [
    "predictions_or = predictions_new / (1 - predictions_new)\n",
    "plt.scatter(hemoglobin, predictions_or,\n",
    "            color='gold')\n",
    "fine_y_or = fine_y_sigmoid / (1 - fine_y_sigmoid)\n",
    "plt.plot(fine_x, fine_y_or, linewidth=1, linestyle=':')\n",
    "plt.title('Odds-ratio prediction')\n",
    "plt.xlabel('Hemoglobin')\n",
    "plt.ylabel('Odds-ratio');"
   ]
  },
  {
   "cell_type": "markdown",
   "metadata": {},
   "source": [
    "Notice that this is an *exponential* graph, where the y values increase more\n",
    "and more steeply as the x values increase.  We can turn exponential lines like\n",
    "this one into straight lines, using the *logarithm* function, the next stage of\n",
    "the logit transformation:"
   ]
  },
  {
   "cell_type": "code",
   "execution_count": 17,
   "metadata": {},
   "outputs": [
    {
     "data": {
      "image/png": "[encoded data removed]",
      "text/plain": [
       "<Figure size 432x288 with 1 Axes>"
      ]
     },
     "metadata": {},
     "output_type": "display_data"
    }
   ],
   "source": [
    "predictions_or_log = np.log(predictions_or)\n",
    "plt.scatter(hemoglobin, predictions_or_log,\n",
    "            color='gold')\n",
    "fine_y_or_log = np.log(fine_y_or)\n",
    "plt.plot(fine_x, fine_y_or_log, linewidth=1, linestyle=':')\n",
    "plt.title('Logit prediction')\n",
    "plt.xlabel('Hemoglobin')\n",
    "plt.ylabel('Log odds-ratio');"
   ]
  },
  {
   "cell_type": "markdown",
   "metadata": {},
   "source": [
    "Now we have a straight line, with an intercept and slope, suitable for\n",
    "`minimize`.  The next few sections go into more detail on the odds-ratio and\n",
    "logarithm steps."
   ]
  },
  {
   "cell_type": "markdown",
   "metadata": {},
   "source": [
    "## Probability and Odds"
   ]
  },
  {
   "cell_type": "markdown",
   "metadata": {},
   "source": [
    "For logistic regression, in contrast to linear regression, we are interested in\n",
    "predicting the *probability of an observation falling into a particular outcome\n",
    "class* (0 or 1).\n",
    "\n",
    "In this case, we are interested in the probability of a patient having \"good\"\n",
    "appetite, predicted from the patient's hemoglobin.\n",
    "\n",
    "We can think of probability as the *proportion of times* we expect to see a\n",
    "particular outcome.\n",
    "\n",
    "For example, there are 139 patients with \"good\" appetite in this data frame,\n",
    "and 158 patients in total.  If you were to repeatedly draw a single patient at\n",
    "random from the data frame, and record their `Appetite`, then we expect the proportion of \"good\" values in the long run, to be 139 / 158 --- about 0.88.  That is the same as saying there is a probability of 0.88 of a randomly-drawn patient of having a \"good\" appetite.\n",
    "\n",
    "Because the patient's appetite can only be \"good\" or \"poor\", and because the\n",
    "probabilities of all possible options have to add up to 1, the probability of\n",
    "the patient having a \"poor\" appetite is 1 - 0.88 --- about 0.12.\n",
    "\n",
    "So, the probability can express the *proportion of times* we expect to see some\n",
    "*event of interest* - in our case, the event of interest is \"good\" in the\n",
    "`Appetite` column.\n",
    "\n",
    "We can think of this same information as an *odds ratio*.\n",
    "\n",
    "We often express probabilities as odds ratios.  For example, we might say that\n",
    "the odds are 5 to 1 that it will rain today.   We mean that it is five times\n",
    "more likely that it will rain today than that it will not rain today.   On\n",
    "another day we could estimate that the odds are 0.5 to 1 that it will rain\n",
    "today, meaning that it is twice as likely *not* to rain, as it is to rain.\n",
    "\n",
    "The odds ratio is the number of times we expect to see the event of interest\n",
    "(e.g. rain) for every time we expect to see the event of no interest (not\n",
    "rain).\n",
    "\n",
    "This is just a way of saying a probability in a different way, and we can convert easily between probabilities and odds ratios.\n",
    "\n",
    "To convert from a probability to an odds ratio, we remember that the odds ratio is the number of times we expect to see the event of interest for every time we expect to see the event of no interest.   This is the probability (proportion) for the event of interest, divided by the probability (proportion) of the event of no interest.  Say the probability p is some value (it could be any value):"
   ]
  },
  {
   "cell_type": "code",
   "execution_count": 18,
   "metadata": {},
   "outputs": [],
   "source": [
    "# Our proportion of interest.\n",
    "p = 0.88"
   ]
  },
  {
   "cell_type": "markdown",
   "metadata": {},
   "source": [
    "Then the equivalent odds ratio `odds_ratio` is:"
   ]
  },
  {
   "cell_type": "code",
   "execution_count": 19,
   "metadata": {},
   "outputs": [
    {
     "data": {
      "text/plain": [
       "7.333333333333334"
      ]
     },
     "execution_count": 19,
     "metadata": {},
     "output_type": "execute_result"
    }
   ],
   "source": [
    "# Odds ratio is proportion of interest, divided by proportion of no interest.\n",
    "odds_ratio = p / (1 - p)\n",
    "odds_ratio"
   ]
  },
  {
   "cell_type": "markdown",
   "metadata": {},
   "source": [
    "Notice the odds ratio is greater than one, because `p` was greater than 0.5. An\n",
    "odds ratio of greater than one means the event of interest is more likely to\n",
    "happen than the alternative.  An odds ratio of less than one means p was less\n",
    "than 0.5, and the event of interest is less likely to happen than the\n",
    "alternative.   A p value of 0 gives an odds ratio of 0.  A p value of 1 gives:"
   ]
  },
  {
   "cell_type": "code",
   "execution_count": 20,
   "metadata": {
    "tags": [
     "raises-exception"
    ]
   },
   "outputs": [
    {
     "ename": "ZeroDivisionError",
     "evalue": "division by zero",
     "output_type": "error",
     "traceback": [
      "\u001b[0;31m---------------------------------------------------------------------------\u001b[0m",
      "\u001b[0;31mZeroDivisionError\u001b[0m                         Traceback (most recent call last)",
      "\u001b[0;32m<ipython-input-20-d9c5c66f8dde>\u001b[0m in \u001b[0;36m<module>\u001b[0;34m\u001b[0m\n\u001b[0;32m----> 1\u001b[0;31m \u001b[0;36m1\u001b[0m \u001b[0;34m/\u001b[0m \u001b[0;34m(\u001b[0m\u001b[0;36m1\u001b[0m \u001b[0;34m-\u001b[0m \u001b[0;36m1\u001b[0m\u001b[0;34m)\u001b[0m\u001b[0;34m\u001b[0m\u001b[0;34m\u001b[0m\u001b[0m\n\u001b[0m",
      "\u001b[0;31mZeroDivisionError\u001b[0m: division by zero"
     ]
    }
   ],
   "source": [
    "1 / (1 - 1)"
   ]
  },
  {
   "cell_type": "markdown",
   "metadata": {},
   "source": [
    "This is either an error (as it is here when we do the calculation with Python's standard integers) or Infinity, when we do the calculation with Numpy:"
   ]
  },
  {
   "cell_type": "code",
   "execution_count": 21,
   "metadata": {},
   "outputs": [
    {
     "name": "stderr",
     "output_type": "stream",
     "text": [
      "<ipython-input-21-f3629f592499>:2: RuntimeWarning: divide by zero encountered in true_divide\n",
      "  one / (one - one)\n"
     ]
    },
    {
     "data": {
      "text/plain": [
       "inf"
      ]
     },
     "execution_count": 21,
     "metadata": {},
     "output_type": "execute_result"
    }
   ],
   "source": [
    "one = np.array(1)  # Make an Numpy array containing 1\n",
    "one / (one - one)"
   ]
  },
  {
   "cell_type": "markdown",
   "metadata": {},
   "source": [
    "We can also convert from odds ratios to p values.  Remember the odds ratio is\n",
    "the number of times we expect to see the event of interest, divided by the\n",
    "number of times we expect to see the event of no interest.  The probability is\n",
    "the proportion of all events that are events of interest.  We can read an\n",
    "`odds_ratio` of - say - 2.5 as \"the chances are 2.5 to 1\".  To get the\n",
    "probability we divide the number of times we expect to see the event of\n",
    "interest - here 2.5 - by the number of events in total.  The number of events\n",
    "in total is just the number of events of interest - here 2.5 - plus the number\n",
    "of events of no interest - here 1.  So:"
   ]
  },
  {
   "cell_type": "code",
   "execution_count": 22,
   "metadata": {},
   "outputs": [
    {
     "data": {
      "text/plain": [
       "0.88"
      ]
     },
     "execution_count": 22,
     "metadata": {},
     "output_type": "execute_result"
    }
   ],
   "source": [
    "p_from_odds_ratio = odds_ratio / (odds_ratio + 1)\n",
    "p_from_odds_ratio"
   ]
  },
  {
   "cell_type": "markdown",
   "metadata": {},
   "source": [
    "Summary - convert probabilities to odds ratios with:"
   ]
  },
  {
   "cell_type": "code",
   "execution_count": 23,
   "metadata": {},
   "outputs": [],
   "source": [
    "odds_ratio = p / (1 - p)"
   ]
  },
  {
   "cell_type": "markdown",
   "metadata": {},
   "source": [
    "Convert odds ratios to probabilities with:"
   ]
  },
  {
   "cell_type": "code",
   "execution_count": 24,
   "metadata": {},
   "outputs": [],
   "source": [
    "p = odds_ratio / (odds_ratio + 1)"
   ]
  },
  {
   "cell_type": "markdown",
   "metadata": {},
   "source": [
    "As you've seen, when we apply the conversion above, to convert the probability values to odds ratios for our appetite predications, we get the following:"
   ]
  },
  {
   "cell_type": "code",
   "execution_count": 25,
   "metadata": {
    "tags": [
     "hide-cell"
    ]
   },
   "outputs": [
    {
     "data": {
      "image/png": "[encoded data removed]",
      "text/plain": [
       "<Figure size 432x288 with 1 Axes>"
      ]
     },
     "metadata": {},
     "output_type": "display_data"
    }
   ],
   "source": [
    "predictions_or = predictions_new / (1 - predictions_new)\n",
    "plt.scatter(hemoglobin, predictions_or,\n",
    "            color='gold')\n",
    "fine_y_or = fine_y_sigmoid / (1 - fine_y_sigmoid)\n",
    "plt.plot(fine_x, fine_y_or, linewidth=1, linestyle=':')\n",
    "plt.title('Odds-ratio prediction')\n",
    "plt.xlabel('Hemoglobin')\n",
    "plt.ylabel('Odds-ratio');"
   ]
  },
  {
   "cell_type": "markdown",
   "metadata": {},
   "source": [
    "Notice that the odds ratios we found vary from very close to 0 (for p value\n",
    "predictions very close to 0) to very large (for p values very close to 1).\n",
    "\n",
    "Notice too that our graph looks exponential, and we want it to be a straight\n",
    "line.   Our next step is to apply a *logarithm* transformation.\n"
   ]
  },
  {
   "cell_type": "markdown",
   "metadata": {},
   "source": [
    "# A quick refresher on logarithms\n",
    "\n",
    "Don't worry - you don't need to do anything fancy with logarithms here.  You\n",
    "don't even need to fully understand this quick refresher.  In practice, all you\n",
    "need to know about logarithms for this section is that they make straight line graphs from exponential graphs.\n",
    "\n",
    "That said, here is a whirlwind tour of logarithms.\n",
    "\n",
    "Logarithms ask the question of a number - \"what exponent do I need in order to\n",
    "make that number\"?\n",
    "\n",
    "For example, consider the number:"
   ]
  },
  {
   "cell_type": "code",
   "execution_count": 26,
   "metadata": {},
   "outputs": [],
   "source": [
    "x = 100"
   ]
  },
  {
   "cell_type": "markdown",
   "metadata": {},
   "source": [
    "I want to write that number as 10 to the power of something - $10^y$.  $y$ is\n",
    "the *exponent* that I need for 10, to make 100.  In this case I can see that\n",
    "$y$ must be 2, because $10^2 = 100$.  If $x = 1000$ then $y = 3$ because $10^3\n",
    "= 1000$. The function `np.log10` works this out for us.  It takes the numbers\n",
    "we send it, and works out the exponent(s) it needs to apply to 10, to get those\n",
    "numbers.  For example:"
   ]
  },
  {
   "cell_type": "code",
   "execution_count": 27,
   "metadata": {},
   "outputs": [
    {
     "data": {
      "text/plain": [
       "array([2., 3.])"
      ]
     },
     "execution_count": 27,
     "metadata": {},
     "output_type": "execute_result"
    }
   ],
   "source": [
    "np.log10([100, 1000])"
   ]
  },
  {
   "cell_type": "markdown",
   "metadata": {},
   "source": [
    "The exponents don't have to be whole numbers.  For example, I can calculate $10^{3.5}$:"
   ]
  },
  {
   "cell_type": "code",
   "execution_count": 28,
   "metadata": {},
   "outputs": [
    {
     "data": {
      "text/plain": [
       "3162.2776601683795"
      ]
     },
     "execution_count": 28,
     "metadata": {},
     "output_type": "execute_result"
    }
   ],
   "source": [
    "v = 10 ** 3.5\n",
    "v"
   ]
  },
  {
   "cell_type": "markdown",
   "metadata": {},
   "source": [
    "`np.log10` will find this exponent for me too:"
   ]
  },
  {
   "cell_type": "code",
   "execution_count": 29,
   "metadata": {},
   "outputs": [
    {
     "data": {
      "text/plain": [
       "3.5"
      ]
     },
     "execution_count": 29,
     "metadata": {},
     "output_type": "execute_result"
    }
   ],
   "source": [
    "np.log10(v)"
   ]
  },
  {
   "cell_type": "markdown",
   "metadata": {},
   "source": [
    "and:"
   ]
  },
  {
   "cell_type": "code",
   "execution_count": 30,
   "metadata": {},
   "outputs": [
    {
     "data": {
      "text/plain": [
       "array([2. , 3. , 3.5])"
      ]
     },
     "execution_count": 30,
     "metadata": {},
     "output_type": "execute_result"
    }
   ],
   "source": [
    "L = np.log10([100, 1000, v])\n",
    "L"
   ]
  },
  {
   "cell_type": "markdown",
   "metadata": {},
   "source": [
    "`np.log10` reverses the effect of calculating 10 to the power of some value."
   ]
  },
  {
   "cell_type": "code",
   "execution_count": 31,
   "metadata": {},
   "outputs": [
    {
     "data": {
      "text/plain": [
       "array([  100,  1000, 10000])"
      ]
     },
     "execution_count": 31,
     "metadata": {},
     "output_type": "execute_result"
    }
   ],
   "source": [
    "values = np.array([2, 3, 4])\n",
    "v_exp_10 = 10 ** values\n",
    "v_exp_10"
   ]
  },
  {
   "cell_type": "code",
   "execution_count": 32,
   "metadata": {},
   "outputs": [
    {
     "data": {
      "text/plain": [
       "array([2., 3., 4.])"
      ]
     },
     "execution_count": 32,
     "metadata": {},
     "output_type": "execute_result"
    }
   ],
   "source": [
    "# log10 reverses the effect of 10 to the power of some values, to get those\n",
    "# values back.\n",
    "np.log10(v_exp_10)"
   ]
  },
  {
   "cell_type": "markdown",
   "metadata": {},
   "source": [
    "Similarly, if I've transformed some values with `np.log10`, I can reverse that\n",
    "transformation by taking 10 to the power of the transformed values:"
   ]
  },
  {
   "cell_type": "code",
   "execution_count": 33,
   "metadata": {},
   "outputs": [
    {
     "data": {
      "text/plain": [
       "array([1.        , 1.17609126, 1.30103   ])"
      ]
     },
     "execution_count": 33,
     "metadata": {},
     "output_type": "execute_result"
    }
   ],
   "source": [
    "more_values = np.array([10, 15, 20])\n",
    "v_log_10 = np.log10(more_values)\n",
    "v_log_10"
   ]
  },
  {
   "cell_type": "code",
   "execution_count": 34,
   "metadata": {},
   "outputs": [
    {
     "data": {
      "text/plain": [
       "array([10., 15., 20.])"
      ]
     },
     "execution_count": 34,
     "metadata": {},
     "output_type": "execute_result"
    }
   ],
   "source": [
    "# Taking 10 to the power of some values, reverses the effect of log10.\n",
    "10 ** v_log_10"
   ]
  },
  {
   "cell_type": "markdown",
   "metadata": {},
   "source": [
    "You may remember that powers can be less than 1.  For example $10^{0.5}$ is the\n",
    "square root of 10:"
   ]
  },
  {
   "cell_type": "code",
   "execution_count": 35,
   "metadata": {},
   "outputs": [
    {
     "name": "stdout",
     "output_type": "stream",
     "text": [
      "3.1622776601683795\n",
      "3.1622776601683795\n"
     ]
    }
   ],
   "source": [
    "print(np.sqrt(10))\n",
    "print(10 ** 0.5)"
   ]
  },
  {
   "cell_type": "markdown",
   "metadata": {},
   "source": [
    "Therefore:"
   ]
  },
  {
   "cell_type": "code",
   "execution_count": 70,
   "metadata": {},
   "outputs": [
    {
     "data": {
      "text/plain": [
       "0.5"
      ]
     },
     "execution_count": 70,
     "metadata": {},
     "output_type": "execute_result"
    }
   ],
   "source": [
    "np.log10(np.sqrt(10))"
   ]
  },
  {
   "cell_type": "markdown",
   "metadata": {},
   "source": [
    "It is a bit difficult to think about what $10^0$ might mean, but the rule is\n",
    "that $10^0$ is equal to 1, and therefore log10 of 1 is 0:"
   ]
  },
  {
   "cell_type": "code",
   "execution_count": 69,
   "metadata": {},
   "outputs": [
    {
     "data": {
      "text/plain": [
       "0.0"
      ]
     },
     "execution_count": 69,
     "metadata": {},
     "output_type": "execute_result"
    }
   ],
   "source": [
    "np.log10(1)"
   ]
  },
  {
   "cell_type": "markdown",
   "metadata": {},
   "source": [
    "Exponents can be negative.  A negative exponent gives the equivalent calculation to taking the power to the exponent without the minus sign, and then dividing into 1 - like this:"
   ]
  },
  {
   "cell_type": "code",
   "execution_count": 71,
   "metadata": {},
   "outputs": [
    {
     "name": "stdout",
     "output_type": "stream",
     "text": [
      "10 ** -2 equals 0.01\n",
      "1 / 10 ** 2 equals 0.01\n"
     ]
    }
   ],
   "source": [
    "print('10 ** -2 equals', 10 ** -2)\n",
    "print('1 / 10 ** 2 equals', 1 / (10 ** 2))"
   ]
  },
  {
   "cell_type": "markdown",
   "metadata": {},
   "source": [
    "Therefore, a log of a number less than 1 will be negative:"
   ]
  },
  {
   "cell_type": "code",
   "execution_count": 72,
   "metadata": {},
   "outputs": [
    {
     "data": {
      "text/plain": [
       "array([-0.30103, -1.     , -2.     ])"
      ]
     },
     "execution_count": 72,
     "metadata": {},
     "output_type": "execute_result"
    }
   ],
   "source": [
    "np.log10([0.5, 0.1, 0.01])"
   ]
  },
  {
   "cell_type": "markdown",
   "metadata": {},
   "source": [
    "But - logarithms don't know how to handle minus numbers.  For example, there is\n",
    "no exponent you can apply to 10 to get -100:"
   ]
  },
  {
   "cell_type": "code",
   "execution_count": 39,
   "metadata": {},
   "outputs": [
    {
     "name": "stderr",
     "output_type": "stream",
     "text": [
      "<ipython-input-39-77667cb0d686>:1: RuntimeWarning: invalid value encountered in log10\n",
      "  np.log10(-100)\n"
     ]
    },
    {
     "data": {
      "text/plain": [
       "nan"
      ]
     },
     "execution_count": 39,
     "metadata": {},
     "output_type": "execute_result"
    }
   ],
   "source": [
    "np.log10(-100)"
   ]
  },
  {
   "cell_type": "markdown",
   "metadata": {},
   "source": [
    "So far our logs have always been working on the assumption that they should be\n",
    "calculating their exponents assuming they are exponents for 10.  This is what\n",
    "`np.log10` does.  Here 10 is called the *base* of the logarithm.  `np.log10`\n",
    "calculates logarithms with base 10.\n",
    "\n",
    "The base doesn't have to be 10.  Another common option is `np.log2` where we calculate the exponent we have to apply to 2, to get the input numbers:"
   ]
  },
  {
   "cell_type": "code",
   "execution_count": 73,
   "metadata": {},
   "outputs": [
    {
     "data": {
      "text/plain": [
       "array([1.        , 2.        , 3.        , 3.32192809])"
      ]
     },
     "execution_count": 73,
     "metadata": {},
     "output_type": "execute_result"
    }
   ],
   "source": [
    "np.log2([2, 4, 8, 10])"
   ]
  },
  {
   "cell_type": "markdown",
   "metadata": {},
   "source": [
    "In fact an even more common option is to use the special number $e$ as the base\n",
    "for the logarithms.  This is because taking exponents or calculating logarithms\n",
    "with base $e$ have some very convenient mathematical properties, that are not\n",
    "relevant to us here.  Log to the base e is so common that Numpy simply uses\n",
    "`np.log` to mean logarithm to base $e$."
   ]
  },
  {
   "cell_type": "code",
   "execution_count": 41,
   "metadata": {},
   "outputs": [
    {
     "name": "stdout",
     "output_type": "stream",
     "text": [
      "e 2.718281828459045\n",
      "e squared 7.3890560989306495\n",
      "e cubed 20.085536923187664\n"
     ]
    }
   ],
   "source": [
    "print('e', np.e)\n",
    "print('e squared', np.e ** 2)\n",
    "print('e cubed', np.e ** 3)"
   ]
  },
  {
   "cell_type": "markdown",
   "metadata": {},
   "source": [
    "As you would expect, `np.log` returns the exponent we need to apply to $e$ to recreate the input numbers:"
   ]
  },
  {
   "cell_type": "code",
   "execution_count": 42,
   "metadata": {},
   "outputs": [
    {
     "data": {
      "text/plain": [
       "array([1., 2., 3.])"
      ]
     },
     "execution_count": 42,
     "metadata": {},
     "output_type": "execute_result"
    }
   ],
   "source": [
    "np.log([np.e, np.e ** 2, np.e ** 3])"
   ]
  },
  {
   "cell_type": "markdown",
   "metadata": {},
   "source": [
    "As for all log bases, log of 1 is 0, and numbers less than 1 give negative log\n",
    "values:"
   ]
  },
  {
   "cell_type": "code",
   "execution_count": 68,
   "metadata": {},
   "outputs": [
    {
     "data": {
      "text/plain": [
       "array([ 0.        , -0.69314718, -2.30258509])"
      ]
     },
     "execution_count": 68,
     "metadata": {},
     "output_type": "execute_result"
    }
   ],
   "source": [
    "np.log([1, 0.5, 0.1])"
   ]
  },
  {
   "cell_type": "markdown",
   "metadata": {},
   "source": [
    "## A different measure of prediction error\n",
    "\n",
    "To address this issue, logistic regression does not minimize the sum of the squared prediction errors like linear regression does. \n",
    "\n",
    "Logistic regression uses a different function for calculating prediction errors, and it minimizes this function instead. Another way of saying this is that it minimizes a different cost function.\n",
    "\n",
    "The cost function that logistic regression uses is convex - meaning it works much better with minimize, as it has a single lowest point.\n",
    "\n",
    "To understand the function logistic regression uses to calculate prediction errors, we will need to do a very brief aside about <i> natural logarithms </i>."
   ]
  },
  {
   "cell_type": "markdown",
   "metadata": {},
   "source": [
    "#### Natural Logarithms\n",
    "\n",
    "The natural logarithm of a number tells you: \"what power would I have to raise `e` to, in order to produce this number?\".\n",
    "\n",
    "This sounds more complex than it is. \n",
    "\n",
    "`e` squared equals 7.3890560989306495, as we can see from the cell below:\n",
    "<!-- #endregion -->"
   ]
  },
  {
   "cell_type": "code",
   "execution_count": 44,
   "metadata": {},
   "outputs": [
    {
     "data": {
      "text/plain": [
       "7.3890560989306495"
      ]
     },
     "execution_count": 44,
     "metadata": {},
     "output_type": "execute_result"
    }
   ],
   "source": [
    "np.e**2"
   ]
  },
  {
   "cell_type": "markdown",
   "metadata": {},
   "source": [
    "If I asked you, now you've seen the cell above: \"what number would I have to raise `e` to, in order to get 7.3890560989306495?\".\n",
    "\n",
    "If you're really good at remembering decimal places, you'd say: \"well, `e` squared equals 7.3890560989306495. So you raise `e` to the power of 2 to get 7.3890560989306495\".\n",
    "\n",
    "Another way of saying this is that the natural log of 7.3890560989306495 is 2. \n",
    "\n",
    "We can represent this with a formula:\n",
    "\n",
    "$$ ln(7.3890560989306495) = 2 $$\n",
    "\n",
    "`ln(7.3890560989306495)` means 'the natural log of 7.3890560989306495'. We can use `np.log()` to calculate the natural logarithm of a number."
   ]
  },
  {
   "cell_type": "code",
   "execution_count": 45,
   "metadata": {},
   "outputs": [
    {
     "data": {
      "text/plain": [
       "2.0"
      ]
     },
     "execution_count": 45,
     "metadata": {},
     "output_type": "execute_result"
    }
   ],
   "source": [
    "np.log(7.3890560989306495)"
   ]
  },
  {
   "cell_type": "markdown",
   "metadata": {},
   "source": [
    "In logistic regression, we calculate the prediction errors are follows:\n",
    "\n",
    "If the dummy variable of the actual outcome score equals 1, then the prediction error equals the negative natural logarithm of the predicted probability:\n",
    "\n",
    " $$ \\text{if the actual outcome == 1, then:}$$\n",
    " $$\\text{prediction error = -ln(predicted probability)} $$\n",
    "\n",
    "If the dummy variable of the actual outcome score equals 0, then the prediction error equals the negative natural logarithm of 1 minus the predicted probability.\n",
    "\n",
    " $$ \\text{if the actual outcome == 0, then:}$$\n",
    " $$\\text{prediction error = -ln(1 - predicted probability)} $$\n",
    "\n",
    "Again, this looks more complex than it is (I promise!). Once more, it is better to focus on how this calculation works, rather than why it works.\n",
    "\n",
    "The table below shows some possible pairings of the actual outcome and predicted outcome. The predicted outcome is a probability, it is the predicted probability that an observations falls into the class with the dummy variable 1:"
   ]
  },
  {
   "cell_type": "code",
   "execution_count": 46,
   "metadata": {},
   "outputs": [
    {
     "data": {
      "text/html": [
       "<div>\n",
       "<style scoped>\n",
       "    .dataframe tbody tr th:only-of-type {\n",
       "        vertical-align: middle;\n",
       "    }\n",
       "\n",
       "    .dataframe tbody tr th {\n",
       "        vertical-align: top;\n",
       "    }\n",
       "\n",
       "    .dataframe thead th {\n",
       "        text-align: right;\n",
       "    }\n",
       "</style>\n",
       "<table border=\"1\" class=\"dataframe\">\n",
       "  <thead>\n",
       "    <tr style=\"text-align: right;\">\n",
       "      <th></th>\n",
       "      <th>actual outcome</th>\n",
       "      <th>predicted probability of being in class 1</th>\n",
       "      <th>prediction close?</th>\n",
       "    </tr>\n",
       "  </thead>\n",
       "  <tbody>\n",
       "    <tr>\n",
       "      <th>0</th>\n",
       "      <td>0</td>\n",
       "      <td>0.2</td>\n",
       "      <td>yes</td>\n",
       "    </tr>\n",
       "    <tr>\n",
       "      <th>1</th>\n",
       "      <td>1</td>\n",
       "      <td>0.8</td>\n",
       "      <td>yes</td>\n",
       "    </tr>\n",
       "    <tr>\n",
       "      <th>2</th>\n",
       "      <td>0</td>\n",
       "      <td>0.8</td>\n",
       "      <td>no</td>\n",
       "    </tr>\n",
       "    <tr>\n",
       "      <th>3</th>\n",
       "      <td>1</td>\n",
       "      <td>0.2</td>\n",
       "      <td>no</td>\n",
       "    </tr>\n",
       "  </tbody>\n",
       "</table>\n",
       "</div>"
      ],
      "text/plain": [
       "   actual outcome  predicted probability of being in class 1 prediction close?\n",
       "0               0                                        0.2               yes\n",
       "1               1                                        0.8               yes\n",
       "2               0                                        0.8                no\n",
       "3               1                                        0.2                no"
      ]
     },
     "execution_count": 46,
     "metadata": {},
     "output_type": "execute_result"
    }
   ],
   "source": [
    "# this is just here to generate the illustration\n",
    "\n",
    "illustration = pd.DataFrame({'actual outcome': [0, 1, 0, 1], 'predicted probability of being in class 1': [0.2, 0.8, 0.8,0.2],\n",
    "                           'prediction close?': ['yes', 'yes', 'no', 'no']})\n",
    "\n",
    "illustration"
   ]
  },
  {
   "cell_type": "markdown",
   "metadata": {},
   "source": [
    "Let's write a python function to calculate the prediction errors for logistic regression. \n",
    "\n",
    "This is called a <i> piecewise function, </i> because what the function does varies depending on what input it is given. In python, we can do this with `if` statements:"
   ]
  },
  {
   "cell_type": "code",
   "execution_count": 47,
   "metadata": {},
   "outputs": [],
   "source": [
    "def log_reg_pred_err(actual_outcome, predicted_probability):\n",
    "    \n",
    "    # create an array to store the prediction errors\n",
    "    prediction_error = np.zeros(len(actual_outcome))\n",
    "    \n",
    "    # for every observation\n",
    "    for i in np.arange(len(actual_outcome)):\n",
    "        \n",
    "        # if the actual outcome for that observation is in class 1...\n",
    "        if actual_outcome[i] == 1:\n",
    "            \n",
    "            # ...then the prediction error equals the negative natural logarithm of the predicted probability\n",
    "            prediction_error[i] = -np.log(predicted_probability[i])\n",
    "            \n",
    "        # if the actual outcome for that observation is in class 0...\n",
    "        if actual_outcome[i] == 0:\n",
    "            \n",
    "            # ...then prediction error equals the negative natural logarithm of 1 minus the predicted probability\n",
    "            prediction_error[i] = -np.log(1 - predicted_probability[i])\n",
    "        \n",
    "    return prediction_error"
   ]
  },
  {
   "cell_type": "markdown",
   "metadata": {},
   "source": [
    "Let's calculate the prediction errors for the values in the dataframe above:"
   ]
  },
  {
   "cell_type": "code",
   "execution_count": 48,
   "metadata": {},
   "outputs": [
    {
     "data": {
      "text/html": [
       "<div>\n",
       "<style scoped>\n",
       "    .dataframe tbody tr th:only-of-type {\n",
       "        vertical-align: middle;\n",
       "    }\n",
       "\n",
       "    .dataframe tbody tr th {\n",
       "        vertical-align: top;\n",
       "    }\n",
       "\n",
       "    .dataframe thead th {\n",
       "        text-align: right;\n",
       "    }\n",
       "</style>\n",
       "<table border=\"1\" class=\"dataframe\">\n",
       "  <thead>\n",
       "    <tr style=\"text-align: right;\">\n",
       "      <th></th>\n",
       "      <th>actual outcome</th>\n",
       "      <th>predicted probability of being in class 1</th>\n",
       "      <th>prediction close?</th>\n",
       "      <th>prediction error</th>\n",
       "    </tr>\n",
       "  </thead>\n",
       "  <tbody>\n",
       "    <tr>\n",
       "      <th>0</th>\n",
       "      <td>0</td>\n",
       "      <td>0.2</td>\n",
       "      <td>yes</td>\n",
       "      <td>0.223144</td>\n",
       "    </tr>\n",
       "    <tr>\n",
       "      <th>1</th>\n",
       "      <td>1</td>\n",
       "      <td>0.8</td>\n",
       "      <td>yes</td>\n",
       "      <td>0.223144</td>\n",
       "    </tr>\n",
       "    <tr>\n",
       "      <th>2</th>\n",
       "      <td>0</td>\n",
       "      <td>0.8</td>\n",
       "      <td>no</td>\n",
       "      <td>1.609438</td>\n",
       "    </tr>\n",
       "    <tr>\n",
       "      <th>3</th>\n",
       "      <td>1</td>\n",
       "      <td>0.2</td>\n",
       "      <td>no</td>\n",
       "      <td>1.609438</td>\n",
       "    </tr>\n",
       "  </tbody>\n",
       "</table>\n",
       "</div>"
      ],
      "text/plain": [
       "   actual outcome  predicted probability of being in class 1  \\\n",
       "0               0                                        0.2   \n",
       "1               1                                        0.8   \n",
       "2               0                                        0.8   \n",
       "3               1                                        0.2   \n",
       "\n",
       "  prediction close?  prediction error  \n",
       "0               yes          0.223144  \n",
       "1               yes          0.223144  \n",
       "2                no          1.609438  \n",
       "3                no          1.609438  "
      ]
     },
     "execution_count": 48,
     "metadata": {},
     "output_type": "execute_result"
    }
   ],
   "source": [
    "illustration['prediction error'] = log_reg_pred_err(illustration['actual outcome'], \n",
    "                                                    illustration['predicted probability of being in class 1'])\n",
    "\n",
    "illustration"
   ]
  },
  {
   "cell_type": "markdown",
   "metadata": {},
   "source": [
    "Make sure you inspect this dataframe in great detail. It is very important. Remember that the predicted probability is is the probability of being in class 1. \n",
    "\n",
    "We want the predicted probability to be large (close to 1) when the actual outcome score is in class 1. We want the predicted probability to be small (close to 0) when the actual outcome score is in class 0.\n",
    "\n",
    "<b> You can see that when the prediction is close - i.e. when the predicted probability is accurate - the prediction error is small. </b>\n",
    "\n",
    "<b> When the prediction is not close, the prediction error is large. </b>\n",
    "\n",
    "Remember that good model leads to <i> small prediction errors </i>. \n",
    "\n",
    "Even if you do not understand the precise mechanics of the prediction error formulas in logistic regression, you can see how they work. \n",
    "\n",
    "<i> When the predictions are good, the error values are small. When the predictions are bad, the error values are large. </i>\n",
    "\n",
    "Let's illustrate this further with a graph. The graph below shows the prediction error function for logistic regression:"
   ]
  },
  {
   "cell_type": "code",
   "execution_count": 49,
   "metadata": {},
   "outputs": [
    {
     "data": {
      "image/png": "[encoded data removed]",
      "text/plain": [
       "<Figure size 720x576 with 1 Axes>"
      ]
     },
     "metadata": {},
     "output_type": "display_data"
    }
   ],
   "source": [
    "# do not worry about this code, it just generates the graph\n",
    "\n",
    "actual = np.random.choice([0,1], size = 5000)\n",
    "\n",
    "predictions = np.random.uniform(0.01, 0.99, size = 5000)\n",
    "\n",
    "error = log_reg_pred_err(actual, predictions)\n",
    "\n",
    "from mpl_toolkits.mplot3d import Axes3D\n",
    "\n",
    "fig = plt.figure(figsize = (10,8))\n",
    "ax = fig.add_subplot(111, projection='3d')\n",
    "ax.scatter(actual, predictions, error)\n",
    "plt.xlabel('Actual Outcome')\n",
    "plt.xticks([0,1])\n",
    "plt.ylabel('Predicted probability of being in class 1')\n",
    "\n",
    "ax.set_zlabel('Prediction Error');\n",
    "plt.show()"
   ]
  },
  {
   "cell_type": "markdown",
   "metadata": {
    "lines_to_next_cell": 2
   },
   "source": [
    "Again, take a bit of time to go over this graph. It is very important for understanding logistic regression.\n",
    "\n",
    "You can see from the graph that:\n",
    "\n",
    "If the actual outcome class is 0, and the predicted probability is close to 0, the prediction error is low.\n",
    "\n",
    "If the actual outcome class is 0, and the predicted probability is close to 1, the prediction error is high.\n",
    "\n",
    "If the actual outcome class is 1, and the predicted probability is close to 0, the prediction error is high.\n",
    "\n",
    "If the actual outcome class is 1, and the predicted probability is close to 1, the prediction error is low.\n",
    "\n",
    "Keep re-visiting the graph until you are sure of this pattern.\n",
    "\n",
    "## What is the name of the function for calculating prediction errors in logistic regression?\n",
    "\n",
    "The function we have just used for calculating the prediction errors in logistic regression is called the <i> cross-entropy cost function. </i>\n",
    "\n",
    "Conversely the errors in linear regression are calculated using the <i> squared prediction error function </i>.\n",
    "\n",
    "Both of these are shown again below, just so you can see how different they are:\n",
    "\n",
    "### Logistic regression cross-entropy cost function:\n",
    "\n",
    " $$ \\text{if the actual outcome == 1, then:}$$\n",
    " $$\\text{prediction error = -ln(predicted probability)} $$\n",
    "\n",
    " $$ \\text{if the actual outcome == 0, then:}$$\n",
    " $$\\text{prediction error = -ln(1 - predicted probability)} $$\n",
    " \n",
    "### Linear regression squared prediction error function:\n",
    "\n",
    "$$ \\text{squared prediction error = (actual outcome value - predicted outcome value)}^2 $$\n",
    "\n"
   ]
  },
  {
   "cell_type": "markdown",
   "metadata": {},
   "source": [
    "## What do the slope and intercept mean for logit\n",
    "\n",
    "Changing the intercept of the logit straight line moves the corresponding\n",
    "sigmoid curve left and right on the horizontal axis:"
   ]
  },
  {
   "cell_type": "code",
   "execution_count": 50,
   "metadata": {},
   "outputs": [
    {
     "data": {
      "image/png": "[encoded data removed]",
      "text/plain": [
       "<Figure size 432x288 with 1 Axes>"
      ]
     },
     "metadata": {},
     "output_type": "display_data"
    }
   ],
   "source": [
    "for intercept in [-6, -7, -8]:\n",
    "    plt.plot(fine_x,\n",
    "            params2pps([intercept, 0.8], fine_x),\n",
    "            linewidth=1,\n",
    "            linestyle=':',\n",
    "            label='logit intercept=%d' % intercept)\n",
    "plt.title('Sigmoid probability predictions')\n",
    "plt.xlabel('Hemoglobin')\n",
    "plt.ylabel('Probability prediction')\n",
    "plt.legend();"
   ]
  },
  {
   "cell_type": "markdown",
   "metadata": {},
   "source": [
    "Changing the slope of the logit straight line makes the transition from 0 to 1\n",
    "flatter or steeper:"
   ]
  },
  {
   "cell_type": "code",
   "execution_count": 51,
   "metadata": {},
   "outputs": [
    {
     "data": {
      "image/png": "[encoded data removed]",
      "text/plain": [
       "<Figure size 432x288 with 1 Axes>"
      ]
     },
     "metadata": {},
     "output_type": "display_data"
    }
   ],
   "source": [
    "for slope in [0.6, 0.8, 1.0]:\n",
    "    plt.plot(fine_x,\n",
    "            params2pps([-7, slope], fine_x),\n",
    "            linewidth=1,\n",
    "            linestyle=':',\n",
    "            label='logit slope=%.1f' % slope)\n",
    "plt.title('Sigmoid probability predictions')\n",
    "plt.xlabel('Hemoglobin')\n",
    "plt.ylabel('Probability prediction')\n",
    "plt.legend();"
   ]
  },
  {
   "cell_type": "markdown",
   "metadata": {},
   "source": [
    "# Logistic Regression using minimize\n",
    "\n",
    "We now have the tools we need to implement logistic regression using minimize. We are going to predict Anemia status (yes/no) from Red Blood Cell Count.\n",
    "\n",
    "The actual function that we minimize in logistic regression is the <i> average prediction error, </i> where each prediction error is calculated using the cross-entropy function shown above.\n",
    "\n",
    "Let's write a function to pass to `minimize`, which calculates the average prediction error for an intercept and slope pair. Go over the comments in the cell below and make sure you understand what each line is doing."
   ]
  },
  {
   "cell_type": "code",
   "execution_count": 52,
   "metadata": {},
   "outputs": [],
   "source": [
    "def logb(arr, b=np.e):\n",
    "    \"\"\" Logarithm of `arr` to base `b`\n",
    "   \n",
    "    From formula in:\n",
    "    \n",
    "    https://en.wikipedia.org/wiki/Logarithm#Change_of_base\n",
    "    \"\"\"\n",
    "    return np.log(arr) / np.log(b)"
   ]
  },
  {
   "cell_type": "code",
   "execution_count": 53,
   "metadata": {},
   "outputs": [
    {
     "name": "stdout",
     "output_type": "stream",
     "text": [
      "2.3978952727983707 2.3978952727983707\n",
      "1.041392685158225 1.0413926851582251\n",
      "3.4594316186372978 3.4594316186372973\n"
     ]
    }
   ],
   "source": [
    "print(logb(11), np.log(11))\n",
    "print(logb(11, b=10), np.log10(11))\n",
    "print(logb(11, b=2), np.log2(11))"
   ]
  },
  {
   "cell_type": "code",
   "execution_count": 54,
   "metadata": {},
   "outputs": [],
   "source": [
    "def params2pps(intercept_and_slope, x, b=np.e):\n",
    "    \"\"\" Calculate predicted probabilities of 1 for each observation\n",
    "    \"\"\"\n",
    "    # store the intercept and slope as Python variables.\n",
    "    intercept, slope = intercept_and_slope\n",
    "    # Predicted log odds of being in class 1.\n",
    "    predicted_log_odds = intercept + slope * x\n",
    "    # To get the odds, we invert the log operation.\n",
    "    predicted_odds = b ** predicted_log_odds\n",
    "    # Predicted probability of being in class 1.\n",
    "    return predicted_odds / (1 + predicted_odds)"
   ]
  },
  {
   "cell_type": "code",
   "execution_count": 55,
   "metadata": {},
   "outputs": [],
   "source": [
    "def p_y_given_pps(pps, y):\n",
    "    # pps is the predicted probability of being in class 1.\n",
    "    # Because class 1 and 0 are mutually exclusive:\n",
    "    pp0 = 1 - pps\n",
    "    p_of_y = pps.copy()  # y == 1 values correctly set.\n",
    "    p_of_y[y == 0] = pp0[y == 0]  # set the y==0 values.\n",
    "    # Or - equivalently, but rather less readably:\n",
    "    # p_of_y = y * pp1 + (1 - y) * pp0\n",
    "    return p_of_y"
   ]
  },
  {
   "cell_type": "code",
   "execution_count": 56,
   "metadata": {},
   "outputs": [],
   "source": [
    "def calc_log_likelihood(pp1, y, b=np.e):\n",
    "    \"\"\" Overall log likelihood of `y` given predicted ps `pp1`\n",
    "    \"\"\"\n",
    "    p_of_ys = p_y_given_pps(pp1, y)\n",
    "    # Overall likelihood of this intercept, slope combination is the product of\n",
    "    # all the likelihoods (we are multiplying probabilities).\n",
    "    # That would be:\n",
    "    # likelihood = np.prod(likelihoods)\n",
    "    # But - if we just multiply these, there are often so many values close to\n",
    "    # zero that the result gets close to the smallest values the computer can\n",
    "    # represent or even gets smaller, in which case the value becomes 0.\n",
    "    # To avoid this, we can add the logs (instead of taking the product of the\n",
    "    # original values).  Adding the logs gives us the log of the likelihood as\n",
    "    # defined above.\n",
    "    # Which base we use for the log here does not matter, we're just\n",
    "    # trying to maintain the precision, the results will go up and down\n",
    "    # in the same way, for the same values, and we don't care about\n",
    "    # the exact number, only that it is higher for a higher likelihood.\n",
    "    # But - just for completeness, use the general log function.\n",
    "    log_likelihood = np.sum(logb(p_of_ys, b=b))\n",
    "    return log_likelihood"
   ]
  },
  {
   "cell_type": "code",
   "execution_count": 57,
   "metadata": {
    "scrolled": false
   },
   "outputs": [],
   "source": [
    "def log_reg_cost(intercept_and_slope, x, y, b=np.e):\n",
    "    # Predicted probability of being in class 1.\n",
    "    pp1 = params2pps(intercept_and_slope, x, b=b)\n",
    "    # Overall log of the likelihood of observed outomes y\n",
    "    log_likelihood = calc_log_likelihood(pp1, y, b=b)\n",
    "    # At the moment, a higher value here means the intercept and slope are a\n",
    "    # *better* fit, but minimize wants the value to go *down* for a better fit,\n",
    "    # so we just stick a minus on it to make better fits give lower values.\n",
    "    return -log_likelihood"
   ]
  },
  {
   "cell_type": "code",
   "execution_count": 58,
   "metadata": {},
   "outputs": [
    {
     "name": "stdout",
     "output_type": "stream",
     "text": [
      "Base e fun value, best-fit parameters: 29.16799389585646 [-7.29187391  0.79915454]\n",
      "Base 10 fun value, best-fit parameters: 12.667498797159672 [-3.16681915  0.34706827]\n",
      "Base 10 fun value, parameters, scaled by log(10): 29.16799389585987 [-7.29187056  0.79915422]\n",
      "p likelihoods similar? True\n"
     ]
    }
   ],
   "source": [
    "from scipy.optimize import minimize\n",
    "\n",
    "predictor = hgb_app['Hemoglobin']\n",
    "outcome = hgb_app['appetite_dummy']\n",
    "\n",
    "# Results using default base of np.e\n",
    "b_e_res = minimize(log_reg_cost, [1,1], args = (predictor,outcome))\n",
    "p_values_e = params2pps(b_e_res.x, predictor)\n",
    "print('Base e fun value, best-fit parameters:', b_e_res.fun, b_e_res.x)\n",
    "# Results using base 10\n",
    "b_10_res = minimize(log_reg_cost, [1,1], args = (predictor, outcome, 10))\n",
    "p_values_10 = params2pps(b_10_res.x, predictor, b=10)\n",
    "print('Base 10 fun value, best-fit parameters:', b_10_res.fun, b_10_res.x)\n",
    "# The fun value, parameters for log e, log 10 are predictably scaled\n",
    "# versions of each other.\n",
    "print('Base 10 fun value, parameters, scaled by log(10):',\n",
    "      b_10_res.fun * np.log(10), b_10_res.x * np.log(10))\n",
    "# The estimated p values are (more or less) the same.\n",
    "print('p likelihoods similar?', np.allclose(p_values_e, p_values_10))"
   ]
  },
  {
   "cell_type": "code",
   "execution_count": 59,
   "metadata": {},
   "outputs": [
    {
     "data": {
      "text/plain": [
       "0      0.159942\n",
       "1      0.425534\n",
       "2      0.207675\n",
       "3      0.943567\n",
       "4      0.757383\n",
       "         ...   \n",
       "153    0.994805\n",
       "154    0.997252\n",
       "155    0.995202\n",
       "156    0.982979\n",
       "157    0.995202\n",
       "Name: Hemoglobin, Length: 158, dtype: float64"
      ]
     },
     "execution_count": 59,
     "metadata": {},
     "output_type": "execute_result"
    }
   ],
   "source": [
    "# Review what happens with the likelihood.\n",
    "pp1 = params2pps(b_e_res.x, predictor)\n",
    "p_of_ys = p_y_given_pps(pp1, outcome)\n",
    "p_of_ys"
   ]
  },
  {
   "cell_type": "code",
   "execution_count": 60,
   "metadata": {},
   "outputs": [
    {
     "name": "stdout",
     "output_type": "stream",
     "text": [
      "2.150310634930424e-13\n",
      "-29.16799389585646\n",
      "2.1503106349304338e-13\n"
     ]
    }
   ],
   "source": [
    "# We would be sort-of OK with the best parameters, in that\n",
    "# the product of the p values is not that close to 0:\n",
    "likelihood = np.prod(p_of_ys)\n",
    "print(likelihood)\n",
    "log_likelihood = np.sum(np.log(p_of_ys))\n",
    "print(log_likelihood)\n",
    "print(np.e ** log_likelihood)"
   ]
  },
  {
   "cell_type": "code",
   "execution_count": 61,
   "metadata": {},
   "outputs": [
    {
     "data": {
      "text/plain": [
       "0      0.310026\n",
       "1      0.075858\n",
       "2      0.231475\n",
       "3      0.001659\n",
       "4      0.013387\n",
       "         ...   \n",
       "153    0.024127\n",
       "154    0.010987\n",
       "155    0.021881\n",
       "156    0.099750\n",
       "157    0.021881\n",
       "Name: Hemoglobin, Length: 158, dtype: float64"
      ]
     },
     "execution_count": 61,
     "metadata": {},
     "output_type": "execute_result"
    }
   ],
   "source": [
    "# But it's a mess if we are further off, so some of the p\n",
    "# values get very small, and the product of the p values gets\n",
    "# very close to 0 - and then so close that it becomes 0.\n",
    "pp1_bad = params2pps([12, -1], predictor)\n",
    "p_of_ys_bad = p_y_given_pps(pp1_bad, outcome)\n",
    "p_of_ys_bad"
   ]
  },
  {
   "cell_type": "code",
   "execution_count": 62,
   "metadata": {},
   "outputs": [
    {
     "name": "stdout",
     "output_type": "stream",
     "text": [
      "5.973154301684103e-194\n",
      "-444.91423289423165\n",
      "5.973154301684148e-194\n"
     ]
    }
   ],
   "source": [
    "likelihood_bad = np.prod(p_of_ys_bad)\n",
    "print(likelihood_bad)\n",
    "log_likelihood_bad = np.sum(np.log(p_of_ys_bad))\n",
    "print(log_likelihood_bad)\n",
    "print(np.e ** log_likelihood_bad)"
   ]
  },
  {
   "cell_type": "code",
   "execution_count": 63,
   "metadata": {},
   "outputs": [
    {
     "name": "stdout",
     "output_type": "stream",
     "text": [
      "5.9731543016841026370435694158284851613355032167866E-194\n",
      "-444.91423289423162929913986182208901652671868340786\n",
      "5.9731543016841026370435694158284851613355032167541E-194\n"
     ]
    }
   ],
   "source": [
    "# We could fix this with numbers that have 50 digits of precision\n",
    "# but that would be horribly slow.\n",
    "from decimal import Decimal, getcontext\n",
    "getcontext().prec = 50  # 50 decimal points.\n",
    "# An array of numbers working with 50 decimal digits of precision.\n",
    "p_of_ys_bad_hp = p_of_ys_bad.apply(Decimal)\n",
    "likelihood_bad_hp = np.prod(p_of_ys_bad_hp)\n",
    "print(likelihood_bad_hp)\n",
    "logs_hp = p_of_ys_bad_hp.apply(Decimal.ln)\n",
    "log_likelihood_bad_hp = np.sum(logs_hp)\n",
    "print(log_likelihood_bad_hp)\n",
    "e_hp = Decimal(1).exp()  # e to 50 decimal places.\n",
    "print(e_hp ** log_likelihood_bad_hp)"
   ]
  },
  {
   "cell_type": "markdown",
   "metadata": {},
   "source": [
    "Notice above that the log likelihood is near as dammit the same as when we do the calculation without the high-precision numbers, but the high-precision numbers stop the rounding to 0.\n",
    "\n",
    "The conclusion is - we can keep using the log-likelihood at our usual fast precision, but we do need to do the log-likelihood rather than the direct product of p values, to avoid the calculation breaking down when it's trying parameters that are fairly far off."
   ]
  },
  {
   "cell_type": "markdown",
   "metadata": {},
   "source": [
    "Now let's pass our function to `minimize`, to find the slope and intercept which minimize the average prediction error.\n",
    "\n",
    "We'll start with an intercept of 1 and a slope of 1 as our first guess. "
   ]
  },
  {
   "cell_type": "code",
   "execution_count": 64,
   "metadata": {},
   "outputs": [
    {
     "data": {
      "text/plain": [
       "      fun: 29.16799389585646\n",
       " hess_inv: array([[ 0.36272479, -0.04141136],\n",
       "       [-0.04141136,  0.00593735]])\n",
       "      jac: array([-2.38418579e-07,  3.09944153e-06])\n",
       "  message: 'Optimization terminated successfully.'\n",
       "     nfev: 66\n",
       "      nit: 14\n",
       "     njev: 22\n",
       "   status: 0\n",
       "  success: True\n",
       "        x: array([-7.29187391,  0.79915454])"
      ]
     },
     "execution_count": 64,
     "metadata": {},
     "output_type": "execute_result"
    }
   ],
   "source": [
    "# store the predictor variable as a python variable\n",
    "predictor = hgb_app['Hemoglobin']\n",
    "\n",
    "# store the dummy-coded outcome variable as a python variable \n",
    "outcome = hgb_app['appetite_dummy']\n",
    "\n",
    "min_log_reg = minimize(log_reg_cost, [1,1], args = (predictor,outcome))\n",
    "min_log_reg "
   ]
  },
  {
   "cell_type": "markdown",
   "metadata": {},
   "source": [
    "So `minimize` found an intercept of 10.43827715 and a slope of -3.14932093. These values minimize the prediction errors, calculated using the cross-entropy function.\n",
    "\n",
    "The slope is more interesting than the intercept here. \n",
    "\n",
    "In fact the intercept is quite hard to interpret (for those who are interested: it is is the predicted natural logarithm of the odds of being in outcome class 1, for an observation with a Red Blood Cell Count of 0).\n",
    "\n",
    "The precise value of the slope is also quite hard to interpret, because it also relates to the natural logarithm of the odds of being in outcome class 1. \n",
    "\n",
    "However, because the slope is negative, this tells us that as Red Blood Cell Count increases, the odds of being in class 1 (having anemia) decrease.\n",
    "\n",
    "Interpreting logistic regression is much easier if we use this slope and intercept to generate predicted probabilities of having anemia, for each observation.\n",
    "\n",
    "As we did before, let's generate the predicted probabilities using the intercept/slope values that `minimize` has found. The formulas for doing this are shown once more here for convenience:\n",
    "\n",
    "Calculate the predicted odds of having anemia:\n",
    "\n",
    "$$ \\text{predicted odds of anemia} = e^{\\text{intercept + slope * Red Blood Cell Count}} $$\n",
    "\n",
    "Calculate the predicted probability of having anemia:\n",
    "\n",
    "$$ \\text{predicted probability of anemia} = \\frac{e^{\\text{intercept + slope * Red Blood Cell Count}}}{1 + e^{\\text{intercept + slope * Red Blood Cell Count}}} = \\frac{e^{\\text{odds of anemia}}}{1 + e^{\\text{odds of anemia}}} $$\n",
    "\n",
    "<i> Remember: </i> there is one predicted probability for each observation. This predicts the probability of having anemia for that patient, based on the patient's score on the Red Blood Cell Count variable."
   ]
  },
  {
   "cell_type": "code",
   "execution_count": 65,
   "metadata": {},
   "outputs": [
    {
     "data": {
      "text/plain": [
       "0      0.840058\n",
       "1      0.574466\n",
       "2      0.792325\n",
       "3      0.056433\n",
       "4      0.242617\n",
       "         ...   \n",
       "153    0.994805\n",
       "154    0.997252\n",
       "155    0.995202\n",
       "156    0.982979\n",
       "157    0.995202\n",
       "Name: Hemoglobin, Length: 158, dtype: float64"
      ]
     },
     "execution_count": 65,
     "metadata": {},
     "output_type": "execute_result"
    }
   ],
   "source": [
    "# store the intercept as a python variable\n",
    "log_reg_intercept = min_log_reg.x[0]\n",
    "\n",
    "# store the slope as a python variable\n",
    "log_reg_slope = min_log_reg.x[1]\n",
    "\n",
    "# generate the predicted odds of having anemia (using the tricks from above)\n",
    "predicted_odds_log_reg = np.e**(log_reg_intercept + log_reg_slope * hgb_app['Hemoglobin'])\n",
    "\n",
    "# generate the predicted probability of having anemia (using the tricks from above)\n",
    "predicted_probs_log_reg = predicted_odds_log_reg/(1 + predicted_odds_log_reg)\n",
    "\n",
    "predicted_probs_log_reg"
   ]
  },
  {
   "cell_type": "markdown",
   "metadata": {},
   "source": [
    "Let's plot the predictions against the actual data:"
   ]
  },
  {
   "cell_type": "code",
   "execution_count": 66,
   "metadata": {},
   "outputs": [
    {
     "data": {
      "image/png": "[encoded data removed]",
      "text/plain": [
       "<Figure size 720x288 with 1 Axes>"
      ]
     },
     "metadata": {},
     "output_type": "display_data"
    }
   ],
   "source": [
    "# do not worry about this code, it just generates the graph\n",
    "plt.figure(figsize = (10, 4))\n",
    "plt.scatter(hgb_app['Hemoglobin'], hgb_app['appetite_dummy'], label = 'not anemic')\n",
    "plt.scatter(hgb_app[hgb_app['Appetite'] == 'yes']['Hemoglobin'], \n",
    "                             hgb_app[hgb_app['Appetite'] == 'yes']['appetite_dummy'], color = 'red',\n",
    "            label = 'anemic')\n",
    "plt.scatter(hgb_app['Hemoglobin'], predicted_probs_log_reg, \n",
    "            label = 'predicted probability of anemia (logistic regression)', color = 'green')\n",
    "plt.xlabel('Hemoglobin')\n",
    "plt.ylabel('Anemia \\n(0 = no, 1 = yes)')\n",
    "plt.legend()\n",
    "plt.yticks([0,0.5, 1]);"
   ]
  },
  {
   "cell_type": "markdown",
   "metadata": {},
   "source": [
    "Just for comparison, let's also show the predictions we got when we predicted the probabilities using the slope and intercept that we got from linear regression:"
   ]
  },
  {
   "cell_type": "code",
   "execution_count": 67,
   "metadata": {},
   "outputs": [
    {
     "ename": "NameError",
     "evalue": "name 'prob_anemia' is not defined",
     "output_type": "error",
     "traceback": [
      "\u001b[0;31m---------------------------------------------------------------------------\u001b[0m",
      "\u001b[0;31mNameError\u001b[0m                                 Traceback (most recent call last)",
      "\u001b[0;32m<ipython-input-67-fddd39f7d4e0>\u001b[0m in \u001b[0;36m<module>\u001b[0;34m\u001b[0m\n\u001b[1;32m      7\u001b[0m plt.scatter(hgb_app['Hemoglobin'], predicted_probs_log_reg, \n\u001b[1;32m      8\u001b[0m             label = 'predicted probability of anemia (logistic regression)', color = 'green')\n\u001b[0;32m----> 9\u001b[0;31m plt.scatter(hgb_app['Hemoglobin'], prob_anemia, \n\u001b[0m\u001b[1;32m     10\u001b[0m             label = 'predicted probability of anemia (linear regression)', color = 'orange')\n\u001b[1;32m     11\u001b[0m \u001b[0mplt\u001b[0m\u001b[0;34m.\u001b[0m\u001b[0mxlabel\u001b[0m\u001b[0;34m(\u001b[0m\u001b[0;34m'Hemoglobin'\u001b[0m\u001b[0;34m)\u001b[0m\u001b[0;34m\u001b[0m\u001b[0;34m\u001b[0m\u001b[0m\n",
      "\u001b[0;31mNameError\u001b[0m: name 'prob_anemia' is not defined"
     ]
    },
    {
     "data": {
      "image/png": "[encoded data removed]",
      "text/plain": [
       "<Figure size 720x288 with 1 Axes>"
      ]
     },
     "metadata": {},
     "output_type": "display_data"
    }
   ],
   "source": [
    "# do not worry about this code, it just generates the graph\n",
    "plt.figure(figsize = (10, 4))\n",
    "plt.scatter(hgb_app['Hemoglobin'], hgb_app['appetite_dummy'], label = 'not anemic')\n",
    "plt.scatter(hgb_app[hgb_app['Appetite'] == 'yes']['Hemoglobin'], \n",
    "                             hgb_app[hgb_app['Appetite'] == 'yes']['appetite_dummy'], color = 'red',\n",
    "            label = 'anemic')\n",
    "plt.scatter(hgb_app['Hemoglobin'], predicted_probs_log_reg, \n",
    "            label = 'predicted probability of anemia (logistic regression)', color = 'green')\n",
    "plt.scatter(hgb_app['Hemoglobin'], prob_anemia, \n",
    "            label = 'predicted probability of anemia (linear regression)', color = 'orange')\n",
    "plt.xlabel('Hemoglobin')\n",
    "plt.ylabel('Anemia \\n(0 = no, 1 = yes)')\n",
    "plt.legend()\n",
    "plt.yticks([0,0.5, 1]);"
   ]
  },
  {
   "cell_type": "markdown",
   "metadata": {},
   "source": [
    "We can see that logistic regression fits the data much better.\n",
    "\n",
    "With logistic regression, the predicted probability of having anemia falls steeply as the Red Blood Cell Count increases.\n",
    "\n",
    "The predicted probabilities from linear regression overestimate the probability of anemia at higher values of Red Blood Cell Count.\n",
    "\n",
    "You can see that the predictions from logistic regression form an 'S' shape. This is a nonlinear function called a <i> sigmoid function. </i>\n",
    "\n",
    "Linear regression fits a <i> line to directly predict outcome scores, based on scores on a predictor variable.</i>\n",
    "\n",
    "Logistic regression fits a <i> sigmoid function to predict the probability of being in one of two categories, based on scores on a predictor variable </i>."
   ]
  },
  {
   "cell_type": "markdown",
   "metadata": {},
   "source": [
    "## Logistic Regression with statsmodels\n",
    "\n",
    "As with linear regression, we can easily perform logistic regression using statsmodels.\n",
    "\n",
    "To do this, we first have to add a column of 1's to the predictor variable. This is to ensure the intercept is fitted correctly, though we will not explore why - just remember to do it in order to get better estimates! We can use the statsmodels function `add_constant()` to do this:\n",
    "\n",
    "<i> Note: here we are using `statsmodels.api` rather than `statsmodels.formula.api` </i> "
   ]
  },
  {
   "cell_type": "code",
   "execution_count": null,
   "metadata": {},
   "outputs": [],
   "source": [
    "list(df)"
   ]
  },
  {
   "cell_type": "code",
   "execution_count": null,
   "metadata": {},
   "outputs": [],
   "source": [
    "import statsmodels.formula.api as smf"
   ]
  },
  {
   "cell_type": "code",
   "execution_count": null,
   "metadata": {},
   "outputs": [],
   "source": [
    "# Creating the model\n",
    "op_col = 'Appetite'\n",
    "val_1 = 'good'\n",
    "ip_col = 'Hemoglobin'\n",
    "ip_df = df.loc[:, [op_col, ip_col]]\n",
    "ip_df['dummy'] = (ip_df[op_col] == val_1).astype(int)\n",
    "ip_df.plot.scatter(ip_col, 'dummy')"
   ]
  },
  {
   "cell_type": "code",
   "execution_count": null,
   "metadata": {},
   "outputs": [],
   "source": [
    "col_is_obj = df.dtypes == object\n",
    "category_cols = df.columns[col_is_obj]\n",
    "num_cols = df.columns[~col_is_obj]\n",
    "nums = df.replace({'yes': 1, 'no': 0,\n",
    "                   'abnormal': 1, 'normal': 0,\n",
    "                   'present': 1, 'notpresent': 0,\n",
    "                   'good': 1, 'poor': 0\n",
    "                  }).astype(np.float)\n",
    "nums.corr().loc[category_cols, num_cols]"
   ]
  },
  {
   "cell_type": "code",
   "execution_count": null,
   "metadata": {},
   "outputs": [],
   "source": [
    "log_reg_mod = smf.logit('dummy ~ Q(\"{}\")'.format(ip_col),\n",
    "                        data=ip_df)\n",
    "\n",
    "fitted_log_reg_mod = log_reg_mod.fit() # fitting the model\n",
    "\n",
    "fitted_log_reg_mod.summary() # showing the model summary"
   ]
  },
  {
   "cell_type": "markdown",
   "metadata": {},
   "source": [
    "Look at the table above under 'coef'. Compare the logistic regression intercept and slope that statsmodels has obtained to the ones we obtained through using `minimize`:"
   ]
  },
  {
   "cell_type": "code",
   "execution_count": null,
   "metadata": {},
   "outputs": [],
   "source": [
    "print('Intercept from minimize =', log_reg_intercept)\n",
    "print('Slope from minimize =', log_reg_slope)"
   ]
  },
  {
   "cell_type": "markdown",
   "metadata": {},
   "source": [
    "Finally, we can use the `predict` method of statsmodels to generate predicted\n",
    "probabilities from the logistic regression model we just fitted:"
   ]
  },
  {
   "cell_type": "code",
   "execution_count": null,
   "metadata": {},
   "outputs": [],
   "source": [
    "sm_predictions = fitted_log_reg_mod.predict(ip_df[ip_col])\n",
    "sm_predictions"
   ]
  },
  {
   "cell_type": "markdown",
   "metadata": {},
   "source": [
    "Let's plot the predicted probabilities of having anemia, from statsmodels:"
   ]
  },
  {
   "cell_type": "code",
   "execution_count": null,
   "metadata": {},
   "outputs": [],
   "source": [
    "# do not worry about this code, it just generates the graph\n",
    "plt.figure(figsize = (10, 4))\n",
    "plt.scatter(hgb_app['Hemoglobin'], hgb_app['appetite_dummy'], label = 'not anemic')\n",
    "plt.scatter(hgb_app[hgb_app['Appetite'] == 'yes']['Hemoglobin'], \n",
    "                             hgb_app[hgb_app['Appetite'] == 'yes']['appetite_dummy'], color = 'red',\n",
    "            label = 'anemic')\n",
    "plt.scatter(hgb_app['Hemoglobin'], sm_predictions,\n",
    "            label = 'predicted probability of anemia (statsmodels logistic regression)', color = 'cyan')\n",
    "plt.xlabel('Hemoglobin')\n",
    "plt.ylabel('Anemia \\n(0 = no, 1 = yes)')\n",
    "plt.legend()\n",
    "plt.yticks([0,0.5, 1]);"
   ]
  },
  {
   "cell_type": "markdown",
   "metadata": {},
   "source": [
    "We can see graphically that these predictions look identical to the ones we obtained from minimize.\n",
    "\n",
    "Let's see what the largest absolute difference between the predictions from the two methods is:"
   ]
  },
  {
   "cell_type": "code",
   "execution_count": null,
   "metadata": {},
   "outputs": [],
   "source": [
    "np.max(np.abs(predicted_probs_log_reg - sm_predictions))"
   ]
  },
  {
   "cell_type": "markdown",
   "metadata": {},
   "source": [
    "That is very close to 0. The models are making almost identical predictions."
   ]
  },
  {
   "cell_type": "markdown",
   "metadata": {},
   "source": [
    "## Summary\n",
    "\n",
    "This tutorial has shown you how to do binary logistic regression with one numerical predictor variable."
   ]
  }
 ],
 "metadata": {
  "jupytext": {
   "notebook_metadata_filter": "all,-language_info",
   "split_at_heading": true
  },
  "kernelspec": {
   "display_name": "Python 3",
   "language": "python",
   "name": "python3"
  },
  "language_info": {
   "codemirror_mode": {
    "name": "ipython",
    "version": 3
   },
   "file_extension": ".py",
   "mimetype": "text/x-python",
   "name": "python",
   "nbconvert_exporter": "python",
   "pygments_lexer": "ipython3",
   "version": "3.8.6"
  }
 },
 "nbformat": 4,
 "nbformat_minor": 5
}
