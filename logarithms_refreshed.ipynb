{
 "cells": [
  {
   "cell_type": "markdown",
   "metadata": {},
   "source": [
    "# A refresher on logarithms"
   ]
  },
  {
   "cell_type": "code",
   "execution_count": 1,
   "metadata": {
    "tags": [
     "hide-cell"
    ]
   },
   "outputs": [],
   "source": [
    "import numpy as np\n",
    "# Don't use exponential notation in showing values in arrays.\n",
    "# Only show array values to 4 decimal digits\n",
    "np.set_printoptions(suppress=True, precision=4)"
   ]
  },
  {
   "cell_type": "markdown",
   "metadata": {},
   "source": [
    "This is a whirlwind tour of logarithms.\n"
   ]
  },
  {
   "cell_type": "markdown",
   "metadata": {},
   "source": [
    "## Logarithms calculate exponents"
   ]
  },
  {
   "cell_type": "markdown",
   "metadata": {},
   "source": [
    "Logarithms ask the question of a number - \"what exponent do I need in order to\n",
    "make that number\"?\n",
    "\n",
    "The [exponent](https://en.wikipedia.org/wiki/Exponentiation) is the\n",
    "superscript number when we take one number to the power of another.  For\n",
    "example, we can read $10^3$ as \"10 raised to the power of 3\". The 10 in this\n",
    "expression is called the *base*, and the 3 is the *exponent*.\n",
    "\n",
    "In Python, we write that expression as:"
   ]
  },
  {
   "cell_type": "code",
   "execution_count": 2,
   "metadata": {},
   "outputs": [
    {
     "data": {
      "text/plain": [
       "1000"
      ]
     },
     "execution_count": 2,
     "metadata": {},
     "output_type": "execute_result"
    }
   ],
   "source": [
    "# 10 raised to the power of 3.  3 is the exponent.\n",
    "10 ** 3"
   ]
  },
  {
   "cell_type": "markdown",
   "metadata": {},
   "source": [
    "For example, consider the number:"
   ]
  },
  {
   "cell_type": "code",
   "execution_count": 3,
   "metadata": {},
   "outputs": [],
   "source": [
    "x = 100"
   ]
  },
  {
   "cell_type": "markdown",
   "metadata": {},
   "source": [
    "I want to write that number as 10 raised to the power of something - $10^y$.\n",
    "$y$ is the *exponent* that I need for 10, to make 100.  In this case I can see\n",
    "that $y$ must be 2, because $10^2 = 10 * 10 = 100$.  If $x = 1000$ then $y =\n",
    "3$ because $10^3 = 10 * 10 * 10 = 1000$. The function `np.log10` works this\n",
    "out for us.  It takes the numbers we send it, and works out the exponent(s) it\n",
    "needs to apply to 10 (the *base*), into order to get the input numbers.  For\n",
    "example:"
   ]
  },
  {
   "cell_type": "code",
   "execution_count": 4,
   "metadata": {},
   "outputs": [
    {
     "data": {
      "text/plain": [
       "array([2., 3.])"
      ]
     },
     "execution_count": 4,
     "metadata": {},
     "output_type": "execute_result"
    }
   ],
   "source": [
    "np.log10([100, 1000])"
   ]
  },
  {
   "cell_type": "markdown",
   "metadata": {},
   "source": [
    "The exponents don't have to be whole numbers.  For example, I can calculate\n",
    "$10^{3.5}$:"
   ]
  },
  {
   "cell_type": "code",
   "execution_count": 5,
   "metadata": {},
   "outputs": [
    {
     "data": {
      "text/plain": [
       "3162.2776601683795"
      ]
     },
     "execution_count": 5,
     "metadata": {},
     "output_type": "execute_result"
    }
   ],
   "source": [
    "v = 10 ** 3.5\n",
    "v"
   ]
  },
  {
   "cell_type": "markdown",
   "metadata": {},
   "source": [
    "`np.log10` will find this exponent for me too:"
   ]
  },
  {
   "cell_type": "code",
   "execution_count": 6,
   "metadata": {},
   "outputs": [
    {
     "data": {
      "text/plain": [
       "3.5"
      ]
     },
     "execution_count": 6,
     "metadata": {},
     "output_type": "execute_result"
    }
   ],
   "source": [
    "np.log10(v)"
   ]
  },
  {
   "cell_type": "markdown",
   "metadata": {},
   "source": [
    "and:"
   ]
  },
  {
   "cell_type": "code",
   "execution_count": 7,
   "metadata": {},
   "outputs": [
    {
     "data": {
      "text/plain": [
       "array([2. , 3. , 3.5])"
      ]
     },
     "execution_count": 7,
     "metadata": {},
     "output_type": "execute_result"
    }
   ],
   "source": [
    "L = np.log10([100, 1000, v])\n",
    "L"
   ]
  },
  {
   "cell_type": "markdown",
   "metadata": {},
   "source": [
    "`np.log10` reverses the effect of calculating 10 to the power of some value."
   ]
  },
  {
   "cell_type": "code",
   "execution_count": 8,
   "metadata": {},
   "outputs": [
    {
     "data": {
      "text/plain": [
       "array([  100,  1000, 10000])"
      ]
     },
     "execution_count": 8,
     "metadata": {},
     "output_type": "execute_result"
    }
   ],
   "source": [
    "values = np.array([2, 3, 4])\n",
    "v_exp_10 = 10 ** values\n",
    "v_exp_10"
   ]
  },
  {
   "cell_type": "code",
   "execution_count": 9,
   "metadata": {},
   "outputs": [
    {
     "data": {
      "text/plain": [
       "array([2., 3., 4.])"
      ]
     },
     "execution_count": 9,
     "metadata": {},
     "output_type": "execute_result"
    }
   ],
   "source": [
    "# log10 reverses the effect of 10 to the power of some values, to get those\n",
    "# values back.\n",
    "np.log10(v_exp_10)"
   ]
  },
  {
   "cell_type": "markdown",
   "metadata": {},
   "source": [
    "Similarly, if I've transformed some values with `np.log10`, I can reverse that\n",
    "transformation by taking 10 to the power of the transformed values:"
   ]
  },
  {
   "cell_type": "code",
   "execution_count": 10,
   "metadata": {},
   "outputs": [
    {
     "data": {
      "text/plain": [
       "array([1.    , 1.1761, 1.301 ])"
      ]
     },
     "execution_count": 10,
     "metadata": {},
     "output_type": "execute_result"
    }
   ],
   "source": [
    "more_values = np.array([10, 15, 20])\n",
    "v_log_10 = np.log10(more_values)\n",
    "v_log_10"
   ]
  },
  {
   "cell_type": "code",
   "execution_count": 11,
   "metadata": {},
   "outputs": [
    {
     "data": {
      "text/plain": [
       "array([10., 15., 20.])"
      ]
     },
     "execution_count": 11,
     "metadata": {},
     "output_type": "execute_result"
    }
   ],
   "source": [
    "# Taking 10 to the power of some values, reverses the effect of log10.\n",
    "10 ** v_log_10"
   ]
  },
  {
   "cell_type": "markdown",
   "metadata": {},
   "source": [
    "More on this below."
   ]
  },
  {
   "cell_type": "markdown",
   "metadata": {},
   "source": [
    "## Exponents less than, equal to 1\n",
    "\n",
    "You may remember that exponents can be less than 1.  For example $10^{0.5}$ is\n",
    "the square root of 10:"
   ]
  },
  {
   "cell_type": "code",
   "execution_count": 12,
   "metadata": {},
   "outputs": [
    {
     "name": "stdout",
     "output_type": "stream",
     "text": [
      "3.1622776601683795\n",
      "3.1622776601683795\n"
     ]
    }
   ],
   "source": [
    "print(np.sqrt(10))\n",
    "print(10 ** 0.5)"
   ]
  },
  {
   "cell_type": "markdown",
   "metadata": {},
   "source": [
    "Therefore:"
   ]
  },
  {
   "cell_type": "code",
   "execution_count": 13,
   "metadata": {},
   "outputs": [
    {
     "data": {
      "text/plain": [
       "0.5"
      ]
     },
     "execution_count": 13,
     "metadata": {},
     "output_type": "execute_result"
    }
   ],
   "source": [
    "np.log10(np.sqrt(10))"
   ]
  },
  {
   "cell_type": "markdown",
   "metadata": {},
   "source": [
    "It is a bit difficult to think about what $10^0$ might mean, but the rule is\n",
    "that $10^0$ is equal to 1, and therefore log10 of 1 is 0:"
   ]
  },
  {
   "cell_type": "code",
   "execution_count": 14,
   "metadata": {},
   "outputs": [
    {
     "data": {
      "text/plain": [
       "0.0"
      ]
     },
     "execution_count": 14,
     "metadata": {},
     "output_type": "execute_result"
    }
   ],
   "source": [
    "np.log10(1)"
   ]
  },
  {
   "cell_type": "markdown",
   "metadata": {},
   "source": [
    "Exponents can be negative.  A negative exponent gives the equivalent calculation to taking the power to the exponent without the minus sign, and then dividing into 1 - like this:"
   ]
  },
  {
   "cell_type": "code",
   "execution_count": 15,
   "metadata": {},
   "outputs": [
    {
     "name": "stdout",
     "output_type": "stream",
     "text": [
      "10 ** -2 equals 0.01\n",
      "1 / 10 ** 2 equals 0.01\n"
     ]
    }
   ],
   "source": [
    "print('10 ** -2 equals', 10 ** -2)\n",
    "print('1 / 10 ** 2 equals', 1 / (10 ** 2))"
   ]
  },
  {
   "cell_type": "markdown",
   "metadata": {},
   "source": [
    "Therefore, a log of a number less than 1 will be negative:"
   ]
  },
  {
   "cell_type": "code",
   "execution_count": 16,
   "metadata": {},
   "outputs": [
    {
     "data": {
      "text/plain": [
       "array([-0.301, -1.   , -2.   ])"
      ]
     },
     "execution_count": 16,
     "metadata": {},
     "output_type": "execute_result"
    }
   ],
   "source": [
    "np.log10([0.5, 0.1, 0.01])"
   ]
  },
  {
   "cell_type": "markdown",
   "metadata": {},
   "source": [
    "But - logarithms don't know how to handle minus numbers.  For example, there is\n",
    "no exponent you can apply to 10 to get -100:"
   ]
  },
  {
   "cell_type": "code",
   "execution_count": 17,
   "metadata": {},
   "outputs": [
    {
     "name": "stderr",
     "output_type": "stream",
     "text": [
      "<ipython-input-17-77667cb0d686>:1: RuntimeWarning: invalid value encountered in log10\n",
      "  np.log10(-100)\n"
     ]
    },
    {
     "data": {
      "text/plain": [
       "nan"
      ]
     },
     "execution_count": 17,
     "metadata": {},
     "output_type": "execute_result"
    }
   ],
   "source": [
    "np.log10(-100)"
   ]
  },
  {
   "cell_type": "markdown",
   "metadata": {},
   "source": [
    "## The logarithm base"
   ]
  },
  {
   "cell_type": "markdown",
   "metadata": {},
   "source": [
    "So far all our examples of logs have been calculating the exponents for 10.\n",
    "This is what `np.log10` does.  10 is called the *base* of the logarithm - the\n",
    "number that we are calculating the exponent for. `np.log10` calculates\n",
    "logarithms with base 10.\n",
    "\n",
    "The base doesn't have to be 10.  Another common option is `np.log2` where we calculate the exponent we have to apply to 2, to get the input numbers:"
   ]
  },
  {
   "cell_type": "code",
   "execution_count": 18,
   "metadata": {},
   "outputs": [
    {
     "data": {
      "text/plain": [
       "array([1.    , 2.    , 3.    , 3.3219])"
      ]
     },
     "execution_count": 18,
     "metadata": {},
     "output_type": "execute_result"
    }
   ],
   "source": [
    "np.log2([2, 4, 8, 10])"
   ]
  },
  {
   "cell_type": "markdown",
   "metadata": {},
   "source": [
    "In fact an even more common option is to use the special number $e$ as the\n",
    "base.  This is because taking exponents or calculating logarithms with base $e$\n",
    "have some very convenient mathematical properties, that are not relevant to us\n",
    "here.  Log to the base e is so common that Numpy simply uses `np.log` to mean\n",
    "logarithm to base $e$."
   ]
  },
  {
   "cell_type": "code",
   "execution_count": 19,
   "metadata": {},
   "outputs": [
    {
     "name": "stdout",
     "output_type": "stream",
     "text": [
      "e 2.718281828459045\n",
      "e squared 7.3890560989306495\n",
      "e cubed 20.085536923187664\n"
     ]
    }
   ],
   "source": [
    "print('e', np.e)\n",
    "print('e squared', np.e ** 2)\n",
    "print('e cubed', np.e ** 3)"
   ]
  },
  {
   "cell_type": "markdown",
   "metadata": {},
   "source": [
    "As you would expect, `np.log` returns the exponent we need to apply to $e$ to recreate the input numbers:"
   ]
  },
  {
   "cell_type": "code",
   "execution_count": 20,
   "metadata": {},
   "outputs": [
    {
     "data": {
      "text/plain": [
       "array([1., 2., 3.])"
      ]
     },
     "execution_count": 20,
     "metadata": {},
     "output_type": "execute_result"
    }
   ],
   "source": [
    "np.log([np.e, np.e ** 2, np.e ** 3])"
   ]
  },
  {
   "cell_type": "markdown",
   "metadata": {},
   "source": [
    "As for all log bases, log of 1 is 0, and numbers less than 1 give negative log\n",
    "values:"
   ]
  },
  {
   "cell_type": "code",
   "execution_count": 21,
   "metadata": {},
   "outputs": [
    {
     "data": {
      "text/plain": [
       "array([ 0.    , -0.6931, -2.3026])"
      ]
     },
     "execution_count": 21,
     "metadata": {},
     "output_type": "execute_result"
    }
   ],
   "source": [
    "np.log([1, 0.5, 0.1])"
   ]
  },
  {
   "cell_type": "markdown",
   "metadata": {},
   "source": [
    "Numpy has a function that calculates $e^y$ - `np.exp`.   It is just a short-hand for taking $e$ to the power of the input values."
   ]
  },
  {
   "cell_type": "code",
   "execution_count": 22,
   "metadata": {},
   "outputs": [
    {
     "name": "stdout",
     "output_type": "stream",
     "text": [
      "e raised to the power of the exponents [ 1.      7.3891 20.0855  1.6487]\n",
      "is the same as np.exp of the exponents [ 1.      7.3891 20.0855  1.6487]\n"
     ]
    }
   ],
   "source": [
    "my_exponents = np.array([0, 2, 3, 0.5])\n",
    "print(\"e raised to the power of the exponents\", np.e ** my_exponents)\n",
    "print(\"is the same as np.exp of the exponents\", np.exp(my_exponents))"
   ]
  },
  {
   "cell_type": "markdown",
   "metadata": {},
   "source": [
    "## Raising to the power and logs are inverses of each other\n",
    "\n",
    "As you've already seen above, for base 10, the logarithm function is the\n",
    "inverse (reverse operation) of raising numbers to the power of some base.\n",
    "\n",
    "Let us return to base 10.  Consider `z = 10 ** y` and `np.log10(z)`.\n",
    "`np.log10(z)` reverses the effect of the first step, taking 10 raised to the\n",
    "power of `y`.  It returns the original `y` (maybe with some small loss of\n",
    "precision)."
   ]
  },
  {
   "cell_type": "code",
   "execution_count": 23,
   "metadata": {},
   "outputs": [
    {
     "name": "stdout",
     "output_type": "stream",
     "text": [
      "Result (z) of raising 10 to the power of y [      1.           3.1623    1000.     1000000.    ]\n",
      "Result of log10 on z restores original y [0.  0.5 3.  6. ]\n"
     ]
    }
   ],
   "source": [
    "y = np.array([0, 0.5, 3, 6])\n",
    "z = 10 ** y\n",
    "print('Result (z) of raising 10 to the power of y', z)\n",
    "w = np.log10(z)\n",
    "print('Result of log10 on z restores original y', w)"
   ]
  },
  {
   "cell_type": "markdown",
   "metadata": {},
   "source": [
    "This is true of any log base, but we have to remember to raise the numbers to the correct base.  Above, the base was 10, here the base is `np.e`."
   ]
  },
  {
   "cell_type": "code",
   "execution_count": 24,
   "metadata": {},
   "outputs": [
    {
     "name": "stdout",
     "output_type": "stream",
     "text": [
      "Result (z_for_e) of raising e to the power of y [  1.       1.6487  20.0855 403.4288]\n",
      "Result of log on z_for_e restores original y [0.  0.5 3.  6. ]\n"
     ]
    }
   ],
   "source": [
    "y = np.array([0, 0.5, 3, 6])\n",
    "z_for_e = np.e ** y\n",
    "print('Result (z_for_e) of raising e to the power of y', z_for_e)\n",
    "w_for_e = np.log(z_for_e)\n",
    "print('Result of log on z_for_e restores original y', w_for_e)"
   ]
  },
  {
   "cell_type": "markdown",
   "metadata": {},
   "source": [
    "You've seen that `np.log10` is the inverse of raising 10 to the power of an\n",
    "array.  In the same way, raising 10 to the power of an array reverses the effect of applying `np.log10`."
   ]
  },
  {
   "cell_type": "code",
   "execution_count": 25,
   "metadata": {},
   "outputs": [
    {
     "name": "stdout",
     "output_type": "stream",
     "text": [
      "Result (b) of log10 on a [-0.301   0.4771  0.699   0.    ]\n",
      "Result of 10 raised to power b restores original a [0.5 3.  5.  1. ]\n"
     ]
    }
   ],
   "source": [
    "a = np.array([0.5, 3, 5, 1])\n",
    "b = np.log10(a)\n",
    "print('Result (b) of log10 on a', b)\n",
    "c = 10 ** b\n",
    "print('Result of 10 raised to power b restores original a', c)"
   ]
  },
  {
   "cell_type": "markdown",
   "metadata": {},
   "source": [
    "Here's the same thing with base `np.e`."
   ]
  },
  {
   "cell_type": "code",
   "execution_count": 26,
   "metadata": {},
   "outputs": [
    {
     "name": "stdout",
     "output_type": "stream",
     "text": [
      "Result (b_for_e) of log10 on a [-0.6931  1.0986  1.6094  0.    ]\n",
      "Result of 10 raised to power b_for_e restores original a [0.5 3.  5.  1. ]\n"
     ]
    }
   ],
   "source": [
    "a = np.array([0.5, 3, 5, 1])\n",
    "b_for_e = np.log(a)\n",
    "print('Result (b_for_e) of log10 on a', b_for_e)\n",
    "c_for_e = np.e ** b_for_e\n",
    "print('Result of 10 raised to power b_for_e restores original a', c_for_e)"
   ]
  },
  {
   "cell_type": "markdown",
   "metadata": {},
   "source": [
    "## Multiplying is adding with logarithms\n",
    "\n",
    "One very important property of logarithms is that, once we have transformed\n",
    "values to logs, addition becomes equivalent to multiplication of the original\n",
    "values.\n",
    "\n",
    "This is easiest to see by example.  Here we multiply two numbers:"
   ]
  },
  {
   "cell_type": "code",
   "execution_count": 27,
   "metadata": {},
   "outputs": [
    {
     "data": {
      "text/plain": [
       "100000"
      ]
     },
     "execution_count": 27,
     "metadata": {},
     "output_type": "execute_result"
    }
   ],
   "source": [
    "y = 100 * 1000\n",
    "y"
   ]
  },
  {
   "cell_type": "markdown",
   "metadata": {},
   "source": [
    "We can do the same operation by:\n",
    "\n",
    "* Taking the logarithm transform of the numbers.\n",
    "* Adding the two logarithms.\n",
    "* Inverting the logarithm transform by raising the result to the corresponding\n",
    "  power.\n",
    "\n",
    "We call this the log-add-unlog procedure.  Using this procedure, we replace\n",
    "multiplication by addition of logs.\n",
    "\n",
    "Let us see that in action:"
   ]
  },
  {
   "cell_type": "code",
   "execution_count": 28,
   "metadata": {},
   "outputs": [
    {
     "data": {
      "text/plain": [
       "100000.0"
      ]
     },
     "execution_count": 28,
     "metadata": {},
     "output_type": "execute_result"
    }
   ],
   "source": [
    "# log of input numbers.\n",
    "v1 = np.log10(100)\n",
    "v2 = np.log10(1000)\n",
    "# add the logs\n",
    "v3 = v1 + v2\n",
    "# unlog by raising to the power of the result.\n",
    "y_from_log = 10 ** v3\n",
    "y_from_log"
   ]
  },
  {
   "cell_type": "markdown",
   "metadata": {},
   "source": [
    "We can also do these operations on multiple values with arrays."
   ]
  },
  {
   "cell_type": "code",
   "execution_count": 29,
   "metadata": {},
   "outputs": [
    {
     "name": "stdout",
     "output_type": "stream",
     "text": [
      "Product of array 100000\n"
     ]
    }
   ],
   "source": [
    "# Standard multiplication.\n",
    "arr = np.array([100, 1000])\n",
    "# np.prod multiplies the elements of the array\n",
    "print('Product of array', np.prod(arr))"
   ]
  },
  {
   "cell_type": "markdown",
   "metadata": {},
   "source": [
    "Here's the log-add-unlog method on the array:\n"
   ]
  },
  {
   "cell_type": "code",
   "execution_count": 30,
   "metadata": {},
   "outputs": [
    {
     "data": {
      "text/plain": [
       "array([2., 3.])"
      ]
     },
     "execution_count": 30,
     "metadata": {},
     "output_type": "execute_result"
    }
   ],
   "source": [
    "# Log\n",
    "log_arr = np.log10(arr)\n",
    "log_arr"
   ]
  },
  {
   "cell_type": "code",
   "execution_count": 31,
   "metadata": {},
   "outputs": [],
   "source": [
    "# Add\n",
    "log_sum = np.sum(log_arr)"
   ]
  },
  {
   "cell_type": "code",
   "execution_count": 32,
   "metadata": {},
   "outputs": [
    {
     "name": "stdout",
     "output_type": "stream",
     "text": [
      "log-add-unlog of array 100000.0\n"
     ]
    }
   ],
   "source": [
    "# Unlog.\n",
    "print('log-add-unlog of array', 10 ** log_sum)"
   ]
  },
  {
   "cell_type": "markdown",
   "metadata": {},
   "source": [
    "Why does this work?\n",
    "\n",
    "Here is the mathematical notation for original multiplication:\n",
    "\n",
    "$$\n",
    "y = 100 * 1000\n",
    "$$\n",
    "\n",
    "We can also write this as:\n",
    "\n",
    "$$\n",
    "y = 10^2 * 10^3\n",
    "$$\n",
    "\n",
    "We can also write out the raised-to-the-power parts longhand, like this:\n",
    "\n",
    "$$\n",
    "y = (10 * 10) * (10 * 10 * 10)\n",
    "$$\n",
    "\n",
    "Dropping the brackets, that have no effect, we see that this is also equal to:\n",
    "\n",
    "$$\n",
    "y = 10^{2 + 3} = 10^5\n",
    "$$\n",
    "\n",
    "The rule we discovered here is that multiplying numbers expressed as 10 raised\n",
    "to the power of exponents, gives 10 to the power of (the addition of the\n",
    "exponents).\n",
    "\n",
    "To take another example, you may remember that raising a number to the power of 0.5 is the same as the square root of that number.  So:"
   ]
  },
  {
   "cell_type": "code",
   "execution_count": 33,
   "metadata": {},
   "outputs": [
    {
     "name": "stdout",
     "output_type": "stream",
     "text": [
      "10 raised to the power of 0.5 3.1622776601683795\n",
      "is the same as sqrt 10 3.1622776601683795\n"
     ]
    }
   ],
   "source": [
    "print('10 raised to the power of 0.5', 10 ** 0.5)\n",
    "print('is the same as sqrt 10', np.sqrt(10))"
   ]
  },
  {
   "cell_type": "markdown",
   "metadata": {},
   "source": [
    "Now consider:\n",
    "\n",
    "$$\n",
    "y = 10^{0.5} * 10^{0.5}\n",
    "$$\n",
    "\n",
    "We can re-express this as:\n",
    "\n",
    "$$\n",
    "y = \\sqrt{10} * \\sqrt{10} = 10\n",
    "$$\n",
    "\n",
    "Again, the adding exponents rule works because:\n",
    "\n",
    "$$\n",
    "y = 10^{0.5} * 10^{0.5} = 10^{0.5 + 0.5} = 10^1 = 10\n",
    "$$\n",
    "\n",
    "You may now be able to see why the log-add-unlog trick works.  The log stage\n",
    "extracts the exponents.  The addition is adding the exponents as above.  The\n",
    "unlog stage in sticking the exponent back onto the original base number - in\n",
    "our case, 10."
   ]
  },
  {
   "cell_type": "code",
   "execution_count": 34,
   "metadata": {},
   "outputs": [
    {
     "name": "stdout",
     "output_type": "stream",
     "text": [
      "Array: [   1.       10.      100.     1000.        3.1623]\n",
      "Product of array: 3162277.6601683795\n",
      "Corresponding exponents for 10: [0.  1.  2.  3.  0.5]\n",
      "Exponents added: 6.5\n",
      "Raised to the power of 10: 3162277.6601683795\n"
     ]
    }
   ],
   "source": [
    "arr = np.array([1, 10, 100, 1000, np.sqrt(10)])\n",
    "print('Array:', arr)\n",
    "print('Product of array:', np.prod(arr))\n",
    "log_arr = np.log10(arr)\n",
    "print('Corresponding exponents for 10:', log_arr)\n",
    "log_sum = np.sum(log_arr)\n",
    "print('Exponents added:', log_sum)\n",
    "# unlog\n",
    "print('Raised to the power of 10:', 10 ** log_sum)"
   ]
  },
  {
   "cell_type": "markdown",
   "metadata": {},
   "source": [
    "You may also be able to see that the same log-add-unlog trick works for any log\n",
    "base.  The exponents corresponding to each input number will differ for each\n",
    "log base, and the unlog step needs to raise the power of the log base."
   ]
  },
  {
   "cell_type": "code",
   "execution_count": 35,
   "metadata": {},
   "outputs": [
    {
     "name": "stdout",
     "output_type": "stream",
     "text": [
      "Log-add-unlog for log base 2\n",
      "Array: [   1.       10.      100.     1000.        3.1623]\n",
      "Corresponding exponents for 2: [0.     3.3219 6.6439 9.9658 1.661 ]\n",
      "Exponents added: 21.592532616767855\n",
      "Raised to the power of 2: 3162277.6601683786\n"
     ]
    }
   ],
   "source": [
    "print('Log-add-unlog for log base 2')\n",
    "print('Array:', arr)\n",
    "log2_arr = np.log2(arr)\n",
    "print('Corresponding exponents for 2:', log2_arr)\n",
    "log2_sum = np.sum(log2_arr)\n",
    "print('Exponents added:', log2_sum)\n",
    "# unlog\n",
    "print('Raised to the power of 2:', 2 ** log2_sum)"
   ]
  },
  {
   "cell_type": "markdown",
   "metadata": {},
   "source": [
    "Or base `np.e`:"
   ]
  },
  {
   "cell_type": "code",
   "execution_count": 36,
   "metadata": {},
   "outputs": [
    {
     "name": "stdout",
     "output_type": "stream",
     "text": [
      "Log-add-unlog for log base e\n",
      "Array: [   1.       10.      100.     1000.        3.1623]\n",
      "Corresponding exponents for np.e: [0.     2.3026 4.6052 6.9078 1.1513]\n",
      "Exponents added: 14.966803104461297\n",
      "Raised to the power of np.e: 3162277.660168377\n"
     ]
    }
   ],
   "source": [
    "print('Log-add-unlog for log base e')\n",
    "print('Array:', arr)\n",
    "loge_arr = np.log(arr)\n",
    "print('Corresponding exponents for np.e:', loge_arr)\n",
    "loge_sum = np.sum(loge_arr)\n",
    "print('Exponents added:', loge_sum)\n",
    "# unlog\n",
    "print('Raised to the power of np.e:', np.e ** loge_sum)"
   ]
  }
 ],
 "metadata": {
  "jupytext": {
   "notebook_metadata_filter": "all,-language_info",
   "split_at_heading": true
  },
  "kernelspec": {
   "display_name": "Python 3",
   "language": "python",
   "name": "python3"
  },
  "language_info": {
   "codemirror_mode": {
    "name": "ipython",
    "version": 3
   },
   "file_extension": ".py",
   "mimetype": "text/x-python",
   "name": "python",
   "nbconvert_exporter": "python",
   "pygments_lexer": "ipython3",
   "version": "3.8.9"
  }
 },
 "nbformat": 4,
 "nbformat_minor": 4
}
