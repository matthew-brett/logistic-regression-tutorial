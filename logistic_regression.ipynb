{
 "cells": [
  {
   "cell_type": "markdown",
   "metadata": {},
   "source": [
    "# Logistic regression"
   ]
  },
  {
   "cell_type": "code",
   "execution_count": 1,
   "metadata": {
    "tags": [
     "hide-cell"
    ]
   },
   "outputs": [],
   "source": [
    "import numpy as np\n",
    "import pandas as pd\n",
    "# Safe settings for Pandas.\n",
    "pd.set_option('mode.chained_assignment', 'raise')\n",
    "%matplotlib inline\n",
    "import matplotlib.pyplot as plt\n",
    "# Make the plots look more fancy.\n",
    "plt.style.use('fivethirtyeight')\n",
    "# Optimization function\n",
    "from scipy.optimize import minimize"
   ]
  },
  {
   "cell_type": "markdown",
   "metadata": {},
   "source": [
    "By Peter Rush and Matthew Brett, with considerable inspiration from the\n",
    "logistic regression section of Allen Downey's book [Think Stats, second\n",
    "edition](https://greenteapress.com/thinkstats2).\n",
    "\n",
    "In this section we will look at another regression technique: logistic\n",
    "regression.\n",
    "\n",
    "We use logistic regression when we want to predict a *binary categorical*\n",
    "outcome variable (or column) from one or more predicting variables (or\n",
    "columns).\n",
    "\n",
    "A binary categorical variable is one where an observation can fall into one of\n",
    "only two categories. We give each observation a label corresponding to their\n",
    "category.  Some examples are:\n",
    "\n",
    "* Did a patient die or did they survive through 6 months of treatment?  The\n",
    "  patient can only be in only one of the categories.  In some column of our\n",
    "  data table, patients that died might have the label \"died\", and those who\n",
    "  have survived have the label \"survived\".\n",
    "* Did a person experience more than one episode of psychosis in the last 5\n",
    "  years (\"yes\" or \"no\")?\n",
    "* Did a person with a conviction for one offense offend again (\"yes\" or \"no\")?\n",
    "\n",
    "For this tutorial, we return to the [chronic kidney disease\n",
    "dataset](../data/chronic_kidney_disease).\n",
    "\n",
    "Each row in this dataset represents one patient.\n",
    "\n",
    "For each patient, the doctors recorded whether or not the patient had chronic\n",
    "kidney disease. This is a *binary categorical variable*; you can see the\n",
    "values in the \"Class\" column. A value of 1 means the patient *did* have CKD; a\n",
    "value of 0 means they *did not*.  In this case we are labeling the categories\n",
    "with numbers (1 / 0).\n",
    "\n",
    "Many of the rest of the columns are measurements from blood tests and urine tests."
   ]
  },
  {
   "cell_type": "code",
   "execution_count": 2,
   "metadata": {},
   "outputs": [
    {
     "data": {
      "text/html": [
       "<div>\n",
       "<style scoped>\n",
       "    .dataframe tbody tr th:only-of-type {\n",
       "        vertical-align: middle;\n",
       "    }\n",
       "\n",
       "    .dataframe tbody tr th {\n",
       "        vertical-align: top;\n",
       "    }\n",
       "\n",
       "    .dataframe thead th {\n",
       "        text-align: right;\n",
       "    }\n",
       "</style>\n",
       "<table border=\"1\" class=\"dataframe\">\n",
       "  <thead>\n",
       "    <tr style=\"text-align: right;\">\n",
       "      <th></th>\n",
       "      <th>Age</th>\n",
       "      <th>Blood Pressure</th>\n",
       "      <th>Specific Gravity</th>\n",
       "      <th>Albumin</th>\n",
       "      <th>Sugar</th>\n",
       "      <th>Red Blood Cells</th>\n",
       "      <th>Pus Cell</th>\n",
       "      <th>Pus Cell clumps</th>\n",
       "      <th>Bacteria</th>\n",
       "      <th>Blood Glucose Random</th>\n",
       "      <th>...</th>\n",
       "      <th>Packed Cell Volume</th>\n",
       "      <th>White Blood Cell Count</th>\n",
       "      <th>Red Blood Cell Count</th>\n",
       "      <th>Hypertension</th>\n",
       "      <th>Diabetes Mellitus</th>\n",
       "      <th>Coronary Artery Disease</th>\n",
       "      <th>Appetite</th>\n",
       "      <th>Pedal Edema</th>\n",
       "      <th>Anemia</th>\n",
       "      <th>Class</th>\n",
       "    </tr>\n",
       "  </thead>\n",
       "  <tbody>\n",
       "    <tr>\n",
       "      <th>0</th>\n",
       "      <td>48.0</td>\n",
       "      <td>70.0</td>\n",
       "      <td>1.005</td>\n",
       "      <td>4.0</td>\n",
       "      <td>0.0</td>\n",
       "      <td>normal</td>\n",
       "      <td>abnormal</td>\n",
       "      <td>present</td>\n",
       "      <td>notpresent</td>\n",
       "      <td>117.0</td>\n",
       "      <td>...</td>\n",
       "      <td>32.0</td>\n",
       "      <td>6700.0</td>\n",
       "      <td>3.9</td>\n",
       "      <td>yes</td>\n",
       "      <td>no</td>\n",
       "      <td>no</td>\n",
       "      <td>poor</td>\n",
       "      <td>yes</td>\n",
       "      <td>yes</td>\n",
       "      <td>1</td>\n",
       "    </tr>\n",
       "    <tr>\n",
       "      <th>1</th>\n",
       "      <td>53.0</td>\n",
       "      <td>90.0</td>\n",
       "      <td>1.020</td>\n",
       "      <td>2.0</td>\n",
       "      <td>0.0</td>\n",
       "      <td>abnormal</td>\n",
       "      <td>abnormal</td>\n",
       "      <td>present</td>\n",
       "      <td>notpresent</td>\n",
       "      <td>70.0</td>\n",
       "      <td>...</td>\n",
       "      <td>29.0</td>\n",
       "      <td>12100.0</td>\n",
       "      <td>3.7</td>\n",
       "      <td>yes</td>\n",
       "      <td>yes</td>\n",
       "      <td>no</td>\n",
       "      <td>poor</td>\n",
       "      <td>no</td>\n",
       "      <td>yes</td>\n",
       "      <td>1</td>\n",
       "    </tr>\n",
       "    <tr>\n",
       "      <th>2</th>\n",
       "      <td>63.0</td>\n",
       "      <td>70.0</td>\n",
       "      <td>1.010</td>\n",
       "      <td>3.0</td>\n",
       "      <td>0.0</td>\n",
       "      <td>abnormal</td>\n",
       "      <td>abnormal</td>\n",
       "      <td>present</td>\n",
       "      <td>notpresent</td>\n",
       "      <td>380.0</td>\n",
       "      <td>...</td>\n",
       "      <td>32.0</td>\n",
       "      <td>4500.0</td>\n",
       "      <td>3.8</td>\n",
       "      <td>yes</td>\n",
       "      <td>yes</td>\n",
       "      <td>no</td>\n",
       "      <td>poor</td>\n",
       "      <td>yes</td>\n",
       "      <td>no</td>\n",
       "      <td>1</td>\n",
       "    </tr>\n",
       "    <tr>\n",
       "      <th>3</th>\n",
       "      <td>68.0</td>\n",
       "      <td>80.0</td>\n",
       "      <td>1.010</td>\n",
       "      <td>3.0</td>\n",
       "      <td>2.0</td>\n",
       "      <td>normal</td>\n",
       "      <td>abnormal</td>\n",
       "      <td>present</td>\n",
       "      <td>present</td>\n",
       "      <td>157.0</td>\n",
       "      <td>...</td>\n",
       "      <td>16.0</td>\n",
       "      <td>11000.0</td>\n",
       "      <td>2.6</td>\n",
       "      <td>yes</td>\n",
       "      <td>yes</td>\n",
       "      <td>yes</td>\n",
       "      <td>poor</td>\n",
       "      <td>yes</td>\n",
       "      <td>no</td>\n",
       "      <td>1</td>\n",
       "    </tr>\n",
       "    <tr>\n",
       "      <th>4</th>\n",
       "      <td>61.0</td>\n",
       "      <td>80.0</td>\n",
       "      <td>1.015</td>\n",
       "      <td>2.0</td>\n",
       "      <td>0.0</td>\n",
       "      <td>abnormal</td>\n",
       "      <td>abnormal</td>\n",
       "      <td>notpresent</td>\n",
       "      <td>notpresent</td>\n",
       "      <td>173.0</td>\n",
       "      <td>...</td>\n",
       "      <td>24.0</td>\n",
       "      <td>9200.0</td>\n",
       "      <td>3.2</td>\n",
       "      <td>yes</td>\n",
       "      <td>yes</td>\n",
       "      <td>yes</td>\n",
       "      <td>poor</td>\n",
       "      <td>yes</td>\n",
       "      <td>yes</td>\n",
       "      <td>1</td>\n",
       "    </tr>\n",
       "  </tbody>\n",
       "</table>\n",
       "<p>5 rows × 25 columns</p>\n",
       "</div>"
      ],
      "text/plain": [
       "    Age  Blood Pressure  Specific Gravity  Albumin  Sugar Red Blood Cells  \\\n",
       "0  48.0            70.0             1.005      4.0    0.0          normal   \n",
       "1  53.0            90.0             1.020      2.0    0.0        abnormal   \n",
       "2  63.0            70.0             1.010      3.0    0.0        abnormal   \n",
       "3  68.0            80.0             1.010      3.0    2.0          normal   \n",
       "4  61.0            80.0             1.015      2.0    0.0        abnormal   \n",
       "\n",
       "   Pus Cell Pus Cell clumps    Bacteria  Blood Glucose Random  ...  \\\n",
       "0  abnormal         present  notpresent                 117.0  ...   \n",
       "1  abnormal         present  notpresent                  70.0  ...   \n",
       "2  abnormal         present  notpresent                 380.0  ...   \n",
       "3  abnormal         present     present                 157.0  ...   \n",
       "4  abnormal      notpresent  notpresent                 173.0  ...   \n",
       "\n",
       "   Packed Cell Volume  White Blood Cell Count  Red Blood Cell Count  \\\n",
       "0                32.0                  6700.0                   3.9   \n",
       "1                29.0                 12100.0                   3.7   \n",
       "2                32.0                  4500.0                   3.8   \n",
       "3                16.0                 11000.0                   2.6   \n",
       "4                24.0                  9200.0                   3.2   \n",
       "\n",
       "   Hypertension  Diabetes Mellitus  Coronary Artery Disease  Appetite  \\\n",
       "0           yes                 no                       no      poor   \n",
       "1           yes                yes                       no      poor   \n",
       "2           yes                yes                       no      poor   \n",
       "3           yes                yes                      yes      poor   \n",
       "4           yes                yes                      yes      poor   \n",
       "\n",
       "   Pedal Edema Anemia Class  \n",
       "0          yes    yes     1  \n",
       "1           no    yes     1  \n",
       "2          yes     no     1  \n",
       "3          yes     no     1  \n",
       "4          yes    yes     1  \n",
       "\n",
       "[5 rows x 25 columns]"
      ]
     },
     "execution_count": 2,
     "metadata": {},
     "output_type": "execute_result"
    }
   ],
   "source": [
    "df = pd.read_csv('ckd_clean.csv')\n",
    "df.head()"
   ]
  },
  {
   "cell_type": "markdown",
   "metadata": {},
   "source": [
    "There are actually a large number of binary categorical variables in this\n",
    "dataset.   For example, the \"Hypertension\" column has labels for the two\n",
    "categories \"yes\" (the patient had persistently high blood pressure) or \"no\".\n",
    "\n",
    "The categorical variable we are interested in here is \"Appetite\".  This has\n",
    "the label \"good\" for patients with good appetite, and \"poor\" for those with\n",
    "poor appetite.  Poor appetite is a [symptom of chronic kidney\n",
    "disease](https://www.sciencedirect.com/science/article/abs/pii/S0270929508001666).  In our case, we wonder whether the extent of kidney damage does a convincing job in predicting whether the patient has a \"good\" appetite.\n",
    "\n",
    "As you remember, the CKD dataset has a column \"Hemoglobin\" that has the\n",
    "concentration of hemoglobin from a blood sample.  Hemoglobin is the molecule\n",
    "that carries oxygen in the blood; it is the molecule that makes the red blood\n",
    "cells red.  Damaged kidneys produce lower concentrations of the hormone that\n",
    "stimulates red blood cell production,\n",
    "[erythropoietin](https://en.wikipedia.org/wiki/Erythropoietin), so CKD\n",
    "patients often have fewer red blood cells, and lower concentrations of\n",
    "Hemoglobin.  We will take lower \"Hemoglobin\" as a index of kidney damage.\n",
    "Therefore, we predict that patients with lower \"Hemoglobin\" values are more\n",
    "likely to have `poor` \"Appetite\" values, and, conversely, patients with higher\n",
    "\"Hemoglobin\" values are more likely to have `good` \"Appetite\" values.\n",
    "\n",
    "First we make a new data frame that just has the two columns we are interested\n",
    "in:"
   ]
  },
  {
   "cell_type": "code",
   "execution_count": 3,
   "metadata": {},
   "outputs": [
    {
     "data": {
      "text/html": [
       "<div>\n",
       "<style scoped>\n",
       "    .dataframe tbody tr th:only-of-type {\n",
       "        vertical-align: middle;\n",
       "    }\n",
       "\n",
       "    .dataframe tbody tr th {\n",
       "        vertical-align: top;\n",
       "    }\n",
       "\n",
       "    .dataframe thead th {\n",
       "        text-align: right;\n",
       "    }\n",
       "</style>\n",
       "<table border=\"1\" class=\"dataframe\">\n",
       "  <thead>\n",
       "    <tr style=\"text-align: right;\">\n",
       "      <th></th>\n",
       "      <th>Hemoglobin</th>\n",
       "      <th>Appetite</th>\n",
       "    </tr>\n",
       "  </thead>\n",
       "  <tbody>\n",
       "    <tr>\n",
       "      <th>0</th>\n",
       "      <td>11.2</td>\n",
       "      <td>poor</td>\n",
       "    </tr>\n",
       "    <tr>\n",
       "      <th>1</th>\n",
       "      <td>9.5</td>\n",
       "      <td>poor</td>\n",
       "    </tr>\n",
       "    <tr>\n",
       "      <th>2</th>\n",
       "      <td>10.8</td>\n",
       "      <td>poor</td>\n",
       "    </tr>\n",
       "    <tr>\n",
       "      <th>3</th>\n",
       "      <td>5.6</td>\n",
       "      <td>poor</td>\n",
       "    </tr>\n",
       "    <tr>\n",
       "      <th>4</th>\n",
       "      <td>7.7</td>\n",
       "      <td>poor</td>\n",
       "    </tr>\n",
       "  </tbody>\n",
       "</table>\n",
       "</div>"
      ],
      "text/plain": [
       "   Hemoglobin Appetite\n",
       "0        11.2     poor\n",
       "1         9.5     poor\n",
       "2        10.8     poor\n",
       "3         5.6     poor\n",
       "4         7.7     poor"
      ]
     },
     "execution_count": 3,
     "metadata": {},
     "output_type": "execute_result"
    }
   ],
   "source": [
    "hgb_app = df.loc[:, ['Hemoglobin', 'Appetite']].copy()\n",
    "hgb_app.head()"
   ]
  },
  {
   "cell_type": "markdown",
   "metadata": {},
   "source": [
    "## Dummy Variables\n",
    "\n",
    "We will soon find ourselves wanting to do calculations on the values in the\n",
    "\"Appetite\" column, and we cannot easily do that with the current string values\n",
    "of \"good\" and \"poor\".   Our next step is to recode the string values to\n",
    "numbers, ready for our calculations.  We use 1 to represent \"good\" and 0 to\n",
    "represent \"poor\".  This kind of recoding, where we replace category labels\n",
    "with 1 and 0 values, is often called *dummy coding*."
   ]
  },
  {
   "cell_type": "code",
   "execution_count": 4,
   "metadata": {},
   "outputs": [
    {
     "data": {
      "text/html": [
       "<div>\n",
       "<style scoped>\n",
       "    .dataframe tbody tr th:only-of-type {\n",
       "        vertical-align: middle;\n",
       "    }\n",
       "\n",
       "    .dataframe tbody tr th {\n",
       "        vertical-align: top;\n",
       "    }\n",
       "\n",
       "    .dataframe thead th {\n",
       "        text-align: right;\n",
       "    }\n",
       "</style>\n",
       "<table border=\"1\" class=\"dataframe\">\n",
       "  <thead>\n",
       "    <tr style=\"text-align: right;\">\n",
       "      <th></th>\n",
       "      <th>Hemoglobin</th>\n",
       "      <th>Appetite</th>\n",
       "      <th>appetite_dummy</th>\n",
       "    </tr>\n",
       "  </thead>\n",
       "  <tbody>\n",
       "    <tr>\n",
       "      <th>0</th>\n",
       "      <td>11.2</td>\n",
       "      <td>poor</td>\n",
       "      <td>0</td>\n",
       "    </tr>\n",
       "    <tr>\n",
       "      <th>1</th>\n",
       "      <td>9.5</td>\n",
       "      <td>poor</td>\n",
       "      <td>0</td>\n",
       "    </tr>\n",
       "    <tr>\n",
       "      <th>2</th>\n",
       "      <td>10.8</td>\n",
       "      <td>poor</td>\n",
       "      <td>0</td>\n",
       "    </tr>\n",
       "    <tr>\n",
       "      <th>3</th>\n",
       "      <td>5.6</td>\n",
       "      <td>poor</td>\n",
       "      <td>0</td>\n",
       "    </tr>\n",
       "    <tr>\n",
       "      <th>4</th>\n",
       "      <td>7.7</td>\n",
       "      <td>poor</td>\n",
       "      <td>0</td>\n",
       "    </tr>\n",
       "  </tbody>\n",
       "</table>\n",
       "</div>"
      ],
      "text/plain": [
       "   Hemoglobin Appetite  appetite_dummy\n",
       "0        11.2     poor               0\n",
       "1         9.5     poor               0\n",
       "2        10.8     poor               0\n",
       "3         5.6     poor               0\n",
       "4         7.7     poor               0"
      ]
     },
     "execution_count": 4,
     "metadata": {},
     "output_type": "execute_result"
    }
   ],
   "source": [
    "# 'replace' replaces the values in the first argument with the corresponding\n",
    "# values in the second argument.\n",
    "hgb_app['appetite_dummy'] = hgb_app['Appetite'].replace(\n",
    "    ['poor', 'good'],\n",
    "    [0, 1])\n",
    "hgb_app.head()"
   ]
  },
  {
   "cell_type": "markdown",
   "metadata": {},
   "source": [
    "*Note*: When you are doing this, be sure to keep track of which label you have\n",
    "coded as 1. Normally this would be the more interesting outcome.  In this\n",
    "case, \"good\" has the code 1. Keep track of the label corresponding to 1, as it\n",
    "will affect the interpretation of the regression coefficients.\n",
    "\n",
    "Now we have the dummy (1 or 0) variable, let us use a scatter plot to look at\n",
    "the relationship between hemoglobin concentration and whether a patient has a\n",
    "good appetite."
   ]
  },
  {
   "cell_type": "code",
   "execution_count": 5,
   "metadata": {
    "tags": [
     "hide-cell"
    ]
   },
   "outputs": [
    {
     "data": {
      "image/png": "[encoded data removed]",
      "text/plain": [
       "<Figure size 432x288 with 1 Axes>"
      ]
     },
     "metadata": {},
     "output_type": "display_data"
    }
   ],
   "source": [
    "# We will use this plotting code several times, so put into a function for\n",
    "# later use.\n",
    "\n",
    "def plot_hgb_app():\n",
    "    # Build plot, add custom labels.\n",
    "    colors = hgb_app['Appetite'].replace(['poor', 'good'], ['red', 'blue'])\n",
    "    hgb_app.plot.scatter('Hemoglobin', 'appetite_dummy', c=colors)\n",
    "    plt.ylabel('Appetite\\n0 = poor, 1 = good')\n",
    "    plt.yticks([0,1]);  # Just label 0 and 1 on the y axis.\n",
    "    # Put a custom legend on the plot.  This code is a little obscure.\n",
    "    plt.scatter([], [], c='blue', label='good')\n",
    "    plt.scatter([], [], c='red', label='poor')\n",
    "\n",
    "# Do the plot\n",
    "plot_hgb_app()\n",
    "# Show the legend\n",
    "plt.legend();"
   ]
  },
  {
   "cell_type": "markdown",
   "metadata": {},
   "source": [
    "From the plot, it does look as if the patients with lower hemoglobin are more\n",
    "likely to have poor appetite (`appetite_dummy` values of 0), whereas patients\n",
    "with higher hemoglobin tend to have good appetite (`appetite_dummy` values of\n",
    "1).\n",
    "\n",
    "Now we start to get more formal, and develop a model with which we predict the\n",
    "`appetite_dummy` values from the  `Hemoglobin` values.\n"
   ]
  },
  {
   "cell_type": "markdown",
   "metadata": {},
   "source": [
    "## How about linear regression?"
   ]
  },
  {
   "cell_type": "markdown",
   "metadata": {},
   "source": [
    "Remember that, in linear regression, we predict scores on the *outcome*\n",
    "variable (or column) using a straight-line relationship of the *predictor*\n",
    "variable (or column).\n",
    "\n",
    "Here are the predictor and outcome variables in our case."
   ]
  },
  {
   "cell_type": "code",
   "execution_count": 6,
   "metadata": {},
   "outputs": [],
   "source": [
    "# The x (predictor) and y (outcome) variables.\n",
    "hemoglobin = hgb_app['Hemoglobin']\n",
    "appetite_d = hgb_app['appetite_dummy']"
   ]
  },
  {
   "cell_type": "markdown",
   "metadata": {},
   "source": [
    "Why not use the same linear regression technique for our case?  After all, the\n",
    "`appetite_d` values are just numbers (0 and 1), as are our `hemoglobin` values.\n",
    "\n",
    "Earlier in the textbook, we performed linear regression by using `minimize`, to\n",
    "find the value of the slope and intercept of the line which gives the smallest\n",
    "sum of the squared prediction errors.\n",
    "\n",
    "Recall that, in linear regression:\n",
    "\n",
    "$$\n",
    "\\text{predicted} = intercept + slope * \\text{predictor_variable}\n",
    "$$\n",
    "\n",
    "*predicted* and *predictor variable* here are sequences of values, with one\n",
    "value for each observation (row) in the dataset. In our case we have:"
   ]
  },
  {
   "cell_type": "code",
   "execution_count": 7,
   "metadata": {},
   "outputs": [
    {
     "name": "stdout",
     "output_type": "stream",
     "text": [
      "Rows in CKD data 158\n"
     ]
    }
   ],
   "source": [
    "print('Rows in CKD data', len(hgb_app))"
   ]
  },
  {
   "cell_type": "markdown",
   "metadata": {},
   "source": [
    "\"observations\" (patients), so there will be the same number of scores on the\n",
    "predictor variable (`hemoglobin`), and the same number of predictions, in\n",
    "`predicted`. By contrast, the slope and intercept are single values, defining\n",
    "the line.\n",
    "\n",
    "We used `minimize` to find the values of the slope and intercept which give the\n",
    "\"best\" predictions.  So far, we have almost invariably defined the *best*\n",
    "values for slope and intercept as the values that give the smallest sum of the\n",
    "squared prediction errors.\n",
    "\n",
    "$$\n",
    "\\text{prediction errors} = \\text{actual variable - predicted}\n",
    "$$"
   ]
  },
  {
   "cell_type": "markdown",
   "metadata": {},
   "source": [
    "What would happen if we tried to use linear regression to predict the\n",
    "probability of having good appetite, based on hemoglobin concentrations?\n",
    "\n",
    "Let us start by grabbing a version of the `ss_any_line` function from the\n",
    "[Using minimize page](../mean-slopes/using_minimize.html)."
   ]
  },
  {
   "cell_type": "code",
   "execution_count": 8,
   "metadata": {},
   "outputs": [],
   "source": [
    "def ss_any_line(c_s, x_values, y_values):\n",
    "    # c_s is a list containing two elements, an intercept and a slope.\n",
    "    intercept, slope = c_s\n",
    "    # Values predicted from these x_values, using this intercept and slope.\n",
    "    predicted = intercept + x_values * slope\n",
    "    # Difference of prediction from the actual y values.\n",
    "    error = y_values - predicted\n",
    "    # Sum of squared error.\n",
    "    return np.sum(error ** 2)"
   ]
  },
  {
   "cell_type": "markdown",
   "metadata": {},
   "source": [
    "The sum of squared prediction error, in linear regression, is our *cost*\n",
    "function. When we have a good pair of (intercept, slope) in `c_s`, our function\n",
    "is *cheap* - i.e. the returned value is small.  When we have a bad pair in\n",
    "`c_s`, our function is *expensive* - the returned value is large.\n",
    "\n",
    "If the value from `ss_any_line` is large, it means the line we are fitting does\n",
    "not fit the data well. The purpose of linear regression is to find the\n",
    "line which leads to the smallest cost.  In our case, the cost is the sum of the\n",
    "squared prediction errors.\n",
    "\n",
    "Let's use linear regression on the current example.  From looking at our plot above, we start with a guess of -1 for the intercept, and 0.1 for the slope."
   ]
  },
  {
   "cell_type": "code",
   "execution_count": 9,
   "metadata": {},
   "outputs": [
    {
     "data": {
      "text/plain": [
       "      fun: 10.315509522411862\n",
       " hess_inv: array([[ 0.07498683, -0.00524735],\n",
       "       [-0.00524735,  0.00038337]])\n",
       "      jac: array([-7.39097595e-06,  5.13792038e-05])\n",
       "  message: 'Desired error not necessarily achieved due to precision loss.'\n",
       "     nfev: 104\n",
       "      nit: 2\n",
       "     njev: 31\n",
       "   status: 2\n",
       "  success: False\n",
       "        x: array([-0.07904187,  0.0700493 ])"
      ]
     },
     "execution_count": 9,
     "metadata": {},
     "output_type": "execute_result"
    }
   ],
   "source": [
    "# Use minimize to find the least sum of squares solution.\n",
    "min_lin_reg = minimize(ss_any_line, [-1, 0.1], args=(hemoglobin, appetite_d))\n",
    "# Show the results that came back from minimize.\n",
    "min_lin_reg"
   ]
  },
  {
   "cell_type": "markdown",
   "metadata": {},
   "source": [
    "OK, so that looks hopeful. Using linear regression with `minimize` we found that the sum of squared prediction errors was smallest for a line with:"
   ]
  },
  {
   "cell_type": "code",
   "execution_count": 10,
   "metadata": {},
   "outputs": [
    {
     "name": "stdout",
     "output_type": "stream",
     "text": [
      "Best linear regression intercept -0.07904187280281949\n",
      "Best linear regression slope 0.07004929869481377\n"
     ]
    }
   ],
   "source": [
    "# Unpack the slope and intercept estimates from the results object.\n",
    "lin_reg_intercept, lin_reg_slope = min_lin_reg.x\n",
    "# Show them.\n",
    "print('Best linear regression intercept', lin_reg_intercept)\n",
    "print('Best linear regression slope', lin_reg_slope)"
   ]
  },
  {
   "cell_type": "markdown",
   "metadata": {},
   "source": [
    "The linear regression model we are using here is:\n",
    "\n",
    "```\n",
    "predicted_appetite_d = intercept + slope * hemoglobin\n",
    "```\n",
    "\n",
    "Specifically:"
   ]
  },
  {
   "cell_type": "code",
   "execution_count": 11,
   "metadata": {},
   "outputs": [
    {
     "data": {
      "text/plain": [
       "0      0.705510\n",
       "1      0.586426\n",
       "2      0.677491\n",
       "3      0.313234\n",
       "4      0.460338\n",
       "         ...   \n",
       "153    1.020732\n",
       "154    1.076772\n",
       "155    1.027737\n",
       "156    0.915658\n",
       "157    1.027737\n",
       "Name: Hemoglobin, Length: 158, dtype: float64"
      ]
     },
     "execution_count": 11,
     "metadata": {},
     "output_type": "execute_result"
    }
   ],
   "source": [
    "predicted_lin_reg = lin_reg_intercept + lin_reg_slope * hemoglobin\n",
    "predicted_lin_reg"
   ]
  },
  {
   "cell_type": "markdown",
   "metadata": {},
   "source": [
    "Let's plot our predictions, alongside the actual data.  We plot the predictions\n",
    "from linear regression in orange."
   ]
  },
  {
   "cell_type": "code",
   "execution_count": 12,
   "metadata": {
    "tags": [
     "hide-cell"
    ]
   },
   "outputs": [
    {
     "data": {
      "image/png": "[encoded data removed]",
      "text/plain": [
       "<Figure size 432x288 with 1 Axes>"
      ]
     },
     "metadata": {},
     "output_type": "display_data"
    }
   ],
   "source": [
    "# Do the base plot of the hemoglobin and appetite_d.\n",
    "plot_hgb_app()\n",
    "\n",
    "# A new plot on top of the old.\n",
    "plt.scatter(hemoglobin, predicted_lin_reg,\n",
    "            label='LR prediction',\n",
    "            color='orange')\n",
    "# Another plot, to show the underlying line\n",
    "fine_x = np.linspace(np.min(hemoglobin), np.max(hemoglobin), 1000)\n",
    "fine_y = lin_reg_intercept + lin_reg_slope * fine_x\n",
    "plt.plot(fine_x, fine_y, linewidth=1, linestyle=':')\n",
    "# Show the legend.\n",
    "plt.legend();"
   ]
  },
  {
   "cell_type": "markdown",
   "metadata": {},
   "source": [
    "The linear regression line looks plausible, as far as it goes, but it has\n",
    "several unhappy features for our task of predicting the `appetite_d` 0 / 1\n",
    "values.\n",
    "\n",
    "One thing to like about the line is that the predictions are right to suggest\n",
    "that the value of `appetite_d` is more likely to be 1 (meaning \"good\") at\n",
    "higher values of `hemoglobin`.  Also, the prediction line slopes upward as\n",
    "`hemoglobin` gets higher, indicating that the probability of good appetite gets\n",
    "higher as the hemoglobin concentration rises, across patients.\n",
    "\n",
    "However, when the `hemoglobin` gets higher than about 15.5, linear regression\n",
    "starts to predict a value for `appetite_d` that is greater than 1 - which, of\n",
    "course, cannot occur in the `appetite_d` values, which are restricted to 0 or\n",
    "1.\n",
    "\n",
    "Looking at the plot, without the regression line, it looks as if we can be\n",
    "fairly confident of predicting a 1 (\"good\") value for a hemoglobin above 12.5, but we are increasingly less confident about predicting a 1 value as hemoglobin drops down to about 7.5, at which point we become confident about predicting a 0 value.\n",
    "\n",
    "These reflections make as wonder whether we should be using something other\n",
    "than a simple, unconstrained straight line for our predictions.\n"
   ]
  },
  {
   "cell_type": "markdown",
   "metadata": {},
   "source": [
    "## Another prediction line"
   ]
  },
  {
   "cell_type": "markdown",
   "metadata": {},
   "source": [
    "Here's another prediction line we might use for `appetite_d`, with the\n",
    "predicted values.\n",
    "\n",
    "For the moment, please don't worry about how we came by this line, we will come\n",
    "onto that soon.\n",
    "\n",
    "The new prediction line is in gold."
   ]
  },
  {
   "cell_type": "code",
   "execution_count": 13,
   "metadata": {
    "tags": [
     "hide-cell"
    ]
   },
   "outputs": [],
   "source": [
    "# This is the machinery for making the sigmoid line of the plots below.  We\n",
    "# will come on that machinery soon.  For now please ignore this code, and\n",
    "# concentrate on the plots below.\n",
    "\n",
    "def inv_logit(y):\n",
    "    \"\"\" Reverse logit transformation\n",
    "    \"\"\"\n",
    "    odds_ratios = np.exp(y)  # Reverse the log operation.\n",
    "    return odds_ratios / (odds_ratios + 1)  # Reverse odds ratios operation.\n",
    "\n",
    "\n",
    "def params2pps(intercept, slope, x):\n",
    "    \"\"\" Calculate predicted probabilities of 1 for each observation.\n",
    "    \"\"\"\n",
    "    # Predicted log odds of being in class 1.\n",
    "    predicted_log_odds = intercept + slope * x\n",
    "    return inv_logit(predicted_log_odds)\n",
    "\n",
    "\n",
    "# Some plausible values for intercept and slope.\n",
    "nice_intercept, nice_slope = -7, 0.8\n",
    "predictions_new = params2pps(nice_intercept, nice_slope, hemoglobin)"
   ]
  },
  {
   "cell_type": "code",
   "execution_count": 14,
   "metadata": {
    "tags": [
     "hide-cell"
    ]
   },
   "outputs": [
    {
     "data": {
      "image/png": "[encoded data removed]",
      "text/plain": [
       "<Figure size 432x288 with 1 Axes>"
      ]
     },
     "metadata": {},
     "output_type": "display_data"
    }
   ],
   "source": [
    "# Do the base plot of the hemoglobin and appetite_d.\n",
    "plot_hgb_app()\n",
    "\n",
    "# A new plot on top of the old.\n",
    "plt.scatter(hemoglobin, predictions_new,\n",
    "            label='New prediction',\n",
    "            color='gold')\n",
    "# Another plot, to show the underlying line\n",
    "fine_y_sigmoid = params2pps(nice_intercept, nice_slope, fine_x)\n",
    "plt.plot(fine_x, fine_y_sigmoid, linewidth=1, linestyle=':')\n",
    "# Show the legend.\n",
    "plt.legend();"
   ]
  },
  {
   "cell_type": "markdown",
   "metadata": {},
   "source": [
    "The new not-straight line seems to have much to recommend it.  This shape of\n",
    "line is called \"sigmoid\", from the name of the Greek letter \"s\".  The sigmoid\n",
    "prediction here never goes above 1 or below 0, so its values are always in the\n",
    "range of the `appetite_d` data it is trying to predict.  It climbs steeply to a\n",
    "prediction of 1, and plateaus there, as we get to the threshold of hemoglobin\n",
    "around 12.5, at which every patient does seem to have \"good\" appetite\n",
    "(`appetite_d` of 1).\n",
    "\n",
    "We can think of the values from the sigmoid curve as being *predicted\n",
    "probabilities*.  For example, at a `hemoglobin` value of 10, the curve gives a\n",
    "predicted y (`appetite_d`) value of about 0.73.  We can interpret this\n",
    "prediction as saying that, with a hemoglobin value of 10, there is a\n",
    "*probability* of about 0.73 that the corresponding patient will have a \"good\"\n",
    "appetite (`appetite_d` value of 1).\n",
    "\n",
    "Now let us say that we would prefer to use this kind of sigmoid line to predict\n",
    "`appetite_d`.  So far, we have only asked `minimize` to predict directly from a\n",
    "straight line - for example, in the `ss_any_line` function.   How can we get\n",
    "minimize to predict from a family of sigmoid curves, as here?  Is there a way\n",
    "of transforming a sigmoid curve like the one here, with y values from 0 to 1,\n",
    "to a straight line, where the y values can vary from large negative to large\n",
    "positive?  We would like to do such a conversion, so we have a slope and\n",
    "intercept that `minimize` can work with easily.\n",
    "\n",
    "The answer, you can imagine, is \"yes\" — we can go from our sigmoid 0 / 1 curve\n",
    "to a straight line with unconstrained y values, in two fairly simple steps. The\n",
    "next sections will cover those steps.  The two steps are:\n",
    "\n",
    "* Convert the 0 / 1 *probability* predictions to 0-to-large positive\n",
    "  predictions of the *odds ratio*.  The odds-ratio can vary from 0 to very\n",
    "  large positive.\n",
    "* Apply the *logarithm* function to convert the 0-to-very-large-positive\n",
    "  odds-ratio predictions to log odds-ratio predictions, which can vary from\n",
    "  very large negative to very large positive.\n",
    "\n",
    "These two transformations together are called the *log-odds* or\n",
    "[logit](https://en.wikipedia.org/wiki/Logit) transformation.  *Logistical\n",
    "regression* is regression using the *logit* transform.  Applying the logit\n",
    "transform converts the sigmoid curve to a straight line.\n",
    "\n",
    "We will explain more about the two stages of the transform below, but for now, here are the two stages in action.\n",
    "\n",
    "This is the original sigmoid curve above, with the predictions, in its own\n",
    "plot."
   ]
  },
  {
   "cell_type": "code",
   "execution_count": 15,
   "metadata": {
    "tags": [
     "hide-cell"
    ]
   },
   "outputs": [
    {
     "data": {
      "image/png": "[encoded data removed]",
      "text/plain": [
       "<Figure size 432x288 with 1 Axes>"
      ]
     },
     "metadata": {},
     "output_type": "display_data"
    }
   ],
   "source": [
    "plt.scatter(hemoglobin, predictions_new, color='gold')\n",
    "plt.plot(fine_x, fine_y_sigmoid, linewidth=1, linestyle=':')\n",
    "plt.title('Sigmoid probability prediction')\n",
    "plt.xlabel('Hemoglobin')\n",
    "plt.ylabel('Probability prediction');"
   ]
  },
  {
   "cell_type": "markdown",
   "metadata": {},
   "source": [
    "Next we apply the conversion from probability to odds-ratio:"
   ]
  },
  {
   "cell_type": "code",
   "execution_count": 16,
   "metadata": {
    "tags": [
     "hide-cell"
    ]
   },
   "outputs": [
    {
     "data": {
      "image/png": "[encoded data removed]",
      "text/plain": [
       "<Figure size 432x288 with 1 Axes>"
      ]
     },
     "metadata": {},
     "output_type": "display_data"
    }
   ],
   "source": [
    "predictions_or = predictions_new / (1 - predictions_new)\n",
    "plt.scatter(hemoglobin, predictions_or, color='gold')\n",
    "fine_y_or = fine_y_sigmoid / (1 - fine_y_sigmoid)\n",
    "plt.plot(fine_x, fine_y_or, linewidth=1, linestyle=':')\n",
    "plt.title('Odds-ratio prediction')\n",
    "plt.xlabel('Hemoglobin')\n",
    "plt.ylabel('Odds-ratio');"
   ]
  },
  {
   "cell_type": "markdown",
   "metadata": {},
   "source": [
    "Notice that this is an *exponential* graph, where the y values increase more\n",
    "and more steeply as the x values increase.  We can turn exponential lines like\n",
    "this one into straight lines, using the *logarithm* function, the next stage of\n",
    "the logit transformation:"
   ]
  },
  {
   "cell_type": "code",
   "execution_count": 17,
   "metadata": {},
   "outputs": [
    {
     "data": {
      "image/png": "[encoded data removed]",
      "text/plain": [
       "<Figure size 432x288 with 1 Axes>"
      ]
     },
     "metadata": {},
     "output_type": "display_data"
    }
   ],
   "source": [
    "predictions_or_log = np.log(predictions_or)\n",
    "plt.scatter(hemoglobin, predictions_or_log, color='gold')\n",
    "fine_y_or_log = np.log(fine_y_or)\n",
    "plt.plot(fine_x, fine_y_or_log, linewidth=1, linestyle=':')\n",
    "plt.title('Logit prediction')\n",
    "plt.xlabel('Hemoglobin')\n",
    "plt.ylabel('Log odds-ratio');"
   ]
  },
  {
   "cell_type": "markdown",
   "metadata": {},
   "source": [
    "Now we have a straight line, with an intercept and slope, suitable for\n",
    "`minimize`.  The next few sections go into more detail on the odds-ratio and\n",
    "logarithm steps."
   ]
  },
  {
   "cell_type": "markdown",
   "metadata": {},
   "source": [
    "## Probability and Odds"
   ]
  },
  {
   "cell_type": "markdown",
   "metadata": {},
   "source": [
    "For logistic regression, in contrast to linear regression, we are interested in\n",
    "predicting the *probability of an observation falling into a particular outcome\n",
    "class* (0 or 1).\n",
    "\n",
    "In this case, we are interested in the probability of a patient having \"good\"\n",
    "appetite, predicted from the patient's hemoglobin.\n",
    "\n",
    "We can think of probability as the *proportion of times* we expect to see a\n",
    "particular outcome.\n",
    "\n",
    "For example, there are 139 patients with \"good\" appetite in this data frame,\n",
    "and 158 patients in total.  If you were to repeatedly draw a single patient at\n",
    "random from the data frame, and record their `Appetite`, then we expect the proportion of \"good\" values in the long run, to be 139 / 158 --- about 0.88.  That is the same as saying there is a probability of 0.88 of a randomly-drawn patient of having a \"good\" appetite.\n",
    "\n",
    "Because the patient's appetite can only be \"good\" or \"poor\", and because the\n",
    "probabilities of all possible options have to add up to 1, the probability of\n",
    "the patient having a \"poor\" appetite is 1 - 0.88 --- about 0.12.\n",
    "\n",
    "So, the probability can express the *proportion of times* we expect to see some\n",
    "*event of interest* - in our case, the event of interest is \"good\" in the\n",
    "`Appetite` column.\n",
    "\n",
    "We can think of this same information as an *odds ratio*.\n",
    "\n",
    "We often express probabilities as odds ratios.  For example, we might say that\n",
    "the odds are 5 to 1 that it will rain today.   We mean that it is five times\n",
    "more likely that it will rain today than that it will not rain today.   On\n",
    "another day we could estimate that the odds are 0.5 to 1 that it will rain\n",
    "today, meaning that it is twice as likely *not* to rain, as it is to rain.\n",
    "\n",
    "The odds ratio is the number of times we expect to see the event of interest\n",
    "(e.g. rain) for every time we expect to see the event of no interest (not\n",
    "rain).\n",
    "\n",
    "This is just a way of saying a probability in a different way, and we can convert easily between probabilities and odds ratios.\n",
    "\n",
    "To convert from a probability to an odds ratio, we remember that the odds ratio is the number of times we expect to see the event of interest for every time we expect to see the event of no interest.   This is the probability (proportion) for the event of interest, divided by the probability (proportion) of the event of no interest.  Say the probability p is some value (it could be any value):"
   ]
  },
  {
   "cell_type": "code",
   "execution_count": 18,
   "metadata": {},
   "outputs": [],
   "source": [
    "# Our proportion of interest.\n",
    "p = 0.88"
   ]
  },
  {
   "cell_type": "markdown",
   "metadata": {},
   "source": [
    "Then the equivalent odds ratio `odds_ratio` is:"
   ]
  },
  {
   "cell_type": "code",
   "execution_count": 19,
   "metadata": {},
   "outputs": [
    {
     "data": {
      "text/plain": [
       "7.333333333333334"
      ]
     },
     "execution_count": 19,
     "metadata": {},
     "output_type": "execute_result"
    }
   ],
   "source": [
    "# Odds ratio is proportion of interest, divided by proportion of no interest.\n",
    "odds_ratio = p / (1 - p)\n",
    "odds_ratio"
   ]
  },
  {
   "cell_type": "markdown",
   "metadata": {},
   "source": [
    "Notice the odds ratio is greater than one, because `p` was greater than 0.5. An\n",
    "odds ratio of greater than one means the event of interest is more likely to\n",
    "happen than the alternative.  An odds ratio of less than one means p was less\n",
    "than 0.5, and the event of interest is less likely to happen than the\n",
    "alternative.   A p value of 0 gives an odds ratio of 0.  As the p value gets close to 1, the odds ratio gets very large."
   ]
  },
  {
   "cell_type": "code",
   "execution_count": 20,
   "metadata": {},
   "outputs": [
    {
     "data": {
      "text/plain": [
       "999998.9999712444"
      ]
     },
     "execution_count": 20,
     "metadata": {},
     "output_type": "execute_result"
    }
   ],
   "source": [
    "p = 0.999999\n",
    "p / (1 - p)"
   ]
  },
  {
   "cell_type": "markdown",
   "metadata": {},
   "source": [
    "We can also convert from odds ratios to p values.  Remember the odds ratio is\n",
    "the number of times we expect to see the event of interest, divided by the\n",
    "number of times we expect to see the event of no interest.  The probability is\n",
    "the proportion of all events that are events of interest.  We can read an\n",
    "`odds_ratio` of - say - 2.5 as \"the chances are 2.5 to 1\".  To get the\n",
    "probability we divide the number of times we expect to see the event of\n",
    "interest - here 2.5 - by the number of events in total.  The number of events\n",
    "in total is just the number of events of interest - here 2.5 - plus the number\n",
    "of events of no interest - here 1.  So:"
   ]
  },
  {
   "cell_type": "code",
   "execution_count": 21,
   "metadata": {},
   "outputs": [
    {
     "data": {
      "text/plain": [
       "0.88"
      ]
     },
     "execution_count": 21,
     "metadata": {},
     "output_type": "execute_result"
    }
   ],
   "source": [
    "p_from_odds_ratio = odds_ratio / (odds_ratio + 1)\n",
    "p_from_odds_ratio"
   ]
  },
  {
   "cell_type": "markdown",
   "metadata": {},
   "source": [
    "Summary - convert probabilities to odds ratios with:"
   ]
  },
  {
   "cell_type": "code",
   "execution_count": 22,
   "metadata": {},
   "outputs": [],
   "source": [
    "odds_ratio = p / (1 - p)"
   ]
  },
  {
   "cell_type": "markdown",
   "metadata": {},
   "source": [
    "Convert odds ratios to probabilities with:"
   ]
  },
  {
   "cell_type": "code",
   "execution_count": 23,
   "metadata": {},
   "outputs": [],
   "source": [
    "p = odds_ratio / (odds_ratio + 1)"
   ]
  },
  {
   "cell_type": "markdown",
   "metadata": {},
   "source": [
    "As you've seen, when we apply the conversion above, to convert the probability values to odds ratios for our appetite predications, we get the following:"
   ]
  },
  {
   "cell_type": "code",
   "execution_count": 24,
   "metadata": {
    "tags": [
     "hide-cell"
    ]
   },
   "outputs": [
    {
     "data": {
      "image/png": "[encoded data removed]",
      "text/plain": [
       "<Figure size 432x288 with 1 Axes>"
      ]
     },
     "metadata": {},
     "output_type": "display_data"
    }
   ],
   "source": [
    "predictions_or = predictions_new / (1 - predictions_new)\n",
    "plt.scatter(hemoglobin, predictions_or,\n",
    "            color='gold')\n",
    "fine_y_or = fine_y_sigmoid / (1 - fine_y_sigmoid)\n",
    "plt.plot(fine_x, fine_y_or, linewidth=1, linestyle=':')\n",
    "plt.title('Odds-ratio prediction')\n",
    "plt.xlabel('Hemoglobin')\n",
    "plt.ylabel('Odds-ratio');"
   ]
  },
  {
   "cell_type": "markdown",
   "metadata": {},
   "source": [
    "Notice that the odds ratios we found vary from very close to 0 (for p value\n",
    "predictions very close to 0) to very large (for p values very close to 1).\n",
    "\n",
    "Notice too that our graph looks exponential, and we want it to be a straight\n",
    "line.   Our next step is to apply a *logarithm* transformation."
   ]
  },
  {
   "cell_type": "markdown",
   "metadata": {},
   "source": [
    "## The logarithm transform\n",
    "\n",
    "See the [logarithm refresher](logarithms_refreshed) page for more background on\n",
    "logarithms.\n",
    "\n",
    "For now, the only thing you need to know about logarithms is that they are\n",
    "transformations that convert an exponential curve into a straight line.\n",
    "\n",
    "Here's an example:"
   ]
  },
  {
   "cell_type": "code",
   "execution_count": 25,
   "metadata": {
    "tags": [
     "hide-cell"
    ]
   },
   "outputs": [
    {
     "data": {
      "image/png": "[encoded data removed]",
      "text/plain": [
       "<Figure size 432x288 with 2 Axes>"
      ]
     },
     "metadata": {},
     "output_type": "display_data"
    }
   ],
   "source": [
    "x = np.linspace(0, 10, 1000)\n",
    "y = 3 ** x\n",
    "fig, axes = plt.subplots(1, 2)\n",
    "ax0, ax1 = axes\n",
    "ax0.plot(x, y)\n",
    "ax0.set_title(r'$y=3^x$')\n",
    "ax1.plot(x, np.log(y))\n",
    "ax1.set_title(r'Log of $3^x$');"
   ]
  },
  {
   "cell_type": "markdown",
   "metadata": {},
   "source": [
    "You have already see logs in action transforming the odds-ratio predictions."
   ]
  },
  {
   "cell_type": "code",
   "execution_count": 26,
   "metadata": {
    "tags": [
     "hide-cell"
    ]
   },
   "outputs": [
    {
     "data": {
      "image/png": "[encoded data removed]",
      "text/plain": [
       "<Figure size 432x288 with 2 Axes>"
      ]
     },
     "metadata": {},
     "output_type": "display_data"
    }
   ],
   "source": [
    "fig, axes = plt.subplots(1, 2)\n",
    "ax0, ax1 = axes\n",
    "ax0.scatter(hemoglobin, predictions_or, color='gold')\n",
    "ax0.plot(fine_x, fine_y_or, linewidth=1, linestyle=':')\n",
    "ax0.set_title('Odds-ratio')\n",
    "ax0.set_xlabel('Hemoglobin')\n",
    "ax0.set_ylabel('Odds-ratio');\n",
    "ax1.scatter(hemoglobin, predictions_or_log, color='gold')\n",
    "ax1.plot(fine_x, fine_y_or_log, linewidth=1, linestyle=':')\n",
    "ax1.set_title('Log odds-ratio')\n",
    "ax1.set_xlabel('Hemoglobin')\n",
    "ax1.set_ylabel('Log odds-ratio');"
   ]
  },
  {
   "cell_type": "markdown",
   "metadata": {},
   "source": [
    "## The logit transform and its inverse\n",
    "\n",
    "The logit transformation from the sigmoid curve to the straight line consists\n",
    "of two steps:\n",
    "\n",
    "* Convert probability to odd-ratios.\n",
    "* Take the log of the result.\n",
    "\n",
    "The full logit transformation is therefore:"
   ]
  },
  {
   "cell_type": "code",
   "execution_count": 27,
   "metadata": {},
   "outputs": [],
   "source": [
    "def logit(p):\n",
    "    \"\"\" Apply logit transformation to array of probabilities `p`\n",
    "    \"\"\"\n",
    "    odds_ratios = p / (1 - p)\n",
    "    return np.log(odds_ratios)"
   ]
  },
  {
   "cell_type": "markdown",
   "metadata": {},
   "source": [
    "Here are the original sigmoid predictions and the predictions with the `logit` transform applied:"
   ]
  },
  {
   "cell_type": "code",
   "execution_count": 28,
   "metadata": {
    "tags": [
     "hide-cell"
    ]
   },
   "outputs": [
    {
     "data": {
      "image/png": "[encoded data removed]",
      "text/plain": [
       "<Figure size 432x288 with 2 Axes>"
      ]
     },
     "metadata": {},
     "output_type": "display_data"
    }
   ],
   "source": [
    "fig, axes = plt.subplots(1, 2)\n",
    "ax0, ax1 = axes\n",
    "ax0.scatter(hemoglobin, predictions_new, color='gold')\n",
    "ax0.plot(fine_x, fine_y_sigmoid, linewidth=1, linestyle=':')\n",
    "ax0.set_title('Sigmoid p')\n",
    "ax0.set_xlabel('Hemoglobin')\n",
    "ax0.set_ylabel('Sigmoid p values');\n",
    "ax1.scatter(hemoglobin, logit(predictions_new), color='gold')\n",
    "ax1.plot(fine_x, logit(fine_y_sigmoid), linewidth=1, linestyle=':')\n",
    "ax1.set_title('Logit on sigmoid')\n",
    "ax1.set_xlabel('Hemoglobin')\n",
    "ax1.set_ylabel('Log odds-ratio');"
   ]
  },
  {
   "cell_type": "markdown",
   "metadata": {},
   "source": [
    "We also want to be able to go backwards, from the straight-line predictions, to\n",
    "the sigmoid predictions.\n",
    "\n",
    "`np.exp` reverses (inverts) the `np.log` transformation (see the [logarithm\n",
    "refresher](logarithms_refreshed) page):"
   ]
  },
  {
   "cell_type": "code",
   "execution_count": 29,
   "metadata": {},
   "outputs": [
    {
     "data": {
      "text/plain": [
       "array([1. , 0.5, 3. , 6. , 0.1])"
      ]
     },
     "execution_count": 29,
     "metadata": {},
     "output_type": "execute_result"
    }
   ],
   "source": [
    "# np.exp reverses the effect of np.log.\n",
    "some_values = np.array([1, 0.5, 3, 6, 0.1])\n",
    "values_back = np.exp(np.log(some_values))\n",
    "values_back"
   ]
  },
  {
   "cell_type": "markdown",
   "metadata": {},
   "source": [
    "You have seen above that there is a simple formula to go from odds ratios to\n",
    "probabilities.  The transformation that *reverses*  (inverts) the logit\n",
    "transform is therefore:"
   ]
  },
  {
   "cell_type": "code",
   "execution_count": 30,
   "metadata": {},
   "outputs": [],
   "source": [
    "def inv_logit(v):\n",
    "    \"\"\" Reverse logit transformation on array `v`\n",
    "    \"\"\"\n",
    "    odds_ratios = np.exp(v)  # Reverse the log operation.\n",
    "    return odds_ratios / (odds_ratios + 1)  # Reverse odds ratios operation."
   ]
  },
  {
   "cell_type": "markdown",
   "metadata": {},
   "source": [
    "`inv_logit` takes points on a straight line, and converts them to points on a\n",
    "sigmoid.\n",
    "\n",
    "First we convince ourselves that `inv_logit` does indeed reverse the `logit`\n",
    "transform:"
   ]
  },
  {
   "cell_type": "code",
   "execution_count": 31,
   "metadata": {},
   "outputs": [
    {
     "name": "stdout",
     "output_type": "stream",
     "text": [
      "Logit, then inv_logit returns the original data [0.01 0.05 0.1  0.5  0.9  0.95 0.99]\n"
     ]
    }
   ],
   "source": [
    "some_p_values = np.array([0.01, 0.05, 0.1, 0.5, 0.9, 0.95, 0.99])\n",
    "some_log_odds = logit(some_p_values)\n",
    "back_again = inv_logit(some_log_odds)\n",
    "print('Logit, then inv_logit returns the original data', back_again)"
   ]
  },
  {
   "cell_type": "markdown",
   "metadata": {},
   "source": [
    "The plot above has the sigmoid curve p-value predictions, and the p-value\n",
    "predictions with the logit transformation applied.\n",
    "\n",
    "Next you see the logit-transformed results on the left.  The right shows the\n",
    "results of applying `inv_logit` to recover the original p values."
   ]
  },
  {
   "cell_type": "code",
   "execution_count": 32,
   "metadata": {
    "tags": [
     "hide-cell"
    ]
   },
   "outputs": [
    {
     "data": {
      "image/png": "[encoded data removed]",
      "text/plain": [
       "<Figure size 432x288 with 2 Axes>"
      ]
     },
     "metadata": {},
     "output_type": "display_data"
    }
   ],
   "source": [
    "fig, axes = plt.subplots(1, 2)\n",
    "ax0, ax1 = axes\n",
    "ax0.scatter(hemoglobin, predictions_or_log, color='gold')\n",
    "ax0.set_title('Logit values')\n",
    "ax0.set_xlabel('Hemoglobin')\n",
    "ax0.set_ylabel('Logit transformed');\n",
    "ax0.plot(fine_x, fine_y_or_log, linewidth=1, linestyle=':')\n",
    "ax1.scatter(hemoglobin, predictions_new,\n",
    "            color='gold')\n",
    "ax1.set_title('inv_logit result')\n",
    "ax1.set_xlabel('Hemoglobin')\n",
    "ax1.set_ylabel('inv_logit result');\n",
    "ax1.plot(fine_x, inv_logit(fine_y_or_log), linewidth=1, linestyle=':');"
   ]
  },
  {
   "cell_type": "markdown",
   "metadata": {},
   "source": [
    "## Effect of the Logit slope and intercept on the sigmoid\n",
    "\n",
    "Changing the intercept of the logit (log-odds) straight line moves the\n",
    "corresponding inverse logit sigmoid curve left and right on the horizontal\n",
    "axis:"
   ]
  },
  {
   "cell_type": "code",
   "execution_count": 33,
   "metadata": {},
   "outputs": [
    {
     "data": {
      "image/png": "[encoded data removed]",
      "text/plain": [
       "<Figure size 432x288 with 1 Axes>"
      ]
     },
     "metadata": {},
     "output_type": "display_data"
    }
   ],
   "source": [
    "for intercept in [-6, -7, -8]:\n",
    "    plt.plot(fine_x,\n",
    "            params2pps(intercept, 0.8, fine_x),\n",
    "            linewidth=1,\n",
    "            linestyle=':',\n",
    "            label='logit intercept=%d' % intercept)\n",
    "plt.title('Sigmoid probability predictions')\n",
    "plt.xlabel('Hemoglobin')\n",
    "plt.ylabel('Probability prediction')\n",
    "plt.legend();"
   ]
  },
  {
   "cell_type": "markdown",
   "metadata": {},
   "source": [
    "Changing the slope of the logit straight line makes the transition from 0 to 1\n",
    "flatter or steeper:"
   ]
  },
  {
   "cell_type": "code",
   "execution_count": 34,
   "metadata": {
    "lines_to_next_cell": 2
   },
   "outputs": [
    {
     "data": {
      "image/png": "[encoded data removed]",
      "text/plain": [
       "<Figure size 432x288 with 1 Axes>"
      ]
     },
     "metadata": {},
     "output_type": "display_data"
    }
   ],
   "source": [
    "for slope in [0.6, 0.8, 1.0]:\n",
    "    plt.plot(fine_x,\n",
    "            params2pps(-7, slope, fine_x),\n",
    "            linewidth=1,\n",
    "            linestyle=':',\n",
    "            label='logit slope=%.1f' % slope)\n",
    "plt.title('Sigmoid probability predictions')\n",
    "plt.xlabel('Hemoglobin')\n",
    "plt.ylabel('Probability prediction')\n",
    "plt.legend();"
   ]
  },
  {
   "cell_type": "markdown",
   "metadata": {},
   "source": [
    "## A first-pass at logistic regression\n",
    "\n",
    "You may now see how we could use `minimize` with a slope and intercept.\n",
    "\n",
    "Remember that `minimize` needs a *cost function* that takes some parameters -\n",
    "in our case, the intercept and slope — and returns a score, or cost for the\n",
    "parameters.\n",
    "\n",
    "In the `ss_any_line` cost function above, the score it returns is just the sum\n",
    "of squared prediction errors from the line.  But the cost function can do\n",
    "anything it likes to generate a score from the line.\n",
    "\n",
    "In our case, we're going to make a cost function that takes the intercept and\n",
    "slope, and generates predictions using the intercept and slope and `hemoglobin`\n",
    "values.  But these predictions are for the log-odds transformed values, on the\n",
    "straight line.  So the cost function then converts the predictions into p value\n",
    "predictions, on the corresponding sigmoid, and compares these predictions to the 0 / 1 values in `appetite_d`.\n",
    "\n",
    "For example, let's say we want to get a score for the intercept -7 and the\n",
    "slope 0.8.\n",
    "\n",
    "First we get the straight-line predictions in the usual way:"
   ]
  },
  {
   "cell_type": "code",
   "execution_count": 35,
   "metadata": {},
   "outputs": [
    {
     "data": {
      "text/plain": [
       "Text(0, 0.5, 'Straight-line (log-odds) predictions')"
      ]
     },
     "execution_count": 35,
     "metadata": {},
     "output_type": "execute_result"
    },
    {
     "data": {
      "image/png": "[encoded data removed]",
      "text/plain": [
       "<Figure size 432x288 with 1 Axes>"
      ]
     },
     "metadata": {},
     "output_type": "display_data"
    }
   ],
   "source": [
    "intercept, slope = -7, 0.8\n",
    "sl_predictions = intercept + slope * hemoglobin\n",
    "\n",
    "plt.scatter(hemoglobin, sl_predictions)\n",
    "plt.xlabel('Hemoglobin')\n",
    "plt.ylabel('Straight-line (log-odds) predictions')"
   ]
  },
  {
   "cell_type": "markdown",
   "metadata": {},
   "source": [
    "These are predictions on the straight line, but we now need to transform them\n",
    "to p value (0 to 1) predictions on the sigmoid.  We use `inv_logit`:"
   ]
  },
  {
   "cell_type": "code",
   "execution_count": 36,
   "metadata": {},
   "outputs": [
    {
     "data": {
      "text/plain": [
       "Text(0, 0.5, 'Sigmoid (p-value) predictions')"
      ]
     },
     "execution_count": 36,
     "metadata": {},
     "output_type": "execute_result"
    },
    {
     "data": {
      "image/png": "[encoded data removed]",
      "text/plain": [
       "<Figure size 432x288 with 1 Axes>"
      ]
     },
     "metadata": {},
     "output_type": "display_data"
    }
   ],
   "source": [
    "sigmoid_predictions = inv_logit(sl_predictions)\n",
    "\n",
    "plt.scatter(hemoglobin, sigmoid_predictions)\n",
    "plt.xlabel('Hemoglobin')\n",
    "plt.ylabel('Sigmoid (p-value) predictions')"
   ]
  },
  {
   "cell_type": "markdown",
   "metadata": {},
   "source": [
    "Finally, we want to compare the predictions to the actual data to get a score.\n",
    "One way we could do this is our good old sum of squares difference between the\n",
    "sigmoid p-value predictions and the 0 / 1 values:"
   ]
  },
  {
   "cell_type": "code",
   "execution_count": 37,
   "metadata": {},
   "outputs": [
    {
     "data": {
      "text/plain": [
       "10.044653157567184"
      ]
     },
     "execution_count": 37,
     "metadata": {},
     "output_type": "execute_result"
    }
   ],
   "source": [
    "sigmoid_error = appetite_d - sigmoid_predictions\n",
    "sigmoid_score = np.sum(sigmoid_error ** 2)\n",
    "sigmoid_score"
   ]
  },
  {
   "cell_type": "markdown",
   "metadata": {},
   "source": [
    "Next we make the cost function that minimize will use.  It must accept an array\n",
    "of parameters (an intercept and slope), and calculate the sum of squares error,\n",
    "using the predicted p-values:"
   ]
  },
  {
   "cell_type": "code",
   "execution_count": 38,
   "metadata": {},
   "outputs": [],
   "source": [
    "def ss_logit(c_s, x_values, y_values):\n",
    "    # Unpack intercept and slope into values.\n",
    "    intercept, slope = c_s\n",
    "    # Predicted values for log-odds straight line.\n",
    "    predicted_log_odds = intercept + slope * x_values\n",
    "    # Predicted p values on sigmoid.\n",
    "    pps = inv_logit(predicted_log_odds)\n",
    "    # Prediction errors.\n",
    "    sigmoid_error = y_values - pps\n",
    "    # Sum of squared error\n",
    "    return np.sum(sigmoid_error ** 2)"
   ]
  },
  {
   "cell_type": "markdown",
   "metadata": {},
   "source": [
    "We check our function gives the same results as the step-by-step calculation above."
   ]
  },
  {
   "cell_type": "code",
   "execution_count": 39,
   "metadata": {},
   "outputs": [
    {
     "data": {
      "text/plain": [
       "10.044653157567184"
      ]
     },
     "execution_count": 39,
     "metadata": {},
     "output_type": "execute_result"
    }
   ],
   "source": [
    "ss_logit([-7, 0.8], hemoglobin, appetite_d)"
   ]
  },
  {
   "cell_type": "markdown",
   "metadata": {},
   "source": [
    "Notice what is happening here.  The cost function gets the new intercept and\n",
    "slope to try, makes the predictions from the intercept and slope, converts the\n",
    "predictions to probabilities on the sigmoid, and tests those against the real\n",
    "labels.\n",
    "\n",
    "Now let's see the cost function in action:"
   ]
  },
  {
   "cell_type": "code",
   "execution_count": 40,
   "metadata": {},
   "outputs": [
    {
     "data": {
      "text/plain": [
       "      fun: 9.621504133676222\n",
       " hess_inv: array([[ 6.0509272 , -0.57246015],\n",
       "       [-0.57246015,  0.05674741]])\n",
       "      jac: array([-1.19209290e-07,  2.38418579e-07])\n",
       "  message: 'Optimization terminated successfully.'\n",
       "     nfev: 42\n",
       "      nit: 12\n",
       "     njev: 14\n",
       "   status: 0\n",
       "  success: True\n",
       "        x: array([-5.28090451,  0.58493981])"
      ]
     },
     "execution_count": 40,
     "metadata": {},
     "output_type": "execute_result"
    }
   ],
   "source": [
    "min_res_logit = minimize(ss_logit, [-7, 0.8], args=(hemoglobin, appetite_d))\n",
    "min_res_logit"
   ]
  },
  {
   "cell_type": "markdown",
   "metadata": {},
   "source": [
    "Does this result look like it gives more convincing sigmoid predictions than\n",
    "our guessed intercept an slope of -7 and 0.8?\n",
    "\n",
    "First get the sigmoid predictions from this line:"
   ]
  },
  {
   "cell_type": "code",
   "execution_count": 41,
   "metadata": {},
   "outputs": [],
   "source": [
    "logit_ss_inter, logit_ss_slope = min_res_logit.x\n",
    "# Predicted values on log-odds straight line.\n",
    "predicted_log_odds = logit_ss_inter + logit_ss_slope * hemoglobin\n",
    "# Predicted p values on sigmoid.\n",
    "logit_ss_pps = inv_logit(predicted_log_odds)"
   ]
  },
  {
   "cell_type": "markdown",
   "metadata": {},
   "source": [
    "Then plot:"
   ]
  },
  {
   "cell_type": "code",
   "execution_count": 42,
   "metadata": {
    "tags": [
     "hide-cell"
    ]
   },
   "outputs": [
    {
     "data": {
      "image/png": "[encoded data removed]",
      "text/plain": [
       "<Figure size 432x288 with 1 Axes>"
      ]
     },
     "metadata": {},
     "output_type": "display_data"
    }
   ],
   "source": [
    "plot_hgb_app()\n",
    "# A new plot on top of the old.\n",
    "plt.scatter(hemoglobin, logit_ss_pps,\n",
    "            label='Logit ss solution',\n",
    "            color='gold')\n",
    "# Show the legend.\n",
    "plt.legend();"
   ]
  },
  {
   "cell_type": "markdown",
   "metadata": {},
   "source": [
    "## A different measure of prediction error\n",
    "\n",
    "Our sigmoid prediction from sum of squares above looks convincing enough, but,\n",
    "is there a better way of scoring the predictions from our line, than sum of\n",
    "squares?\n",
    "\n",
    "It turns out there is another quite different and useful way to score the\n",
    "predictions, called *likelihood*.  For reasons we discuss in [this\n",
    "page](logistic_convexity), all standard implementations of logistic regression\n",
    "that we know of, use the *likelihood* measure that we describe below, instead\n",
    "of the sum of squares measure you see above.\n",
    "\n",
    "Likelihood asks the question: assuming our predicting line, how likely are the\n",
    "sequence of actual 0 / 1 values that we see?\n",
    "\n",
    "To answer this question, we first ask this question about the individual 0 / 1\n",
    "values.\n",
    "\n",
    "We start with our intercept of -7 and slope of 0.8 for the straight-line\n",
    "log-odds values.  We generate the straight-line predictions, then convert them\n",
    "to sigmoid p-value predictions."
   ]
  },
  {
   "cell_type": "code",
   "execution_count": 43,
   "metadata": {},
   "outputs": [],
   "source": [
    "log_odds_predictions = -7 + hemoglobin * 0.8\n",
    "sigmoid_p_predictions = inv_logit(log_odds_predictions)"
   ]
  },
  {
   "cell_type": "markdown",
   "metadata": {},
   "source": [
    "Remember, these are the predicted probabilities of a 1 label.  We rename to remind ourselves:"
   ]
  },
  {
   "cell_type": "code",
   "execution_count": 44,
   "metadata": {},
   "outputs": [],
   "source": [
    "pp_of_1 = sigmoid_p_predictions"
   ]
  },
  {
   "cell_type": "markdown",
   "metadata": {},
   "source": [
    "We put these predictions into a copy of our data set to make them easier to display:"
   ]
  },
  {
   "cell_type": "code",
   "execution_count": 45,
   "metadata": {},
   "outputs": [
    {
     "data": {
      "text/html": [
       "<div>\n",
       "<style scoped>\n",
       "    .dataframe tbody tr th:only-of-type {\n",
       "        vertical-align: middle;\n",
       "    }\n",
       "\n",
       "    .dataframe tbody tr th {\n",
       "        vertical-align: top;\n",
       "    }\n",
       "\n",
       "    .dataframe thead th {\n",
       "        text-align: right;\n",
       "    }\n",
       "</style>\n",
       "<table border=\"1\" class=\"dataframe\">\n",
       "  <thead>\n",
       "    <tr style=\"text-align: right;\">\n",
       "      <th></th>\n",
       "      <th>Hemoglobin</th>\n",
       "      <th>Appetite</th>\n",
       "      <th>appetite_dummy</th>\n",
       "      <th>pp_of_1</th>\n",
       "    </tr>\n",
       "  </thead>\n",
       "  <tbody>\n",
       "    <tr>\n",
       "      <th>0</th>\n",
       "      <td>11.2</td>\n",
       "      <td>poor</td>\n",
       "      <td>0</td>\n",
       "      <td>0.876533</td>\n",
       "    </tr>\n",
       "    <tr>\n",
       "      <th>1</th>\n",
       "      <td>9.5</td>\n",
       "      <td>poor</td>\n",
       "      <td>0</td>\n",
       "      <td>0.645656</td>\n",
       "    </tr>\n",
       "    <tr>\n",
       "      <th>2</th>\n",
       "      <td>10.8</td>\n",
       "      <td>poor</td>\n",
       "      <td>0</td>\n",
       "      <td>0.837535</td>\n",
       "    </tr>\n",
       "    <tr>\n",
       "      <th>3</th>\n",
       "      <td>5.6</td>\n",
       "      <td>poor</td>\n",
       "      <td>0</td>\n",
       "      <td>0.074468</td>\n",
       "    </tr>\n",
       "    <tr>\n",
       "      <th>4</th>\n",
       "      <td>7.7</td>\n",
       "      <td>poor</td>\n",
       "      <td>0</td>\n",
       "      <td>0.301535</td>\n",
       "    </tr>\n",
       "  </tbody>\n",
       "</table>\n",
       "</div>"
      ],
      "text/plain": [
       "   Hemoglobin Appetite  appetite_dummy   pp_of_1\n",
       "0        11.2     poor               0  0.876533\n",
       "1         9.5     poor               0  0.645656\n",
       "2        10.8     poor               0  0.837535\n",
       "3         5.6     poor               0  0.074468\n",
       "4         7.7     poor               0  0.301535"
      ]
     },
     "execution_count": 45,
     "metadata": {},
     "output_type": "execute_result"
    }
   ],
   "source": [
    "hgb_predicted = hgb_app.copy()\n",
    "hgb_predicted['pp_of_1'] = pp_of_1\n",
    "hgb_predicted.head()"
   ]
  },
  {
   "cell_type": "markdown",
   "metadata": {},
   "source": [
    "Consider the last row in this data frame:"
   ]
  },
  {
   "cell_type": "code",
   "execution_count": 46,
   "metadata": {},
   "outputs": [
    {
     "data": {
      "text/html": [
       "<div>\n",
       "<style scoped>\n",
       "    .dataframe tbody tr th:only-of-type {\n",
       "        vertical-align: middle;\n",
       "    }\n",
       "\n",
       "    .dataframe tbody tr th {\n",
       "        vertical-align: top;\n",
       "    }\n",
       "\n",
       "    .dataframe thead th {\n",
       "        text-align: right;\n",
       "    }\n",
       "</style>\n",
       "<table border=\"1\" class=\"dataframe\">\n",
       "  <thead>\n",
       "    <tr style=\"text-align: right;\">\n",
       "      <th></th>\n",
       "      <th>Hemoglobin</th>\n",
       "      <th>Appetite</th>\n",
       "      <th>appetite_dummy</th>\n",
       "      <th>pp_of_1</th>\n",
       "    </tr>\n",
       "  </thead>\n",
       "  <tbody>\n",
       "    <tr>\n",
       "      <th>157</th>\n",
       "      <td>15.8</td>\n",
       "      <td>good</td>\n",
       "      <td>1</td>\n",
       "      <td>0.99646</td>\n",
       "    </tr>\n",
       "  </tbody>\n",
       "</table>\n",
       "</div>"
      ],
      "text/plain": [
       "     Hemoglobin Appetite  appetite_dummy  pp_of_1\n",
       "157        15.8     good               1  0.99646"
      ]
     },
     "execution_count": 46,
     "metadata": {},
     "output_type": "execute_result"
    }
   ],
   "source": [
    "last_row = hgb_predicted.tail(1)\n",
    "last_row"
   ]
  },
  {
   "cell_type": "markdown",
   "metadata": {},
   "source": [
    "The `pp_of_1` value is the probability that we will see a label of 1 for this\n",
    "observation.   The outcome was, in fact, 1.  Therefore the predicted\n",
    "probability that we will see the actual value is just the corresponding\n",
    "`pp_of_1` value:"
   ]
  },
  {
   "cell_type": "code",
   "execution_count": 47,
   "metadata": {},
   "outputs": [
    {
     "data": {
      "text/plain": [
       "0.9964597097790535"
      ]
     },
     "execution_count": 47,
     "metadata": {},
     "output_type": "execute_result"
    }
   ],
   "source": [
    "pp_of_last_value = pp_of_1.iloc[-1]\n",
    "pp_of_last_value"
   ]
  },
  {
   "cell_type": "markdown",
   "metadata": {},
   "source": [
    "Now consider the first row:"
   ]
  },
  {
   "cell_type": "code",
   "execution_count": 48,
   "metadata": {},
   "outputs": [
    {
     "data": {
      "text/html": [
       "<div>\n",
       "<style scoped>\n",
       "    .dataframe tbody tr th:only-of-type {\n",
       "        vertical-align: middle;\n",
       "    }\n",
       "\n",
       "    .dataframe tbody tr th {\n",
       "        vertical-align: top;\n",
       "    }\n",
       "\n",
       "    .dataframe thead th {\n",
       "        text-align: right;\n",
       "    }\n",
       "</style>\n",
       "<table border=\"1\" class=\"dataframe\">\n",
       "  <thead>\n",
       "    <tr style=\"text-align: right;\">\n",
       "      <th></th>\n",
       "      <th>Hemoglobin</th>\n",
       "      <th>Appetite</th>\n",
       "      <th>appetite_dummy</th>\n",
       "      <th>pp_of_1</th>\n",
       "    </tr>\n",
       "  </thead>\n",
       "  <tbody>\n",
       "    <tr>\n",
       "      <th>0</th>\n",
       "      <td>11.2</td>\n",
       "      <td>poor</td>\n",
       "      <td>0</td>\n",
       "      <td>0.876533</td>\n",
       "    </tr>\n",
       "  </tbody>\n",
       "</table>\n",
       "</div>"
      ],
      "text/plain": [
       "   Hemoglobin Appetite  appetite_dummy   pp_of_1\n",
       "0        11.2     poor               0  0.876533"
      ]
     },
     "execution_count": 48,
     "metadata": {},
     "output_type": "execute_result"
    }
   ],
   "source": [
    "first_row = hgb_predicted.head(1)\n",
    "first_row"
   ]
  },
  {
   "cell_type": "markdown",
   "metadata": {},
   "source": [
    "The probability for an `appetite_dummy` value of 1 is:"
   ]
  },
  {
   "cell_type": "code",
   "execution_count": 49,
   "metadata": {},
   "outputs": [
    {
     "data": {
      "text/plain": [
       "0.876532952434776"
      ]
     },
     "execution_count": 49,
     "metadata": {},
     "output_type": "execute_result"
    }
   ],
   "source": [
    "pp_of_1[0]"
   ]
  },
  {
   "cell_type": "markdown",
   "metadata": {},
   "source": [
    "Because the values can only be 0 or 1, the predicted probability of an\n",
    "`appetite_dummy` of 0 must be 1 minus the (predicted probability of 1):"
   ]
  },
  {
   "cell_type": "code",
   "execution_count": 50,
   "metadata": {},
   "outputs": [
    {
     "data": {
      "text/plain": [
       "0.12346704756522398"
      ]
     },
     "execution_count": 50,
     "metadata": {},
     "output_type": "execute_result"
    }
   ],
   "source": [
    "pp_of_first_value = 1 - pp_of_1[0]\n",
    "pp_of_first_value"
   ]
  },
  {
   "cell_type": "markdown",
   "metadata": {},
   "source": [
    "We can therefore calculate the predicted probability of each 0 / 1 label in the\n",
    "data frame like this:"
   ]
  },
  {
   "cell_type": "code",
   "execution_count": 51,
   "metadata": {},
   "outputs": [
    {
     "data": {
      "text/html": [
       "<div>\n",
       "<style scoped>\n",
       "    .dataframe tbody tr th:only-of-type {\n",
       "        vertical-align: middle;\n",
       "    }\n",
       "\n",
       "    .dataframe tbody tr th {\n",
       "        vertical-align: top;\n",
       "    }\n",
       "\n",
       "    .dataframe thead th {\n",
       "        text-align: right;\n",
       "    }\n",
       "</style>\n",
       "<table border=\"1\" class=\"dataframe\">\n",
       "  <thead>\n",
       "    <tr style=\"text-align: right;\">\n",
       "      <th></th>\n",
       "      <th>Hemoglobin</th>\n",
       "      <th>Appetite</th>\n",
       "      <th>appetite_dummy</th>\n",
       "      <th>pp_of_1</th>\n",
       "      <th>pp_of_label</th>\n",
       "    </tr>\n",
       "  </thead>\n",
       "  <tbody>\n",
       "    <tr>\n",
       "      <th>0</th>\n",
       "      <td>11.2</td>\n",
       "      <td>poor</td>\n",
       "      <td>0</td>\n",
       "      <td>0.876533</td>\n",
       "      <td>0.123467</td>\n",
       "    </tr>\n",
       "    <tr>\n",
       "      <th>1</th>\n",
       "      <td>9.5</td>\n",
       "      <td>poor</td>\n",
       "      <td>0</td>\n",
       "      <td>0.645656</td>\n",
       "      <td>0.354344</td>\n",
       "    </tr>\n",
       "    <tr>\n",
       "      <th>2</th>\n",
       "      <td>10.8</td>\n",
       "      <td>poor</td>\n",
       "      <td>0</td>\n",
       "      <td>0.837535</td>\n",
       "      <td>0.162465</td>\n",
       "    </tr>\n",
       "    <tr>\n",
       "      <th>3</th>\n",
       "      <td>5.6</td>\n",
       "      <td>poor</td>\n",
       "      <td>0</td>\n",
       "      <td>0.074468</td>\n",
       "      <td>0.925532</td>\n",
       "    </tr>\n",
       "    <tr>\n",
       "      <th>4</th>\n",
       "      <td>7.7</td>\n",
       "      <td>poor</td>\n",
       "      <td>0</td>\n",
       "      <td>0.301535</td>\n",
       "      <td>0.698465</td>\n",
       "    </tr>\n",
       "    <tr>\n",
       "      <th>...</th>\n",
       "      <td>...</td>\n",
       "      <td>...</td>\n",
       "      <td>...</td>\n",
       "      <td>...</td>\n",
       "      <td>...</td>\n",
       "    </tr>\n",
       "    <tr>\n",
       "      <th>153</th>\n",
       "      <td>15.7</td>\n",
       "      <td>good</td>\n",
       "      <td>1</td>\n",
       "      <td>0.996166</td>\n",
       "      <td>0.996166</td>\n",
       "    </tr>\n",
       "    <tr>\n",
       "      <th>154</th>\n",
       "      <td>16.5</td>\n",
       "      <td>good</td>\n",
       "      <td>1</td>\n",
       "      <td>0.997975</td>\n",
       "      <td>0.997975</td>\n",
       "    </tr>\n",
       "    <tr>\n",
       "      <th>155</th>\n",
       "      <td>15.8</td>\n",
       "      <td>good</td>\n",
       "      <td>1</td>\n",
       "      <td>0.996460</td>\n",
       "      <td>0.996460</td>\n",
       "    </tr>\n",
       "    <tr>\n",
       "      <th>156</th>\n",
       "      <td>14.2</td>\n",
       "      <td>good</td>\n",
       "      <td>1</td>\n",
       "      <td>0.987383</td>\n",
       "      <td>0.987383</td>\n",
       "    </tr>\n",
       "    <tr>\n",
       "      <th>157</th>\n",
       "      <td>15.8</td>\n",
       "      <td>good</td>\n",
       "      <td>1</td>\n",
       "      <td>0.996460</td>\n",
       "      <td>0.996460</td>\n",
       "    </tr>\n",
       "  </tbody>\n",
       "</table>\n",
       "<p>158 rows × 5 columns</p>\n",
       "</div>"
      ],
      "text/plain": [
       "     Hemoglobin Appetite  appetite_dummy   pp_of_1  pp_of_label\n",
       "0          11.2     poor               0  0.876533     0.123467\n",
       "1           9.5     poor               0  0.645656     0.354344\n",
       "2          10.8     poor               0  0.837535     0.162465\n",
       "3           5.6     poor               0  0.074468     0.925532\n",
       "4           7.7     poor               0  0.301535     0.698465\n",
       "..          ...      ...             ...       ...          ...\n",
       "153        15.7     good               1  0.996166     0.996166\n",
       "154        16.5     good               1  0.997975     0.997975\n",
       "155        15.8     good               1  0.996460     0.996460\n",
       "156        14.2     good               1  0.987383     0.987383\n",
       "157        15.8     good               1  0.996460     0.996460\n",
       "\n",
       "[158 rows x 5 columns]"
      ]
     },
     "execution_count": 51,
     "metadata": {},
     "output_type": "execute_result"
    }
   ],
   "source": [
    "# Predicted probability of 0.\n",
    "pp_of_0 = 1 - pp_of_1\n",
    "# The next line sets all the label == 1 values correctly, but\n",
    "# the label == 0 values are now incorrect.\n",
    "pp_of_label = pp_of_1.copy()\n",
    "# Set the label == 0 values correctly.\n",
    "poor_appetite = appetite_d == 0\n",
    "pp_of_label[poor_appetite] = pp_of_0[poor_appetite]\n",
    "# Put this into the data frame for display\n",
    "hgb_predicted['pp_of_label'] = pp_of_label\n",
    "hgb_predicted"
   ]
  },
  {
   "cell_type": "markdown",
   "metadata": {},
   "source": [
    "There's a fancy short-cut to the several lines above, that relies on the fact\n",
    "that multiplying by 0 gives 0.  We can form the `pp_of_label` column by first\n",
    "multiplying the 0 / 1 label column values by the values in `pp_of_1`.  This\n",
    "correctly sets the `pp_of_label` values for labels of 1, and sets the\n",
    "remainder to 0. Then we reverse the 0 / 1 labels by subtracting from 1, and\n",
    "multiply by `pp_of_0` to set the 0 values to their correct values.  Adding\n",
    "these two results gives us the correct set of values for both 1 and 0 labels."
   ]
  },
  {
   "cell_type": "code",
   "execution_count": 52,
   "metadata": {},
   "outputs": [
    {
     "data": {
      "text/html": [
       "<div>\n",
       "<style scoped>\n",
       "    .dataframe tbody tr th:only-of-type {\n",
       "        vertical-align: middle;\n",
       "    }\n",
       "\n",
       "    .dataframe tbody tr th {\n",
       "        vertical-align: top;\n",
       "    }\n",
       "\n",
       "    .dataframe thead th {\n",
       "        text-align: right;\n",
       "    }\n",
       "</style>\n",
       "<table border=\"1\" class=\"dataframe\">\n",
       "  <thead>\n",
       "    <tr style=\"text-align: right;\">\n",
       "      <th></th>\n",
       "      <th>Hemoglobin</th>\n",
       "      <th>Appetite</th>\n",
       "      <th>appetite_dummy</th>\n",
       "      <th>pp_of_1</th>\n",
       "      <th>pp_of_label</th>\n",
       "      <th>pp_of_label_fancy</th>\n",
       "    </tr>\n",
       "  </thead>\n",
       "  <tbody>\n",
       "    <tr>\n",
       "      <th>0</th>\n",
       "      <td>11.2</td>\n",
       "      <td>poor</td>\n",
       "      <td>0</td>\n",
       "      <td>0.876533</td>\n",
       "      <td>0.123467</td>\n",
       "      <td>0.123467</td>\n",
       "    </tr>\n",
       "    <tr>\n",
       "      <th>1</th>\n",
       "      <td>9.5</td>\n",
       "      <td>poor</td>\n",
       "      <td>0</td>\n",
       "      <td>0.645656</td>\n",
       "      <td>0.354344</td>\n",
       "      <td>0.354344</td>\n",
       "    </tr>\n",
       "    <tr>\n",
       "      <th>2</th>\n",
       "      <td>10.8</td>\n",
       "      <td>poor</td>\n",
       "      <td>0</td>\n",
       "      <td>0.837535</td>\n",
       "      <td>0.162465</td>\n",
       "      <td>0.162465</td>\n",
       "    </tr>\n",
       "    <tr>\n",
       "      <th>3</th>\n",
       "      <td>5.6</td>\n",
       "      <td>poor</td>\n",
       "      <td>0</td>\n",
       "      <td>0.074468</td>\n",
       "      <td>0.925532</td>\n",
       "      <td>0.925532</td>\n",
       "    </tr>\n",
       "    <tr>\n",
       "      <th>4</th>\n",
       "      <td>7.7</td>\n",
       "      <td>poor</td>\n",
       "      <td>0</td>\n",
       "      <td>0.301535</td>\n",
       "      <td>0.698465</td>\n",
       "      <td>0.698465</td>\n",
       "    </tr>\n",
       "    <tr>\n",
       "      <th>...</th>\n",
       "      <td>...</td>\n",
       "      <td>...</td>\n",
       "      <td>...</td>\n",
       "      <td>...</td>\n",
       "      <td>...</td>\n",
       "      <td>...</td>\n",
       "    </tr>\n",
       "    <tr>\n",
       "      <th>153</th>\n",
       "      <td>15.7</td>\n",
       "      <td>good</td>\n",
       "      <td>1</td>\n",
       "      <td>0.996166</td>\n",
       "      <td>0.996166</td>\n",
       "      <td>0.996166</td>\n",
       "    </tr>\n",
       "    <tr>\n",
       "      <th>154</th>\n",
       "      <td>16.5</td>\n",
       "      <td>good</td>\n",
       "      <td>1</td>\n",
       "      <td>0.997975</td>\n",
       "      <td>0.997975</td>\n",
       "      <td>0.997975</td>\n",
       "    </tr>\n",
       "    <tr>\n",
       "      <th>155</th>\n",
       "      <td>15.8</td>\n",
       "      <td>good</td>\n",
       "      <td>1</td>\n",
       "      <td>0.996460</td>\n",
       "      <td>0.996460</td>\n",
       "      <td>0.996460</td>\n",
       "    </tr>\n",
       "    <tr>\n",
       "      <th>156</th>\n",
       "      <td>14.2</td>\n",
       "      <td>good</td>\n",
       "      <td>1</td>\n",
       "      <td>0.987383</td>\n",
       "      <td>0.987383</td>\n",
       "      <td>0.987383</td>\n",
       "    </tr>\n",
       "    <tr>\n",
       "      <th>157</th>\n",
       "      <td>15.8</td>\n",
       "      <td>good</td>\n",
       "      <td>1</td>\n",
       "      <td>0.996460</td>\n",
       "      <td>0.996460</td>\n",
       "      <td>0.996460</td>\n",
       "    </tr>\n",
       "  </tbody>\n",
       "</table>\n",
       "<p>158 rows × 6 columns</p>\n",
       "</div>"
      ],
      "text/plain": [
       "     Hemoglobin Appetite  appetite_dummy   pp_of_1  pp_of_label  \\\n",
       "0          11.2     poor               0  0.876533     0.123467   \n",
       "1           9.5     poor               0  0.645656     0.354344   \n",
       "2          10.8     poor               0  0.837535     0.162465   \n",
       "3           5.6     poor               0  0.074468     0.925532   \n",
       "4           7.7     poor               0  0.301535     0.698465   \n",
       "..          ...      ...             ...       ...          ...   \n",
       "153        15.7     good               1  0.996166     0.996166   \n",
       "154        16.5     good               1  0.997975     0.997975   \n",
       "155        15.8     good               1  0.996460     0.996460   \n",
       "156        14.2     good               1  0.987383     0.987383   \n",
       "157        15.8     good               1  0.996460     0.996460   \n",
       "\n",
       "     pp_of_label_fancy  \n",
       "0             0.123467  \n",
       "1             0.354344  \n",
       "2             0.162465  \n",
       "3             0.925532  \n",
       "4             0.698465  \n",
       "..                 ...  \n",
       "153           0.996166  \n",
       "154           0.997975  \n",
       "155           0.996460  \n",
       "156           0.987383  \n",
       "157           0.996460  \n",
       "\n",
       "[158 rows x 6 columns]"
      ]
     },
     "execution_count": 52,
     "metadata": {},
     "output_type": "execute_result"
    }
   ],
   "source": [
    "# Set label == 1 values to predicted p, others to 0\n",
    "pos_ps = appetite_d * pp_of_1\n",
    "# Set label == 0 values to 1-predicted p, others to 0\n",
    "neg_ps = (1 - appetite_d) * pp_of_0\n",
    "# Combine by adding.\n",
    "final = pos_ps + neg_ps\n",
    "# This gives the same result as the code cell above:\n",
    "hgb_predicted['pp_of_label_fancy'] = final\n",
    "hgb_predicted"
   ]
  },
  {
   "cell_type": "markdown",
   "metadata": {},
   "source": [
    "We can do the whole cell above in one line:"
   ]
  },
  {
   "cell_type": "code",
   "execution_count": 53,
   "metadata": {},
   "outputs": [
    {
     "data": {
      "text/html": [
       "<div>\n",
       "<style scoped>\n",
       "    .dataframe tbody tr th:only-of-type {\n",
       "        vertical-align: middle;\n",
       "    }\n",
       "\n",
       "    .dataframe tbody tr th {\n",
       "        vertical-align: top;\n",
       "    }\n",
       "\n",
       "    .dataframe thead th {\n",
       "        text-align: right;\n",
       "    }\n",
       "</style>\n",
       "<table border=\"1\" class=\"dataframe\">\n",
       "  <thead>\n",
       "    <tr style=\"text-align: right;\">\n",
       "      <th></th>\n",
       "      <th>Hemoglobin</th>\n",
       "      <th>Appetite</th>\n",
       "      <th>appetite_dummy</th>\n",
       "      <th>pp_of_1</th>\n",
       "      <th>pp_of_label</th>\n",
       "      <th>pp_of_label_fancy</th>\n",
       "      <th>pp_again</th>\n",
       "    </tr>\n",
       "  </thead>\n",
       "  <tbody>\n",
       "    <tr>\n",
       "      <th>0</th>\n",
       "      <td>11.2</td>\n",
       "      <td>poor</td>\n",
       "      <td>0</td>\n",
       "      <td>0.876533</td>\n",
       "      <td>0.123467</td>\n",
       "      <td>0.123467</td>\n",
       "      <td>0.123467</td>\n",
       "    </tr>\n",
       "    <tr>\n",
       "      <th>1</th>\n",
       "      <td>9.5</td>\n",
       "      <td>poor</td>\n",
       "      <td>0</td>\n",
       "      <td>0.645656</td>\n",
       "      <td>0.354344</td>\n",
       "      <td>0.354344</td>\n",
       "      <td>0.354344</td>\n",
       "    </tr>\n",
       "    <tr>\n",
       "      <th>2</th>\n",
       "      <td>10.8</td>\n",
       "      <td>poor</td>\n",
       "      <td>0</td>\n",
       "      <td>0.837535</td>\n",
       "      <td>0.162465</td>\n",
       "      <td>0.162465</td>\n",
       "      <td>0.162465</td>\n",
       "    </tr>\n",
       "    <tr>\n",
       "      <th>3</th>\n",
       "      <td>5.6</td>\n",
       "      <td>poor</td>\n",
       "      <td>0</td>\n",
       "      <td>0.074468</td>\n",
       "      <td>0.925532</td>\n",
       "      <td>0.925532</td>\n",
       "      <td>0.925532</td>\n",
       "    </tr>\n",
       "    <tr>\n",
       "      <th>4</th>\n",
       "      <td>7.7</td>\n",
       "      <td>poor</td>\n",
       "      <td>0</td>\n",
       "      <td>0.301535</td>\n",
       "      <td>0.698465</td>\n",
       "      <td>0.698465</td>\n",
       "      <td>0.698465</td>\n",
       "    </tr>\n",
       "    <tr>\n",
       "      <th>...</th>\n",
       "      <td>...</td>\n",
       "      <td>...</td>\n",
       "      <td>...</td>\n",
       "      <td>...</td>\n",
       "      <td>...</td>\n",
       "      <td>...</td>\n",
       "      <td>...</td>\n",
       "    </tr>\n",
       "    <tr>\n",
       "      <th>153</th>\n",
       "      <td>15.7</td>\n",
       "      <td>good</td>\n",
       "      <td>1</td>\n",
       "      <td>0.996166</td>\n",
       "      <td>0.996166</td>\n",
       "      <td>0.996166</td>\n",
       "      <td>0.996166</td>\n",
       "    </tr>\n",
       "    <tr>\n",
       "      <th>154</th>\n",
       "      <td>16.5</td>\n",
       "      <td>good</td>\n",
       "      <td>1</td>\n",
       "      <td>0.997975</td>\n",
       "      <td>0.997975</td>\n",
       "      <td>0.997975</td>\n",
       "      <td>0.997975</td>\n",
       "    </tr>\n",
       "    <tr>\n",
       "      <th>155</th>\n",
       "      <td>15.8</td>\n",
       "      <td>good</td>\n",
       "      <td>1</td>\n",
       "      <td>0.996460</td>\n",
       "      <td>0.996460</td>\n",
       "      <td>0.996460</td>\n",
       "      <td>0.996460</td>\n",
       "    </tr>\n",
       "    <tr>\n",
       "      <th>156</th>\n",
       "      <td>14.2</td>\n",
       "      <td>good</td>\n",
       "      <td>1</td>\n",
       "      <td>0.987383</td>\n",
       "      <td>0.987383</td>\n",
       "      <td>0.987383</td>\n",
       "      <td>0.987383</td>\n",
       "    </tr>\n",
       "    <tr>\n",
       "      <th>157</th>\n",
       "      <td>15.8</td>\n",
       "      <td>good</td>\n",
       "      <td>1</td>\n",
       "      <td>0.996460</td>\n",
       "      <td>0.996460</td>\n",
       "      <td>0.996460</td>\n",
       "      <td>0.996460</td>\n",
       "    </tr>\n",
       "  </tbody>\n",
       "</table>\n",
       "<p>158 rows × 7 columns</p>\n",
       "</div>"
      ],
      "text/plain": [
       "     Hemoglobin Appetite  appetite_dummy   pp_of_1  pp_of_label  \\\n",
       "0          11.2     poor               0  0.876533     0.123467   \n",
       "1           9.5     poor               0  0.645656     0.354344   \n",
       "2          10.8     poor               0  0.837535     0.162465   \n",
       "3           5.6     poor               0  0.074468     0.925532   \n",
       "4           7.7     poor               0  0.301535     0.698465   \n",
       "..          ...      ...             ...       ...          ...   \n",
       "153        15.7     good               1  0.996166     0.996166   \n",
       "154        16.5     good               1  0.997975     0.997975   \n",
       "155        15.8     good               1  0.996460     0.996460   \n",
       "156        14.2     good               1  0.987383     0.987383   \n",
       "157        15.8     good               1  0.996460     0.996460   \n",
       "\n",
       "     pp_of_label_fancy  pp_again  \n",
       "0             0.123467  0.123467  \n",
       "1             0.354344  0.354344  \n",
       "2             0.162465  0.162465  \n",
       "3             0.925532  0.925532  \n",
       "4             0.698465  0.698465  \n",
       "..                 ...       ...  \n",
       "153           0.996166  0.996166  \n",
       "154           0.997975  0.997975  \n",
       "155           0.996460  0.996460  \n",
       "156           0.987383  0.987383  \n",
       "157           0.996460  0.996460  \n",
       "\n",
       "[158 rows x 7 columns]"
      ]
     },
     "execution_count": 53,
     "metadata": {},
     "output_type": "execute_result"
    }
   ],
   "source": [
    "# Compact version of pp of label calculation.\n",
    "final_again = appetite_d * pp_of_1 + (1 - appetite_d) * (1 - pp_of_1)\n",
    "hgb_predicted['pp_again'] = final_again\n",
    "hgb_predicted"
   ]
  },
  {
   "cell_type": "markdown",
   "metadata": {},
   "source": [
    "When the `pp_of_label` values are near 1, this means the result was close to the prediction.  When they are near 0, it means the result was unlike the prediction.\n",
    "\n",
    "Now we know the probabilities of each actual 0 and 1 label, we can get a\n",
    "measure of how *likely* the *combination* of all these labels are, given these\n",
    "predictions. We do this by *multiplying* all the probabilities in\n",
    "`pp_of_label`.  When the probabilities in `pp_of_label` are all fairly near 1,\n",
    "multiplying them will give a number that is not very small.  When some or many\n",
    "of the probabilities are close to 0, the multiplication will generate a very\n",
    "small number.\n",
    "\n",
    "The result of this multiplication is called the *likelihood* of this set of\n",
    "labels, given the predictions.\n",
    "\n",
    "If the predictions are closer to the actual values, the likelihood will be\n",
    "larger, and closer to 1.  When the predictions are not close, the likelihood\n",
    "will be low, and closer to 0.\n",
    "\n",
    "Here is the likelihood for our intercept of -7 and slope of 0.8."
   ]
  },
  {
   "cell_type": "code",
   "execution_count": 54,
   "metadata": {},
   "outputs": [
    {
     "data": {
      "text/plain": [
       "1.463854029404182e-13"
      ]
     },
     "execution_count": 54,
     "metadata": {},
     "output_type": "execute_result"
    }
   ],
   "source": [
    "# np.prod multiplies each number to give the product of all the numbers.\n",
    "likelihood = np.prod(pp_of_label)\n",
    "likelihood"
   ]
  },
  {
   "cell_type": "markdown",
   "metadata": {},
   "source": [
    "This is a very small number.  Likelihoods are often close to 0 with a\n",
    "reasonable number of points, and somewhat inexact prediction, because there\n",
    "tend to be a reasonable number of small p values in `pp_of_labels`.  The\n",
    "question is - do other values for the intercept and slope give smaller or\n",
    "larger values for the likelihood?\n",
    "\n",
    "We can put this *likelihood* scoring into our cost function, instead of using\n",
    "scoring with the sum of squares.\n",
    "\n",
    "One wrinkle is that we want our cost function value to be *lower* when the line\n",
    "is a good predictor, but the likelihood is *higher* when the line is a good\n",
    "predictor. We solve this simply by sticking a minus on the likelihood before we\n",
    "return from the cost function. This makes `minimize` find the parameters giving\n",
    "the *minimum* of the *negative likelihood*, and therefore, the *maximum\n",
    "likelihood* (ML)."
   ]
  },
  {
   "cell_type": "code",
   "execution_count": 55,
   "metadata": {},
   "outputs": [],
   "source": [
    "def simple_ml_logit_cost(intercept_and_slope, x, y):\n",
    "    \"\"\" Simple version of cost function for maximum likelihood\n",
    "    \"\"\"\n",
    "    intercept, slope = intercept_and_slope\n",
    "    # Make predictions for sigmoid.\n",
    "    predicted_log_odds = intercept + slope * x\n",
    "    pp_of_1 = inv_logit(predicted_log_odds)\n",
    "    # Calculate predicted probabilities of actual labels.\n",
    "    pp_of_labels = y * pp_of_1 + (1 - y) * (1 - pp_of_1)\n",
    "    likelihood = np.prod(pp_of_labels)\n",
    "    # Ask minimize to find maximum by adding minus sign.\n",
    "    return -likelihood"
   ]
  },
  {
   "cell_type": "markdown",
   "metadata": {},
   "source": [
    "We can try that cost function, starting at our familiar intercept of -7 and\n",
    "slope of 0.8.\n",
    "\n",
    "Before we do, there is one extra wrinkle, that we will solve in another way\n",
    "further down the notebook.  At the moment the likelihood values we are\n",
    "returning are very small - in the order of $10^{-13}$.  We expect scores for\n",
    "different plausible lines to differ from each other by an even smaller number.\n",
    "By default, `minimize` will treat these very small differences as\n",
    "insignificant.  We can tell `minimize` to pay attention to these tiny\n",
    "differences by passing a very small value to the `tol` parameter (`tol` for\n",
    "*tolerance*)."
   ]
  },
  {
   "cell_type": "code",
   "execution_count": 56,
   "metadata": {},
   "outputs": [
    {
     "data": {
      "text/plain": [
       "      fun: -2.150310634791204e-13\n",
       " hess_inv: array([[ 1.28014172e+13, -1.19764030e+12],\n",
       "       [-1.19764030e+12,  1.16560857e+11]])\n",
       "      jac: array([7.22180291e-18, 7.67259384e-17])\n",
       "  message: 'Optimization terminated successfully.'\n",
       "     nfev: 222\n",
       "      nit: 53\n",
       "     njev: 74\n",
       "   status: 0\n",
       "  success: True\n",
       "        x: array([-7.29187252,  0.79915478])"
      ]
     },
     "execution_count": 56,
     "metadata": {},
     "output_type": "execute_result"
    }
   ],
   "source": [
    "mr_ML = minimize(simple_ml_logit_cost,  # Cost function\n",
    "                 [-7, 0.8],  # Guessed intercept and slope\n",
    "                 args=(hemoglobin, appetite_d),  # x and y values\n",
    "                 tol=1e-16)  # Attend to tiny changes in cost function values.\n",
    "# Show the result.\n",
    "mr_ML"
   ]
  },
  {
   "cell_type": "markdown",
   "metadata": {},
   "source": [
    "`minimize` complains that it was not happy with the numerical accuracy of its\n",
    "answer, and we will address that soon.  For now, let us look at the predictions\n",
    "to see if they are reasonable."
   ]
  },
  {
   "cell_type": "code",
   "execution_count": 57,
   "metadata": {},
   "outputs": [],
   "source": [
    "inter_ML, slope_ML = mr_ML.x\n",
    "predicted_ML = inv_logit(inter_ML + slope_ML * hemoglobin)"
   ]
  },
  {
   "cell_type": "code",
   "execution_count": 58,
   "metadata": {
    "tags": [
     "hide-cell"
    ]
   },
   "outputs": [
    {
     "data": {
      "image/png": "[encoded data removed]",
      "text/plain": [
       "<Figure size 432x288 with 1 Axes>"
      ]
     },
     "metadata": {},
     "output_type": "display_data"
    }
   ],
   "source": [
    "plot_hgb_app()\n",
    "plt.scatter(hemoglobin, predicted_ML, c='gold', label='ML prediction')\n",
    "plt.legend();"
   ]
  },
  {
   "cell_type": "markdown",
   "metadata": {},
   "source": [
    "## A computation trick for the likelihood\n",
    "\n",
    "As you have seen, the likelihood values can be, and often are, very small, and\n",
    "close to zero.\n",
    "\n",
    "You may also know that standard numerical calculations on computers are not\n",
    "completely precise; the calculations are only accurate to around 16 decimal\n",
    "places.  This is because of the way computers store floating point numbers.\n",
    "You can find more detail in [this page on floating point\n",
    "numbers](http://matthew-brett.github.io/teaching/floating_point.html).\n",
    "\n",
    "The combination of small likelihood values, and limited calculation precision,\n",
    "can be a problem for the simple ML logistic cost function you see above.  As a\n",
    "result, practical implementations of logistic regression use an extra trick to\n",
    "improve the calculation accuracy of the likelihoods.\n",
    "\n",
    "This trick also involves logarithms.\n",
    "\n",
    "Here we show a very important property of the logarithm transform:"
   ]
  },
  {
   "cell_type": "code",
   "execution_count": 59,
   "metadata": {},
   "outputs": [
    {
     "name": "stdout",
     "output_type": "stream",
     "text": [
      "Multiplying two numbers 165\n",
      "Take logs, add logs, unlog 165.00000000000009\n"
     ]
    }
   ],
   "source": [
    "print('Multiplying two numbers', 11 * 15)\n",
    "print('Take logs, add logs, unlog', np.exp(np.log(11) + np.log(15)))"
   ]
  },
  {
   "cell_type": "markdown",
   "metadata": {},
   "source": [
    "What you see here is that we get (almost) the same answer if we:\n",
    "\n",
    "* Multiply two numbers OR\n",
    "* If we take the logs of the two numbers, *add them*, then reverse the log\n",
    "  operation, in the this case with `np.exp`.\n",
    "\n",
    "We get *almost* the same number because of the limitations of the precision of\n",
    "the calculations.  For our cases, we do not need to worry about these tiny\n",
    "differences.\n",
    "\n",
    "The log-add-unlog trick means that we can replace multiplication by addition,\n",
    "if we take the logs of the values.\n",
    "\n",
    "Here we do the same trick on an array of numbers:"
   ]
  },
  {
   "cell_type": "code",
   "execution_count": 60,
   "metadata": {},
   "outputs": [
    {
     "name": "stdout",
     "output_type": "stream",
     "text": [
      "Product of the array 49.5\n",
      "Log-add-unlog on the array 49.500000000000036\n"
     ]
    }
   ],
   "source": [
    "some_numbers = np.array([11, 15, 1, 0.3])\n",
    "print('Product of the array', np.prod(some_numbers))\n",
    "print('Log-add-unlog on the array', np.exp(np.sum(np.log(some_numbers))))"
   ]
  },
  {
   "cell_type": "markdown",
   "metadata": {},
   "source": [
    "We can use this same trick to calculate our likelihood by adding logs instead\n",
    "of multiplying the probabilities directly:"
   ]
  },
  {
   "cell_type": "code",
   "execution_count": 61,
   "metadata": {},
   "outputs": [
    {
     "name": "stdout",
     "output_type": "stream",
     "text": [
      "Likelihood with product of array 1.463854029404182e-13\n",
      "Likelihood with log-add-unlog 1.4638540294041883e-13\n"
     ]
    }
   ],
   "source": [
    "print('Likelihood with product of array', np.prod(pp_of_label))\n",
    "# The log-add-unlog version.\n",
    "logs_of_pp = np.log(pp_of_label)\n",
    "log_likelihood = np.sum(logs_of_pp)\n",
    "print('Likelihood with log-add-unlog', np.exp(log_likelihood))"
   ]
  },
  {
   "cell_type": "markdown",
   "metadata": {},
   "source": [
    "This doesn't seem to have solved all our problem, because we still end up with\n",
    "the type of tiny number that confuses `minimize`.\n",
    "\n",
    "The next stage of the solution is to realize that the `minimize` does not need\n",
    "the *actual likelihood*, it needs some number that goes *up or down in exactly\n",
    "the same way as likelihood*.  If the cost function can return some number that\n",
    "goes up when likelihood goes up, and goes down when likelihood goes down,\n",
    "`minimize` will still find the same parameters to minimize this cost function.\n",
    "\n",
    "Specifically we want the value that comes back from the cost function to vary\n",
    "[monotonically](https://en.wikipedia.org/wiki/Monotonic_function) with respect\n",
    "to the likelihood.  Consider any two pairs of (intercept, slope). Call the\n",
    "first pair `p1` and the second pair `p2`.  Say `p1` gives a likelihood value of\n",
    "`L1` and `p2` gives a likelihood value of `L2`. Now say we've got another way\n",
    "of calculating a value for `p1` and `p2`, and the corresponding values that\n",
    "come back from the new calculation are `N1` and `N2`.  Remember `miminize` is\n",
    "searching for the (intercept, slope) pair that gives the lowest value from the\n",
    "cost function.  So, we can swap the new calculation into our cost function, and\n",
    "get the same parameters back from `miminize`, as long as it is always true\n",
    "that:\n",
    "\n",
    "* when `L1 > L2` then `N1 > N2`;\n",
    "* when `L1 < L2` then `N1 < N2`; and\n",
    "* when `L1 == L2`, `N1 == N2`.\n",
    "\n",
    "In that case we call our new calculation generating `N1` and `N2` *monotonic*\n",
    "with respect to the original calculation generating `L1` and `L2`.  In our case\n",
    "this original calculation is likelihood. The new monotonic calculation is the\n",
    "*log likelihood*.\n",
    "\n",
    "In the plot below, you can see it is true that when the likelihood goes up,\n",
    "then the log of the likelihood will also go up, and vice versa, so the log the\n",
    "likelihood *is* monotonic with respect to the likelihood, and we can use it\n",
    "instead of the likelihood, in our cost function."
   ]
  },
  {
   "cell_type": "code",
   "execution_count": 62,
   "metadata": {},
   "outputs": [
    {
     "name": "stderr",
     "output_type": "stream",
     "text": [
      "<ipython-input-62-e831d14c95fa>:2: RuntimeWarning: divide by zero encountered in log\n",
      "  plt.plot(likelihood_values, np.log(likelihood_values))\n"
     ]
    },
    {
     "data": {
      "image/png": "[encoded data removed]",
      "text/plain": [
       "<Figure size 432x288 with 1 Axes>"
      ]
     },
     "metadata": {},
     "output_type": "display_data"
    }
   ],
   "source": [
    "likelihood_values = np.linspace(0, 1, 1000)\n",
    "plt.plot(likelihood_values, np.log(likelihood_values))\n",
    "plt.xlabel('Likelihood')\n",
    "plt.ylabel('Log likelihood');"
   ]
  },
  {
   "cell_type": "markdown",
   "metadata": {},
   "source": [
    "This means that our cost function does not have to do the last nasty unlog step\n",
    "above, that generates the tiny value for likelihood.  We can just return the\n",
    "(minus of the) log of the likelihood.  The log of the likelihood turns out to\n",
    "be a manageable negative number, even when the resulting likelihood is tiny."
   ]
  },
  {
   "cell_type": "code",
   "execution_count": 63,
   "metadata": {},
   "outputs": [
    {
     "data": {
      "text/plain": [
       "-29.552533505045645"
      ]
     },
     "execution_count": 63,
     "metadata": {},
     "output_type": "execute_result"
    }
   ],
   "source": [
    "log_likelihood"
   ]
  },
  {
   "cell_type": "markdown",
   "metadata": {},
   "source": [
    "This trick gives us a much more tractable number to return from the cost\n",
    "function, because the log likelihood is much less affected by errors from lack\n",
    "of precision in the calculation."
   ]
  },
  {
   "cell_type": "code",
   "execution_count": 64,
   "metadata": {},
   "outputs": [],
   "source": [
    "def mll_logit_cost(intercept_and_slope, x, y):\n",
    "    \"\"\" Cost function for maximum log likelihood\n",
    "\n",
    "    Return minus of the log of the likelihood.\n",
    "    \"\"\"\n",
    "    intercept, slope = intercept_and_slope\n",
    "    # Make predictions for sigmoid.\n",
    "    predicted_log_odds = intercept + slope * x\n",
    "    pp_of_1 = inv_logit(predicted_log_odds)\n",
    "    # Calculate predicted probabilities of actual labels.\n",
    "    pp_of_labels = y * pp_of_1 + (1 - y) * (1 - pp_of_1)\n",
    "    # Use logs to calculate log of the likelihood\n",
    "    log_likelihood = np.sum(np.log(pp_of_labels))\n",
    "    # Ask minimize to find maximum by adding minus sign.\n",
    "    return -log_likelihood"
   ]
  },
  {
   "cell_type": "markdown",
   "metadata": {},
   "source": [
    "Use the new cost function:"
   ]
  },
  {
   "cell_type": "code",
   "execution_count": 65,
   "metadata": {},
   "outputs": [
    {
     "data": {
      "text/plain": [
       "      fun: 29.167993895856846\n",
       " hess_inv: array([[ 2.75031047, -0.2573524 ],\n",
       "       [-0.2573524 ,  0.02512231]])\n",
       "      jac: array([2.38418579e-07, 0.00000000e+00])\n",
       "  message: 'Optimization terminated successfully.'\n",
       "     nfev: 27\n",
       "      nit: 7\n",
       "     njev: 9\n",
       "   status: 0\n",
       "  success: True\n",
       "        x: array([-7.29187319,  0.79915447])"
      ]
     },
     "execution_count": 65,
     "metadata": {},
     "output_type": "execute_result"
    }
   ],
   "source": [
    "mr_MLL = minimize(mll_logit_cost,  # Cost function\n",
    "                  [-7, 0.8],  # Guessed intercept and slope\n",
    "                  args=(hemoglobin, appetite_d),  # x and y values\n",
    "                  )\n",
    "# Show the result.\n",
    "mr_MLL"
   ]
  },
  {
   "cell_type": "markdown",
   "metadata": {},
   "source": [
    "Notice that we did not have to tell `minimize` to use a very small value for\n",
    "the tolerance this time.\n",
    "\n",
    "The values that come back are very similar to our previous, more fragile\n",
    "version that used the likelihood:"
   ]
  },
  {
   "cell_type": "code",
   "execution_count": 66,
   "metadata": {},
   "outputs": [],
   "source": [
    "inter_MLL, slope_MLL = mr_MLL.x\n",
    "predicted_MLL = inv_logit(inter_MLL + slope_MLL * hemoglobin)"
   ]
  },
  {
   "cell_type": "code",
   "execution_count": 67,
   "metadata": {
    "tags": [
     "hide-cell"
    ]
   },
   "outputs": [
    {
     "data": {
      "image/png": "[encoded data removed]",
      "text/plain": [
       "<Figure size 432x288 with 1 Axes>"
      ]
     },
     "metadata": {},
     "output_type": "display_data"
    }
   ],
   "source": [
    "plot_hgb_app()\n",
    "plt.scatter(hemoglobin, predicted_ML, c='gold', label='MLL prediction')\n",
    "plt.title('Maximum log likelihood cost function')\n",
    "plt.legend();"
   ]
  },
  {
   "cell_type": "markdown",
   "metadata": {},
   "source": [
    "You have just seen the standard calculations behind most packages that\n",
    "implement logistic regression.\n",
    "\n",
    "To show this is standard, let us do the same regression in Statsmodels"
   ]
  },
  {
   "cell_type": "markdown",
   "metadata": {},
   "source": [
    "## Logistic Regression with Statsmodes\n",
    "\n",
    "As with linear regression, we can easily perform logistic regression using\n",
    "Statsmodels."
   ]
  },
  {
   "cell_type": "code",
   "execution_count": 68,
   "metadata": {},
   "outputs": [],
   "source": [
    "# Get the formula interface for Statsmodels\n",
    "import statsmodels.formula.api as smf"
   ]
  },
  {
   "cell_type": "code",
   "execution_count": 69,
   "metadata": {},
   "outputs": [
    {
     "name": "stdout",
     "output_type": "stream",
     "text": [
      "Optimization terminated successfully.\n",
      "         Current function value: 0.184608\n",
      "         Iterations 8\n"
     ]
    },
    {
     "data": {
      "text/html": [
       "<table class=\"simpletable\">\n",
       "<caption>Logit Regression Results</caption>\n",
       "<tr>\n",
       "  <th>Dep. Variable:</th>    <td>appetite_dummy</td>  <th>  No. Observations:  </th>  <td>   158</td>  \n",
       "</tr>\n",
       "<tr>\n",
       "  <th>Model:</th>                 <td>Logit</td>      <th>  Df Residuals:      </th>  <td>   156</td>  \n",
       "</tr>\n",
       "<tr>\n",
       "  <th>Method:</th>                 <td>MLE</td>       <th>  Df Model:          </th>  <td>     1</td>  \n",
       "</tr>\n",
       "<tr>\n",
       "  <th>Date:</th>            <td>Mon, 12 Apr 2021</td> <th>  Pseudo R-squ.:     </th>  <td>0.4976</td>  \n",
       "</tr>\n",
       "<tr>\n",
       "  <th>Time:</th>                <td>12:09:54</td>     <th>  Log-Likelihood:    </th> <td> -29.168</td> \n",
       "</tr>\n",
       "<tr>\n",
       "  <th>converged:</th>             <td>True</td>       <th>  LL-Null:           </th> <td> -58.054</td> \n",
       "</tr>\n",
       "<tr>\n",
       "  <th>Covariance Type:</th>     <td>nonrobust</td>    <th>  LLR p-value:       </th> <td>2.944e-14</td>\n",
       "</tr>\n",
       "</table>\n",
       "<table class=\"simpletable\">\n",
       "<tr>\n",
       "       <td></td>         <th>coef</th>     <th>std err</th>      <th>z</th>      <th>P>|z|</th>  <th>[0.025</th>    <th>0.975]</th>  \n",
       "</tr>\n",
       "<tr>\n",
       "  <th>Intercept</th>  <td>   -7.2919</td> <td>    1.659</td> <td>   -4.396</td> <td> 0.000</td> <td>  -10.543</td> <td>   -4.041</td>\n",
       "</tr>\n",
       "<tr>\n",
       "  <th>Hemoglobin</th> <td>    0.7992</td> <td>    0.158</td> <td>    5.042</td> <td> 0.000</td> <td>    0.489</td> <td>    1.110</td>\n",
       "</tr>\n",
       "</table>"
      ],
      "text/plain": [
       "<class 'statsmodels.iolib.summary.Summary'>\n",
       "\"\"\"\n",
       "                           Logit Regression Results                           \n",
       "==============================================================================\n",
       "Dep. Variable:         appetite_dummy   No. Observations:                  158\n",
       "Model:                          Logit   Df Residuals:                      156\n",
       "Method:                           MLE   Df Model:                            1\n",
       "Date:                Mon, 12 Apr 2021   Pseudo R-squ.:                  0.4976\n",
       "Time:                        12:09:54   Log-Likelihood:                -29.168\n",
       "converged:                       True   LL-Null:                       -58.054\n",
       "Covariance Type:            nonrobust   LLR p-value:                 2.944e-14\n",
       "==============================================================================\n",
       "                 coef    std err          z      P>|z|      [0.025      0.975]\n",
       "------------------------------------------------------------------------------\n",
       "Intercept     -7.2919      1.659     -4.396      0.000     -10.543      -4.041\n",
       "Hemoglobin     0.7992      0.158      5.042      0.000       0.489       1.110\n",
       "==============================================================================\n",
       "\"\"\""
      ]
     },
     "execution_count": 69,
     "metadata": {},
     "output_type": "execute_result"
    }
   ],
   "source": [
    "# Create the model.\n",
    "log_reg_mod = smf.logit('appetite_dummy ~ Hemoglobin', data=hgb_app)\n",
    "# Fit it.\n",
    "fitted_log_reg_mod = log_reg_mod.fit()\n",
    "fitted_log_reg_mod.summary()"
   ]
  },
  {
   "cell_type": "markdown",
   "metadata": {},
   "source": [
    "Notice that Statsmodels lists the \"Model\" as \"Logit\" and the \"Method\" as \"MLE\"\n",
    "— Maximum Likelihood Estimation.\n",
    "\n",
    "Look at the table above under 'coef'. Compare the logistic regression intercept\n",
    "and slope that Statsmodels found to the ones we got from `minimize` and the\n",
    "maximum log likelihood (MLL) cost function."
   ]
  },
  {
   "cell_type": "code",
   "execution_count": 70,
   "metadata": {},
   "outputs": [
    {
     "name": "stdout",
     "output_type": "stream",
     "text": [
      "Intercept from minimize = -7.291873189544533\n",
      "Slope from minimize = 0.7991544697361764\n"
     ]
    }
   ],
   "source": [
    "print('Intercept from minimize =', inter_MLL)\n",
    "print('Slope from minimize =', slope_MLL)"
   ]
  },
  {
   "cell_type": "markdown",
   "metadata": {},
   "source": [
    "Finally, we can use the `predict` method of Statsmodels to generate predicted\n",
    "probabilities from the logistic regression model we have just fitted:"
   ]
  },
  {
   "cell_type": "code",
   "execution_count": 71,
   "metadata": {},
   "outputs": [
    {
     "data": {
      "text/plain": [
       "0    0.840058\n",
       "1    0.574466\n",
       "2    0.792325\n",
       "3    0.056433\n",
       "4    0.242617\n",
       "dtype: float64"
      ]
     },
     "execution_count": 71,
     "metadata": {},
     "output_type": "execute_result"
    }
   ],
   "source": [
    "sm_predictions = fitted_log_reg_mod.predict(hgb_app['Hemoglobin'])\n",
    "sm_predictions.head()"
   ]
  },
  {
   "cell_type": "markdown",
   "metadata": {},
   "source": [
    "Let us plot the predicted probabilities of having \"good\" appetite, from\n",
    "Statsmodels:"
   ]
  },
  {
   "cell_type": "code",
   "execution_count": 72,
   "metadata": {
    "tags": [
     "hide-cell"
    ]
   },
   "outputs": [
    {
     "data": {
      "image/png": "[encoded data removed]",
      "text/plain": [
       "<Figure size 432x288 with 1 Axes>"
      ]
     },
     "metadata": {},
     "output_type": "display_data"
    }
   ],
   "source": [
    "plot_hgb_app()\n",
    "plt.scatter(hemoglobin, sm_predictions,\n",
    "            label = 'Statsmodels p', color = 'cyan')\n",
    "plt.legend();"
   ]
  },
  {
   "cell_type": "markdown",
   "metadata": {},
   "source": [
    "We can see graphically that these predictions look identical to the ones we\n",
    "obtained from minimize.\n",
    "\n",
    "Let us see what the largest absolute difference between the predictions from\n",
    "the two methods is:"
   ]
  },
  {
   "cell_type": "code",
   "execution_count": 73,
   "metadata": {},
   "outputs": [
    {
     "data": {
      "text/plain": [
       "7.954712916147244e-08"
      ]
     },
     "execution_count": 73,
     "metadata": {},
     "output_type": "execute_result"
    }
   ],
   "source": [
    "np.max(np.abs(predicted_MLL - sm_predictions))"
   ]
  },
  {
   "cell_type": "markdown",
   "metadata": {},
   "source": [
    "That is very close to 0. The models are making almost identical predictions."
   ]
  },
  {
   "cell_type": "markdown",
   "metadata": {},
   "source": [
    "## Summary\n",
    "\n",
    "This tutorial has shown you how to do binary logistic regression with one numerical predictor variable.\n"
   ]
  },
  {
   "cell_type": "markdown",
   "metadata": {},
   "source": [
    "## Exercises for reflection\n",
    "\n",
    "You might want to read the [logarithm refresher](logarithms_refreshed) page for\n",
    "these questions.\n",
    "\n",
    "* Consider the expression `np.exp(y)` in the `inv_logit` expression above.\n",
    "  This means \"raise `np.e` to the power of the values in `y`\", and could\n",
    "  equally well be written as `np.e ** y` (it would give exactly the same\n",
    "  result).  Now consider changing `np.exp(y)` to `10 ** y`.  Now we are working\n",
    "  in base 10 instead of base `np.e`.  What would happen to:\n",
    "\n",
    "  * The best-fit p values predictions returned via `minimize`?\n",
    "  * The slope and intercept of the best-fit log-odds straight line?\n",
    "\n",
    "  Reflect, using the reasoning here, then try it and see.\n",
    "\n",
    "* Consider the expression `np.sum(np.log(pp_of_labels))` in the\n",
    "  `mll_logit_cost` cost function.  This is using `np.log`, which is log to the\n",
    "  base `np.e`.  Consider what would happen if you change this expression to\n",
    "  `np.sum(np.log10(pp_of_labels))` (log to the base 10).  What would happen to:\n",
    "\n",
    "  * The best-fit p values predictions returned via `minimize`?\n",
    "  * The slope and intercept of the best-fit log-odds straight line?\n",
    "\n",
    "  Reflect, using the reasoning here, then try it and see."
   ]
  }
 ],
 "metadata": {
  "jupytext": {
   "notebook_metadata_filter": "all,-language_info",
   "split_at_heading": true
  },
  "kernelspec": {
   "display_name": "Python 3",
   "language": "python",
   "name": "python3"
  },
  "language_info": {
   "codemirror_mode": {
    "name": "ipython",
    "version": 3
   },
   "file_extension": ".py",
   "mimetype": "text/x-python",
   "name": "python",
   "nbconvert_exporter": "python",
   "pygments_lexer": "ipython3",
   "version": "3.8.9"
  }
 },
 "nbformat": 4,
 "nbformat_minor": 4
}
